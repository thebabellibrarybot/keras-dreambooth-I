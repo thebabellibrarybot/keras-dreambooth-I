{
  "cells": [
    {
      "cell_type": "code",
      "execution_count": null,
      "metadata": {
        "colab": {
          "base_uri": "https://localhost:8080/"
        },
        "id": "CDphmGKNj5Yf",
        "outputId": "4bda7b0c-13bb-4cc1-e0e8-45cdbfb33c37"
      },
      "outputs": [
        {
          "output_type": "stream",
          "name": "stdout",
          "text": [
            "  Installing build dependencies ... \u001b[?25l\u001b[?25hdone\n",
            "  Getting requirements to build wheel ... \u001b[?25l\u001b[?25hdone\n",
            "  Installing backend dependencies ... \u001b[?25l\u001b[?25hdone\n",
            "  Preparing metadata (pyproject.toml) ... \u001b[?25l\u001b[?25hdone\n",
            "\u001b[2K     \u001b[90m━━━━━━━━━━━━━━━━━━━━━━━━━━━━━━━━━━━━━━\u001b[0m \u001b[32m595.3/595.3 kB\u001b[0m \u001b[31m15.9 MB/s\u001b[0m eta \u001b[36m0:00:00\u001b[0m\n",
            "\u001b[2K     \u001b[90m━━━━━━━━━━━━━━━━━━━━━━━━━━━━━━━━━━━━━━━━\u001b[0m \u001b[32m3.4/3.4 MB\u001b[0m \u001b[31m86.8 MB/s\u001b[0m eta \u001b[36m0:00:00\u001b[0m\n",
            "\u001b[2K     \u001b[90m━━━━━━━━━━━━━━━━━━━━━━━━━━━━━━━━━━━━━━━━\u001b[0m \u001b[32m2.0/2.0 MB\u001b[0m \u001b[31m81.3 MB/s\u001b[0m eta \u001b[36m0:00:00\u001b[0m\n",
            "\u001b[2K     \u001b[90m━━━━━━━━━━━━━━━━━━━━━━━━━━━━━━━━━━━━━━\u001b[0m \u001b[32m184.3/184.3 kB\u001b[0m \u001b[31m22.2 MB/s\u001b[0m eta \u001b[36m0:00:00\u001b[0m\n",
            "\u001b[2K     \u001b[90m━━━━━━━━━━━━━━━━━━━━━━━━━━━━━━━━━━━━━━\u001b[0m \u001b[32m203.3/203.3 kB\u001b[0m \u001b[31m23.8 MB/s\u001b[0m eta \u001b[36m0:00:00\u001b[0m\n",
            "\u001b[?25h  Preparing metadata (setup.py) ... \u001b[?25l\u001b[?25hdone\n",
            "\u001b[2K     \u001b[90m━━━━━━━━━━━━━━━━━━━━━━━━━━━━━━━━━━━━━━━━\u001b[0m \u001b[32m62.7/62.7 kB\u001b[0m \u001b[31m8.7 MB/s\u001b[0m eta \u001b[36m0:00:00\u001b[0m\n",
            "\u001b[?25h  Building wheel for dreambooth-keras (pyproject.toml) ... \u001b[?25l\u001b[?25hdone\n",
            "  Building wheel for pathtools (setup.py) ... \u001b[?25l\u001b[?25hdone\n",
            "Looking in indexes: https://pypi.org/simple, https://us-python.pkg.dev/colab-wheels/public/simple/\n",
            "Requirement already satisfied: wandb in /usr/local/lib/python3.10/dist-packages (0.15.2)\n",
            "Requirement already satisfied: Click!=8.0.0,>=7.0 in /usr/local/lib/python3.10/dist-packages (from wandb) (8.1.3)\n",
            "Requirement already satisfied: GitPython!=3.1.29,>=1.0.0 in /usr/local/lib/python3.10/dist-packages (from wandb) (3.1.31)\n",
            "Requirement already satisfied: requests<3,>=2.0.0 in /usr/local/lib/python3.10/dist-packages (from wandb) (2.27.1)\n",
            "Requirement already satisfied: psutil>=5.0.0 in /usr/local/lib/python3.10/dist-packages (from wandb) (5.9.5)\n",
            "Requirement already satisfied: sentry-sdk>=1.0.0 in /usr/local/lib/python3.10/dist-packages (from wandb) (1.22.2)\n",
            "Requirement already satisfied: docker-pycreds>=0.4.0 in /usr/local/lib/python3.10/dist-packages (from wandb) (0.4.0)\n",
            "Requirement already satisfied: PyYAML in /usr/local/lib/python3.10/dist-packages (from wandb) (6.0)\n",
            "Requirement already satisfied: pathtools in /usr/local/lib/python3.10/dist-packages (from wandb) (0.1.2)\n",
            "Requirement already satisfied: setproctitle in /usr/local/lib/python3.10/dist-packages (from wandb) (1.3.2)\n",
            "Requirement already satisfied: setuptools in /usr/local/lib/python3.10/dist-packages (from wandb) (67.7.2)\n",
            "Requirement already satisfied: appdirs>=1.4.3 in /usr/local/lib/python3.10/dist-packages (from wandb) (1.4.4)\n",
            "Requirement already satisfied: protobuf!=4.21.0,<5,>=3.19.0 in /usr/local/lib/python3.10/dist-packages (from wandb) (3.20.3)\n",
            "Requirement already satisfied: six>=1.4.0 in /usr/local/lib/python3.10/dist-packages (from docker-pycreds>=0.4.0->wandb) (1.16.0)\n",
            "Requirement already satisfied: gitdb<5,>=4.0.1 in /usr/local/lib/python3.10/dist-packages (from GitPython!=3.1.29,>=1.0.0->wandb) (4.0.10)\n",
            "Requirement already satisfied: urllib3<1.27,>=1.21.1 in /usr/local/lib/python3.10/dist-packages (from requests<3,>=2.0.0->wandb) (1.26.15)\n",
            "Requirement already satisfied: certifi>=2017.4.17 in /usr/local/lib/python3.10/dist-packages (from requests<3,>=2.0.0->wandb) (2022.12.7)\n",
            "Requirement already satisfied: charset-normalizer~=2.0.0 in /usr/local/lib/python3.10/dist-packages (from requests<3,>=2.0.0->wandb) (2.0.12)\n",
            "Requirement already satisfied: idna<4,>=2.5 in /usr/local/lib/python3.10/dist-packages (from requests<3,>=2.0.0->wandb) (3.4)\n",
            "Requirement already satisfied: smmap<6,>=3.0.1 in /usr/local/lib/python3.10/dist-packages (from gitdb<5,>=4.0.1->GitPython!=3.1.29,>=1.0.0->wandb) (5.0.0)\n"
          ]
        }
      ],
      "source": [
        "!pip install -q git+https://github.com/soumik12345/dreambooth-keras.git\n",
        "!pip install wandb"
      ]
    },
    {
      "cell_type": "code",
      "execution_count": null,
      "metadata": {
        "id": "Mu3XDHbgkKpS",
        "colab": {
          "base_uri": "https://localhost:8080/",
          "height": 160
        },
        "outputId": "f2dc08ac-54c6-4569-8948-bf49d162facb"
      },
      "outputs": [
        {
          "output_type": "display_data",
          "data": {
            "text/plain": [
              "<IPython.core.display.Javascript object>"
            ],
            "application/javascript": [
              "\n",
              "        window._wandbApiKey = new Promise((resolve, reject) => {\n",
              "            function loadScript(url) {\n",
              "            return new Promise(function(resolve, reject) {\n",
              "                let newScript = document.createElement(\"script\");\n",
              "                newScript.onerror = reject;\n",
              "                newScript.onload = resolve;\n",
              "                document.body.appendChild(newScript);\n",
              "                newScript.src = url;\n",
              "            });\n",
              "            }\n",
              "            loadScript(\"https://cdn.jsdelivr.net/npm/postmate/build/postmate.min.js\").then(() => {\n",
              "            const iframe = document.createElement('iframe')\n",
              "            iframe.style.cssText = \"width:0;height:0;border:none\"\n",
              "            document.body.appendChild(iframe)\n",
              "            const handshake = new Postmate({\n",
              "                container: iframe,\n",
              "                url: 'https://wandb.ai/authorize'\n",
              "            });\n",
              "            const timeout = setTimeout(() => reject(\"Couldn't auto authenticate\"), 5000)\n",
              "            handshake.then(function(child) {\n",
              "                child.on('authorize', data => {\n",
              "                    clearTimeout(timeout)\n",
              "                    resolve(data)\n",
              "                });\n",
              "            });\n",
              "            })\n",
              "        });\n",
              "    "
            ]
          },
          "metadata": {}
        },
        {
          "output_type": "stream",
          "name": "stderr",
          "text": [
            "\u001b[34m\u001b[1mwandb\u001b[0m: Appending key for api.wandb.ai to your netrc file: /root/.netrc\n"
          ]
        },
        {
          "output_type": "display_data",
          "data": {
            "text/plain": [
              "<IPython.core.display.HTML object>"
            ],
            "text/html": [
              "Tracking run with wandb version 0.15.2"
            ]
          },
          "metadata": {}
        },
        {
          "output_type": "display_data",
          "data": {
            "text/plain": [
              "<IPython.core.display.HTML object>"
            ],
            "text/html": [
              "Run data is saved locally in <code>/content/wandb/run-20230510_002909-iuehpmrb</code>"
            ]
          },
          "metadata": {}
        },
        {
          "output_type": "display_data",
          "data": {
            "text/plain": [
              "<IPython.core.display.HTML object>"
            ],
            "text/html": [
              "Syncing run <strong><a href='https://wandb.ai/babelbots/dreambooth-keras/runs/iuehpmrb' target=\"_blank\">ancient-tree-217</a></strong> to <a href='https://wandb.ai/babelbots/dreambooth-keras' target=\"_blank\">Weights & Biases</a> (<a href='https://wandb.me/run' target=\"_blank\">docs</a>)<br/>"
            ]
          },
          "metadata": {}
        },
        {
          "output_type": "display_data",
          "data": {
            "text/plain": [
              "<IPython.core.display.HTML object>"
            ],
            "text/html": [
              " View project at <a href='https://wandb.ai/babelbots/dreambooth-keras' target=\"_blank\">https://wandb.ai/babelbots/dreambooth-keras</a>"
            ]
          },
          "metadata": {}
        },
        {
          "output_type": "display_data",
          "data": {
            "text/plain": [
              "<IPython.core.display.HTML object>"
            ],
            "text/html": [
              " View run at <a href='https://wandb.ai/babelbots/dreambooth-keras/runs/iuehpmrb' target=\"_blank\">https://wandb.ai/babelbots/dreambooth-keras/runs/iuehpmrb</a>"
            ]
          },
          "metadata": {}
        },
        {
          "output_type": "execute_result",
          "data": {
            "text/html": [
              "<button onClick=\"this.nextSibling.style.display='block';this.style.display='none';\">Display W&B run</button><iframe src='https://wandb.ai/babelbots/dreambooth-keras/runs/iuehpmrb?jupyter=true' style='border:none;width:100%;height:420px;display:none;'></iframe>"
            ],
            "text/plain": [
              "<wandb.sdk.wandb_run.Run at 0x7f77cc066410>"
            ]
          },
          "metadata": {},
          "execution_count": 2
        }
      ],
      "source": [
        "import wandb\n",
        "wandb.init(project=\"dreambooth-keras\", job_type=\"sweep\")"
      ]
    },
    {
      "cell_type": "code",
      "execution_count": null,
      "metadata": {
        "id": "dRUwUJqTkFWw",
        "colab": {
          "base_uri": "https://localhost:8080/"
        },
        "outputId": "cc09e38c-5952-4f47-d616-db6c757a2778"
      },
      "outputs": [
        {
          "output_type": "stream",
          "name": "stdout",
          "text": [
            "Cloning into 'dreambooth-keras'...\n",
            "remote: Enumerating objects: 283, done.\u001b[K\n",
            "remote: Counting objects: 100% (156/156), done.\u001b[K\n",
            "remote: Compressing objects: 100% (86/86), done.\u001b[K\n",
            "remote: Total 283 (delta 97), reused 100 (delta 70), pack-reused 127\u001b[K\n",
            "Receiving objects: 100% (283/283), 944.91 KiB | 3.73 MiB/s, done.\n",
            "Resolving deltas: 100% (161/161), done.\n",
            "/content/dreambooth-keras\n"
          ]
        }
      ],
      "source": [
        "!git clone https://github.com/soumik12345/dreambooth-keras.git\n",
        "\n",
        "%cd dreambooth-keras/"
      ]
    },
    {
      "cell_type": "code",
      "execution_count": null,
      "metadata": {
        "id": "GkFsS2w8kJ22",
        "colab": {
          "base_uri": "https://localhost:8080/",
          "height": 1000
        },
        "outputId": "9684fdf7-e8f3-45ec-c6d3-965b1b96eac2"
      },
      "outputs": [
        {
          "output_type": "stream",
          "name": "stdout",
          "text": [
            "\u001b[34m\u001b[1mwandb\u001b[0m: Starting wandb agent 🕵️\n",
            "2023-05-10 00:30:26,834 - wandb.wandb_agent - INFO - Running runs: []\n",
            "2023-05-10 00:30:27,169 - wandb.wandb_agent - INFO - Agent received command: run\n",
            "2023-05-10 00:30:27,169 - wandb.wandb_agent - INFO - Agent starting run with config:\n",
            "\tbatch_size: 3\n",
            "\tclass_category: mc-instance\n",
            "\tclass_images_url: https://huggingface.co/datasets/sayakpaul/sample-datasets/resolve/main/class-images.tar.gz\n",
            "\tclass_prompt: pixel-art-character\n",
            "\tepochs: 1\n",
            "\timg_resolution: 368\n",
            "\tinstance_images_url: https://huggingface.co/datasets/sayakpaul/sample-datasets/resolve/main/instance-images.tar.gz\n",
            "\tlog_wandb: true\n",
            "\tlr: 5.091705452822859e-06\n",
            "\tmax_train_steps: 1828\n",
            "\tnum_diffusion_steps: 119\n",
            "\tnum_images_to_generate: 3\n",
            "\ttrain_text_encoder: true\n",
            "\tunique_id: sks\n",
            "\twandb_artifact_name: mc-instance\n",
            "2023-05-10 00:30:27,172 - wandb.wandb_agent - INFO - About to run command: /usr/bin/env python /content/dreambooth-keras/dreambooth_keras/dreambooth_trainer.py --batch_size=3 --class_category=mc-instance --class_images_url=https://huggingface.co/datasets/sayakpaul/sample-datasets/resolve/main/class-images.tar.gz --class_prompt=pixel-art-character --epochs=1 --img_resolution=368 --instance_images_url=https://huggingface.co/datasets/sayakpaul/sample-datasets/resolve/main/instance-images.tar.gz --log_wandb=true --lr=5.091705452822859e-06 --max_train_steps=1828 --num_diffusion_steps=119 --num_images_to_generate=3 --train_text_encoder=true --unique_id=sks --wandb_artifact_name=mc-instance\n",
            "2023-05-10 00:30:27.488471: I tensorflow/core/util/port.cc:110] oneDNN custom operations are on. You may see slightly different numerical results due to floating-point round-off errors from different computation orders. To turn them off, set the environment variable `TF_ENABLE_ONEDNN_OPTS=0`.\n",
            "2023-05-10 00:30:27.540882: I tensorflow/core/platform/cpu_feature_guard.cc:182] This TensorFlow binary is optimized to use available CPU instructions in performance-critical operations.\n",
            "To enable the following instructions: AVX2 AVX512F AVX512_VNNI FMA, in other operations, rebuild TensorFlow with the appropriate compiler flags.\n",
            "2023-05-10 00:30:28.530751: W tensorflow/compiler/tf2tensorrt/utils/py_utils.cc:38] TF-TRT Warning: Could not find TensorRT\n",
            "2023-05-10 00:30:32,182 - wandb.wandb_agent - INFO - Running runs: ['hhq2f8ow']\n",
            "2023-05-10 00:30:32,182 - wandb.wandb_agent - INFO - Cleaning up finished run: hhq2f8ow\n",
            "2023-05-10 00:30:32,547 - wandb.wandb_agent - INFO - Agent received command: run\n",
            "2023-05-10 00:30:32,547 - wandb.wandb_agent - INFO - Agent starting run with config:\n",
            "\tbatch_size: 5\n",
            "\tclass_category: 32bit\n",
            "\tclass_images_url: https://huggingface.co/datasets/sayakpaul/sample-datasets/resolve/main/class-images.tar.gz\n",
            "\tclass_prompt: pixel-art-character\n",
            "\tepochs: 1\n",
            "\timg_resolution: 509\n",
            "\tinstance_images_url: https://huggingface.co/datasets/sayakpaul/sample-datasets/resolve/main/instance-images.tar.gz\n",
            "\tlog_wandb: true\n",
            "\tlr: 7.869301495523751e-06\n",
            "\tmax_train_steps: 1306\n",
            "\tnum_diffusion_steps: 66\n",
            "\tnum_images_to_generate: 3\n",
            "\ttrain_text_encoder: false\n",
            "\tunique_id: sks\n",
            "\twandb_artifact_name: mc-instance\n",
            "2023-05-10 00:30:32,550 - wandb.wandb_agent - INFO - About to run command: /usr/bin/env python /content/dreambooth-keras/dreambooth_keras/dreambooth_trainer.py --batch_size=5 --class_category=32bit --class_images_url=https://huggingface.co/datasets/sayakpaul/sample-datasets/resolve/main/class-images.tar.gz --class_prompt=pixel-art-character --epochs=1 --img_resolution=509 --instance_images_url=https://huggingface.co/datasets/sayakpaul/sample-datasets/resolve/main/instance-images.tar.gz --log_wandb=true --lr=7.869301495523751e-06 --max_train_steps=1306 --num_diffusion_steps=66 --num_images_to_generate=3 --train_text_encoder=false --unique_id=sks --wandb_artifact_name=mc-instance\n",
            "2023-05-10 00:30:32.853950: I tensorflow/core/util/port.cc:110] oneDNN custom operations are on. You may see slightly different numerical results due to floating-point round-off errors from different computation orders. To turn them off, set the environment variable `TF_ENABLE_ONEDNN_OPTS=0`.\n",
            "2023-05-10 00:30:32.903217: I tensorflow/core/platform/cpu_feature_guard.cc:182] This TensorFlow binary is optimized to use available CPU instructions in performance-critical operations.\n",
            "To enable the following instructions: AVX2 AVX512F AVX512_VNNI FMA, in other operations, rebuild TensorFlow with the appropriate compiler flags.\n",
            "2023-05-10 00:30:33.923252: W tensorflow/compiler/tf2tensorrt/utils/py_utils.cc:38] TF-TRT Warning: Could not find TensorRT\n",
            "2023-05-10 00:30:37,559 - wandb.wandb_agent - INFO - Running runs: ['1exbciqo']\n",
            "2023-05-10 00:30:37,560 - wandb.wandb_agent - INFO - Cleaning up finished run: 1exbciqo\n",
            "2023-05-10 00:30:37,851 - wandb.wandb_agent - INFO - Agent received command: run\n",
            "2023-05-10 00:30:37,851 - wandb.wandb_agent - INFO - Agent starting run with config:\n",
            "\tbatch_size: 4\n",
            "\tclass_category: mc-instance\n",
            "\tclass_images_url: https://huggingface.co/datasets/sayakpaul/sample-datasets/resolve/main/class-images.tar.gz\n",
            "\tclass_prompt: pixel-art-character\n",
            "\tepochs: 1\n",
            "\timg_resolution: 671\n",
            "\tinstance_images_url: babelbots/dreambooth-keras/my-dataset:v0\n",
            "\tlog_wandb: true\n",
            "\tlr: 4.707027286127872e-06\n",
            "\tmax_train_steps: 427\n",
            "\tnum_diffusion_steps: 42\n",
            "\tnum_images_to_generate: 3\n",
            "\ttrain_text_encoder: true\n",
            "\tunique_id: sks\n",
            "\twandb_artifact_name: mc-instance\n",
            "2023-05-10 00:30:37,853 - wandb.wandb_agent - INFO - About to run command: /usr/bin/env python /content/dreambooth-keras/dreambooth_keras/dreambooth_trainer.py --batch_size=4 --class_category=mc-instance --class_images_url=https://huggingface.co/datasets/sayakpaul/sample-datasets/resolve/main/class-images.tar.gz --class_prompt=pixel-art-character --epochs=1 --img_resolution=671 --instance_images_url=babelbots/dreambooth-keras/my-dataset:v0 --log_wandb=true --lr=4.707027286127872e-06 --max_train_steps=427 --num_diffusion_steps=42 --num_images_to_generate=3 --train_text_encoder=true --unique_id=sks --wandb_artifact_name=mc-instance\n",
            "2023-05-10 00:30:38.155113: I tensorflow/core/util/port.cc:110] oneDNN custom operations are on. You may see slightly different numerical results due to floating-point round-off errors from different computation orders. To turn them off, set the environment variable `TF_ENABLE_ONEDNN_OPTS=0`.\n",
            "2023-05-10 00:30:38.205901: I tensorflow/core/platform/cpu_feature_guard.cc:182] This TensorFlow binary is optimized to use available CPU instructions in performance-critical operations.\n",
            "To enable the following instructions: AVX2 AVX512F AVX512_VNNI FMA, in other operations, rebuild TensorFlow with the appropriate compiler flags.\n",
            "2023-05-10 00:30:39.201341: W tensorflow/compiler/tf2tensorrt/utils/py_utils.cc:38] TF-TRT Warning: Could not find TensorRT\n"
          ]
        },
        {
          "output_type": "stream",
          "name": "stderr",
          "text": [
            "Exception in thread NetStatThr:\n",
            "Traceback (most recent call last):\n",
            "  File \"/usr/lib/python3.10/threading.py\", line 1016, in _bootstrap_inner\n",
            "Exception in thread ChkStopThr:\n",
            "Traceback (most recent call last):\n",
            "  File \"/usr/lib/python3.10/threading.py\", line 1016, in _bootstrap_inner\n",
            "    self.run()\n",
            "  File \"/usr/lib/python3.10/threading.py\", line 953, in run\n",
            "        self.run()self._target(*self._args, **self._kwargs)\n",
            "  File \"/usr/local/lib/python3.10/dist-packages/wandb/sdk/wandb_run.py\", line 260, in check_network_status\n",
            "\n",
            "    self._loop_check_status(\n",
            "  File \"/usr/local/lib/python3.10/dist-packages/wandb/sdk/wandb_run.py\", line 216, in _loop_check_status\n",
            "  File \"/usr/lib/python3.10/threading.py\", line 953, in run\n",
            "    local_handle = request()\n",
            "  File \"/usr/local/lib/python3.10/dist-packages/wandb/sdk/interface/interface.py\", line 795, in deliver_network_status\n",
            "    return self._deliver_network_status(status)\n",
            "  File \"/usr/local/lib/python3.10/dist-packages/wandb/sdk/interface/interface_shared.py\", line 601, in _deliver_network_status\n",
            "        return self._deliver_record(record)\n",
            "  File \"/usr/local/lib/python3.10/dist-packages/wandb/sdk/interface/interface_shared.py\", line 560, in _deliver_record\n",
            "    self._target(*self._args, **self._kwargs)\n",
            "handle = mailbox._deliver_record(record, interface=self)\n",
            "  File \"/usr/local/lib/python3.10/dist-packages/wandb/sdk/wandb_run.py\", line 278, in check_stop_status\n",
            "  File \"/usr/local/lib/python3.10/dist-packages/wandb/sdk/lib/mailbox.py\", line 455, in _deliver_record\n",
            "        interface._publish(record)\n",
            "  File \"/usr/local/lib/python3.10/dist-packages/wandb/sdk/interface/interface_sock.py\", line 51, in _publish\n",
            "self._loop_check_status(    \n",
            "self._sock_client.send_record_publish(record)  File \"/usr/local/lib/python3.10/dist-packages/wandb/sdk/wandb_run.py\", line 216, in _loop_check_status\n",
            "\n",
            "      File \"/usr/local/lib/python3.10/dist-packages/wandb/sdk/lib/sock_client.py\", line 221, in send_record_publish\n",
            "local_handle = request()\n",
            "  File \"/usr/local/lib/python3.10/dist-packages/wandb/sdk/interface/interface.py\", line 787, in deliver_stop_status\n",
            "    self.send_server_request(server_req)\n",
            "  File \"/usr/local/lib/python3.10/dist-packages/wandb/sdk/lib/sock_client.py\", line 155, in send_server_request\n",
            "    self._send_message(msg)\n",
            "  File \"/usr/local/lib/python3.10/dist-packages/wandb/sdk/lib/sock_client.py\", line 152, in _send_message\n",
            "    self._sendall_with_error_handle(header + data)\n",
            "  File \"/usr/local/lib/python3.10/dist-packages/wandb/sdk/lib/sock_client.py\", line 130, in _sendall_with_error_handle\n",
            "    sent = self._sock.send(data)\n",
            "BrokenPipeError: [Errno 32] Broken pipe\n",
            "    return self._deliver_stop_status(status)\n",
            "  File \"/usr/local/lib/python3.10/dist-packages/wandb/sdk/interface/interface_shared.py\", line 585, in _deliver_stop_status\n",
            "    return self._deliver_record(record)\n",
            "  File \"/usr/local/lib/python3.10/dist-packages/wandb/sdk/interface/interface_shared.py\", line 560, in _deliver_record\n",
            "    handle = mailbox._deliver_record(record, interface=self)\n",
            "  File \"/usr/local/lib/python3.10/dist-packages/wandb/sdk/lib/mailbox.py\", line 455, in _deliver_record\n",
            "    interface._publish(record)\n",
            "  File \"/usr/local/lib/python3.10/dist-packages/wandb/sdk/interface/interface_sock.py\", line 51, in _publish\n",
            "    self._sock_client.send_record_publish(record)\n",
            "  File \"/usr/local/lib/python3.10/dist-packages/wandb/sdk/lib/sock_client.py\", line 221, in send_record_publish\n",
            "    self.send_server_request(server_req)\n",
            "  File \"/usr/local/lib/python3.10/dist-packages/wandb/sdk/lib/sock_client.py\", line 155, in send_server_request\n",
            "    self._send_message(msg)\n",
            "  File \"/usr/local/lib/python3.10/dist-packages/wandb/sdk/lib/sock_client.py\", line 152, in _send_message\n",
            "    self._sendall_with_error_handle(header + data)\n",
            "  File \"/usr/local/lib/python3.10/dist-packages/wandb/sdk/lib/sock_client.py\", line 130, in _sendall_with_error_handle\n",
            "    sent = self._sock.send(data)\n",
            "BrokenPipeError: [Errno 32] Broken pipe\n"
          ]
        },
        {
          "output_type": "stream",
          "name": "stdout",
          "text": [
            "2023-05-10 00:30:42,863 - wandb.wandb_agent - INFO - Running runs: ['mvyky9cx']\n",
            "2023-05-10 00:30:42,863 - wandb.wandb_agent - INFO - Cleaning up finished run: mvyky9cx\n",
            "2023-05-10 00:30:43,224 - wandb.wandb_agent - INFO - Agent received command: run\n",
            "2023-05-10 00:30:43,224 - wandb.wandb_agent - INFO - Agent starting run with config:\n",
            "\tbatch_size: 5\n",
            "\tclass_category: mc-instance\n",
            "\tclass_images_url: https://huggingface.co/datasets/sayakpaul/sample-datasets/resolve/main/class-images.tar.gz\n",
            "\tclass_prompt: pixel-art-character\n",
            "\tepochs: 1\n",
            "\timg_resolution: 658\n",
            "\tinstance_images_url: https://huggingface.co/datasets/sayakpaul/sample-datasets/resolve/main/instance-images.tar.gz\n",
            "\tlog_wandb: true\n",
            "\tlr: 2.5499079624151146e-06\n",
            "\tmax_train_steps: 1450\n",
            "\tnum_diffusion_steps: 113\n",
            "\tnum_images_to_generate: 3\n",
            "\ttrain_text_encoder: false\n",
            "\tunique_id: sks\n",
            "\twandb_artifact_name: mc-instance\n",
            "2023-05-10 00:30:43,227 - wandb.wandb_agent - INFO - About to run command: /usr/bin/env python /content/dreambooth-keras/dreambooth_keras/dreambooth_trainer.py --batch_size=5 --class_category=mc-instance --class_images_url=https://huggingface.co/datasets/sayakpaul/sample-datasets/resolve/main/class-images.tar.gz --class_prompt=pixel-art-character --epochs=1 --img_resolution=658 --instance_images_url=https://huggingface.co/datasets/sayakpaul/sample-datasets/resolve/main/instance-images.tar.gz --log_wandb=true --lr=2.5499079624151146e-06 --max_train_steps=1450 --num_diffusion_steps=113 --num_images_to_generate=3 --train_text_encoder=false --unique_id=sks --wandb_artifact_name=mc-instance\n",
            "2023-05-10 00:30:43.525571: I tensorflow/core/util/port.cc:110] oneDNN custom operations are on. You may see slightly different numerical results due to floating-point round-off errors from different computation orders. To turn them off, set the environment variable `TF_ENABLE_ONEDNN_OPTS=0`.\n",
            "2023-05-10 00:30:43.578866: I tensorflow/core/platform/cpu_feature_guard.cc:182] This TensorFlow binary is optimized to use available CPU instructions in performance-critical operations.\n",
            "To enable the following instructions: AVX2 AVX512F AVX512_VNNI FMA, in other operations, rebuild TensorFlow with the appropriate compiler flags.\n",
            "2023-05-10 00:30:44.576217: W tensorflow/compiler/tf2tensorrt/utils/py_utils.cc:38] TF-TRT Warning: Could not find TensorRT\n",
            "2023-05-10 00:30:48,236 - wandb.wandb_agent - INFO - Running runs: ['x1w7cde5']\n",
            "2023-05-10 00:30:48,237 - wandb.wandb_agent - INFO - Cleaning up finished run: x1w7cde5\n",
            "2023-05-10 00:30:48,502 - wandb.wandb_agent - INFO - Agent received command: run\n",
            "2023-05-10 00:30:48,502 - wandb.wandb_agent - INFO - Agent starting run with config:\n",
            "\tbatch_size: 3\n",
            "\tclass_category: mc-instance\n",
            "\tclass_images_url: babelbots/dreambooth-keras/mc-instance:v0\n",
            "\tclass_prompt: pixel-art-character\n",
            "\tepochs: 1\n",
            "\timg_resolution: 273\n",
            "\tinstance_images_url: babelbots/dreambooth-keras/my-dataset:v0\n",
            "\tlog_wandb: true\n",
            "\tlr: 6.258361148465568e-06\n",
            "\tmax_train_steps: 2173\n",
            "\tnum_diffusion_steps: 41\n",
            "\tnum_images_to_generate: 3\n",
            "\ttrain_text_encoder: false\n",
            "\tunique_id: sks\n",
            "\twandb_artifact_name: mc-instance\n",
            "2023-05-10 00:30:48,505 - wandb.wandb_agent - INFO - About to run command: /usr/bin/env python /content/dreambooth-keras/dreambooth_keras/dreambooth_trainer.py --batch_size=3 --class_category=mc-instance --class_images_url=babelbots/dreambooth-keras/mc-instance:v0 --class_prompt=pixel-art-character --epochs=1 --img_resolution=273 --instance_images_url=babelbots/dreambooth-keras/my-dataset:v0 --log_wandb=true --lr=6.258361148465568e-06 --max_train_steps=2173 --num_diffusion_steps=41 --num_images_to_generate=3 --train_text_encoder=false --unique_id=sks --wandb_artifact_name=mc-instance\n",
            "2023-05-10 00:30:48.803276: I tensorflow/core/util/port.cc:110] oneDNN custom operations are on. You may see slightly different numerical results due to floating-point round-off errors from different computation orders. To turn them off, set the environment variable `TF_ENABLE_ONEDNN_OPTS=0`.\n",
            "2023-05-10 00:30:48.862775: I tensorflow/core/platform/cpu_feature_guard.cc:182] This TensorFlow binary is optimized to use available CPU instructions in performance-critical operations.\n",
            "To enable the following instructions: AVX2 AVX512F AVX512_VNNI FMA, in other operations, rebuild TensorFlow with the appropriate compiler flags.\n",
            "2023-05-10 00:30:49.858692: W tensorflow/compiler/tf2tensorrt/utils/py_utils.cc:38] TF-TRT Warning: Could not find TensorRT\n",
            "2023-05-10 00:30:53,514 - wandb.wandb_agent - INFO - Running runs: ['uqtmy19l']\n",
            "2023-05-10 00:30:53,515 - wandb.wandb_agent - INFO - Cleaning up finished run: uqtmy19l\n",
            "2023-05-10 00:30:54,104 - wandb.wandb_agent - INFO - Agent received command: run\n",
            "2023-05-10 00:30:54,104 - wandb.wandb_agent - INFO - Agent starting run with config:\n",
            "\tbatch_size: 5\n",
            "\tclass_category: 32bit\n",
            "\tclass_images_url: https://huggingface.co/datasets/sayakpaul/sample-datasets/resolve/main/class-images.tar.gz\n",
            "\tclass_prompt: pixel-art-character\n",
            "\tepochs: 1\n",
            "\timg_resolution: 751\n",
            "\tinstance_images_url: https://huggingface.co/datasets/sayakpaul/sample-datasets/resolve/main/instance-images.tar.gz\n",
            "\tlog_wandb: true\n",
            "\tlr: 5.100914819127341e-06\n",
            "\tmax_train_steps: 3148\n",
            "\tnum_diffusion_steps: 42\n",
            "\tnum_images_to_generate: 3\n",
            "\ttrain_text_encoder: false\n",
            "\tunique_id: sks\n",
            "\twandb_artifact_name: mc-instance\n",
            "2023-05-10 00:30:54,107 - wandb.wandb_agent - INFO - About to run command: /usr/bin/env python /content/dreambooth-keras/dreambooth_keras/dreambooth_trainer.py --batch_size=5 --class_category=32bit --class_images_url=https://huggingface.co/datasets/sayakpaul/sample-datasets/resolve/main/class-images.tar.gz --class_prompt=pixel-art-character --epochs=1 --img_resolution=751 --instance_images_url=https://huggingface.co/datasets/sayakpaul/sample-datasets/resolve/main/instance-images.tar.gz --log_wandb=true --lr=5.100914819127341e-06 --max_train_steps=3148 --num_diffusion_steps=42 --num_images_to_generate=3 --train_text_encoder=false --unique_id=sks --wandb_artifact_name=mc-instance\n",
            "2023-05-10 00:30:54.411470: I tensorflow/core/util/port.cc:110] oneDNN custom operations are on. You may see slightly different numerical results due to floating-point round-off errors from different computation orders. To turn them off, set the environment variable `TF_ENABLE_ONEDNN_OPTS=0`.\n",
            "2023-05-10 00:30:54.462396: I tensorflow/core/platform/cpu_feature_guard.cc:182] This TensorFlow binary is optimized to use available CPU instructions in performance-critical operations.\n",
            "To enable the following instructions: AVX2 AVX512F AVX512_VNNI FMA, in other operations, rebuild TensorFlow with the appropriate compiler flags.\n",
            "2023-05-10 00:30:55.451328: W tensorflow/compiler/tf2tensorrt/utils/py_utils.cc:38] TF-TRT Warning: Could not find TensorRT\n",
            "2023-05-10 00:30:59,116 - wandb.wandb_agent - INFO - Running runs: ['p43nefow']\n",
            "2023-05-10 00:30:59,117 - wandb.wandb_agent - INFO - Cleaning up finished run: p43nefow\n",
            "2023-05-10 00:30:59,472 - wandb.wandb_agent - INFO - Agent received command: run\n",
            "2023-05-10 00:30:59,472 - wandb.wandb_agent - INFO - Agent starting run with config:\n",
            "\tbatch_size: 2\n",
            "\tclass_category: 32bit\n",
            "\tclass_images_url: https://huggingface.co/datasets/sayakpaul/sample-datasets/resolve/main/class-images.tar.gz\n",
            "\tclass_prompt: pixel-art-character\n",
            "\tepochs: 1\n",
            "\timg_resolution: 751\n",
            "\tinstance_images_url: babelbots/dreambooth-keras/my-dataset:v0\n",
            "\tlog_wandb: true\n",
            "\tlr: 5.5056549986139795e-06\n",
            "\tmax_train_steps: 2407\n",
            "\tnum_diffusion_steps: 160\n",
            "\tnum_images_to_generate: 3\n",
            "\ttrain_text_encoder: true\n",
            "\tunique_id: sks\n",
            "\twandb_artifact_name: mc-instance\n",
            "2023-05-10 00:30:59,474 - wandb.wandb_agent - INFO - About to run command: /usr/bin/env python /content/dreambooth-keras/dreambooth_keras/dreambooth_trainer.py --batch_size=2 --class_category=32bit --class_images_url=https://huggingface.co/datasets/sayakpaul/sample-datasets/resolve/main/class-images.tar.gz --class_prompt=pixel-art-character --epochs=1 --img_resolution=751 --instance_images_url=babelbots/dreambooth-keras/my-dataset:v0 --log_wandb=true --lr=5.5056549986139795e-06 --max_train_steps=2407 --num_diffusion_steps=160 --num_images_to_generate=3 --train_text_encoder=true --unique_id=sks --wandb_artifact_name=mc-instance\n",
            "2023-05-10 00:30:59.780157: I tensorflow/core/util/port.cc:110] oneDNN custom operations are on. You may see slightly different numerical results due to floating-point round-off errors from different computation orders. To turn them off, set the environment variable `TF_ENABLE_ONEDNN_OPTS=0`.\n",
            "2023-05-10 00:30:59.829442: I tensorflow/core/platform/cpu_feature_guard.cc:182] This TensorFlow binary is optimized to use available CPU instructions in performance-critical operations.\n",
            "To enable the following instructions: AVX2 AVX512F AVX512_VNNI FMA, in other operations, rebuild TensorFlow with the appropriate compiler flags.\n",
            "2023-05-10 00:31:00.826188: W tensorflow/compiler/tf2tensorrt/utils/py_utils.cc:38] TF-TRT Warning: Could not find TensorRT\n",
            "2023-05-10 00:31:04,484 - wandb.wandb_agent - INFO - Running runs: ['uj15087o']\n",
            "2023-05-10 00:31:04,484 - wandb.wandb_agent - INFO - Cleaning up finished run: uj15087o\n",
            "2023-05-10 00:31:04,980 - wandb.wandb_agent - INFO - Agent received command: run\n",
            "2023-05-10 00:31:04,980 - wandb.wandb_agent - INFO - Agent starting run with config:\n",
            "\tbatch_size: 6\n",
            "\tclass_category: mc-instance\n",
            "\tclass_images_url: https://huggingface.co/datasets/sayakpaul/sample-datasets/resolve/main/class-images.tar.gz\n",
            "\tclass_prompt: pixel-art-character\n",
            "\tepochs: 1\n",
            "\timg_resolution: 837\n",
            "\tinstance_images_url: https://huggingface.co/datasets/sayakpaul/sample-datasets/resolve/main/instance-images.tar.gz\n",
            "\tlog_wandb: true\n",
            "\tlr: 5.259524593981007e-06\n",
            "\tmax_train_steps: 2639\n",
            "\tnum_diffusion_steps: 30\n",
            "\tnum_images_to_generate: 3\n",
            "\ttrain_text_encoder: false\n",
            "\tunique_id: sks\n",
            "\twandb_artifact_name: mc-instance\n",
            "2023-05-10 00:31:04,983 - wandb.wandb_agent - INFO - About to run command: /usr/bin/env python /content/dreambooth-keras/dreambooth_keras/dreambooth_trainer.py --batch_size=6 --class_category=mc-instance --class_images_url=https://huggingface.co/datasets/sayakpaul/sample-datasets/resolve/main/class-images.tar.gz --class_prompt=pixel-art-character --epochs=1 --img_resolution=837 --instance_images_url=https://huggingface.co/datasets/sayakpaul/sample-datasets/resolve/main/instance-images.tar.gz --log_wandb=true --lr=5.259524593981007e-06 --max_train_steps=2639 --num_diffusion_steps=30 --num_images_to_generate=3 --train_text_encoder=false --unique_id=sks --wandb_artifact_name=mc-instance\n",
            "2023-05-10 00:31:05.281968: I tensorflow/core/util/port.cc:110] oneDNN custom operations are on. You may see slightly different numerical results due to floating-point round-off errors from different computation orders. To turn them off, set the environment variable `TF_ENABLE_ONEDNN_OPTS=0`.\n",
            "2023-05-10 00:31:05.333041: I tensorflow/core/platform/cpu_feature_guard.cc:182] This TensorFlow binary is optimized to use available CPU instructions in performance-critical operations.\n",
            "To enable the following instructions: AVX2 AVX512F AVX512_VNNI FMA, in other operations, rebuild TensorFlow with the appropriate compiler flags.\n",
            "2023-05-10 00:31:06.344667: W tensorflow/compiler/tf2tensorrt/utils/py_utils.cc:38] TF-TRT Warning: Could not find TensorRT\n",
            "2023-05-10 00:31:09,992 - wandb.wandb_agent - INFO - Running runs: ['81vbmd7e']\n",
            "2023-05-10 00:31:09,993 - wandb.wandb_agent - INFO - Cleaning up finished run: 81vbmd7e\n",
            "2023-05-10 00:31:10,317 - wandb.wandb_agent - INFO - Agent received command: run\n",
            "2023-05-10 00:31:10,317 - wandb.wandb_agent - INFO - Agent starting run with config:\n",
            "\tbatch_size: 5\n",
            "\tclass_category: mc-instance\n",
            "\tclass_images_url: babelbots/dreambooth-keras/mc-instance:v0\n",
            "\tclass_prompt: pixel-art-character\n",
            "\tepochs: 1\n",
            "\timg_resolution: 460\n",
            "\tinstance_images_url: babelbots/dreambooth-keras/my-dataset:v0\n",
            "\tlog_wandb: true\n",
            "\tlr: 3.0144516040779354e-06\n",
            "\tmax_train_steps: 1475\n",
            "\tnum_diffusion_steps: 139\n",
            "\tnum_images_to_generate: 3\n",
            "\ttrain_text_encoder: true\n",
            "\tunique_id: sks\n",
            "\twandb_artifact_name: mc-instance\n",
            "2023-05-10 00:31:10,320 - wandb.wandb_agent - INFO - About to run command: /usr/bin/env python /content/dreambooth-keras/dreambooth_keras/dreambooth_trainer.py --batch_size=5 --class_category=mc-instance --class_images_url=babelbots/dreambooth-keras/mc-instance:v0 --class_prompt=pixel-art-character --epochs=1 --img_resolution=460 --instance_images_url=babelbots/dreambooth-keras/my-dataset:v0 --log_wandb=true --lr=3.0144516040779354e-06 --max_train_steps=1475 --num_diffusion_steps=139 --num_images_to_generate=3 --train_text_encoder=true --unique_id=sks --wandb_artifact_name=mc-instance\n",
            "2023-05-10 00:31:10.627419: I tensorflow/core/util/port.cc:110] oneDNN custom operations are on. You may see slightly different numerical results due to floating-point round-off errors from different computation orders. To turn them off, set the environment variable `TF_ENABLE_ONEDNN_OPTS=0`.\n",
            "2023-05-10 00:31:10.680916: I tensorflow/core/platform/cpu_feature_guard.cc:182] This TensorFlow binary is optimized to use available CPU instructions in performance-critical operations.\n",
            "To enable the following instructions: AVX2 AVX512F AVX512_VNNI FMA, in other operations, rebuild TensorFlow with the appropriate compiler flags.\n",
            "2023-05-10 00:31:11.696878: W tensorflow/compiler/tf2tensorrt/utils/py_utils.cc:38] TF-TRT Warning: Could not find TensorRT\n",
            "2023-05-10 00:31:15,329 - wandb.wandb_agent - INFO - Running runs: ['6kq21iuo']\n",
            "2023-05-10 00:31:15,330 - wandb.wandb_agent - INFO - Cleaning up finished run: 6kq21iuo\n",
            "2023-05-10 00:31:15,952 - wandb.wandb_agent - INFO - Agent received command: run\n",
            "2023-05-10 00:31:15,952 - wandb.wandb_agent - INFO - Agent starting run with config:\n",
            "\tbatch_size: 3\n",
            "\tclass_category: 32bit\n",
            "\tclass_images_url: https://huggingface.co/datasets/sayakpaul/sample-datasets/resolve/main/class-images.tar.gz\n",
            "\tclass_prompt: pixel-art-character\n",
            "\tepochs: 1\n",
            "\timg_resolution: 949\n",
            "\tinstance_images_url: https://huggingface.co/datasets/sayakpaul/sample-datasets/resolve/main/instance-images.tar.gz\n",
            "\tlog_wandb: true\n",
            "\tlr: 9.893048155331532e-06\n",
            "\tmax_train_steps: 1180\n",
            "\tnum_diffusion_steps: 76\n",
            "\tnum_images_to_generate: 3\n",
            "\ttrain_text_encoder: false\n",
            "\tunique_id: sks\n",
            "\twandb_artifact_name: mc-instance\n",
            "2023-05-10 00:31:15,954 - wandb.wandb_agent - INFO - About to run command: /usr/bin/env python /content/dreambooth-keras/dreambooth_keras/dreambooth_trainer.py --batch_size=3 --class_category=32bit --class_images_url=https://huggingface.co/datasets/sayakpaul/sample-datasets/resolve/main/class-images.tar.gz --class_prompt=pixel-art-character --epochs=1 --img_resolution=949 --instance_images_url=https://huggingface.co/datasets/sayakpaul/sample-datasets/resolve/main/instance-images.tar.gz --log_wandb=true --lr=9.893048155331532e-06 --max_train_steps=1180 --num_diffusion_steps=76 --num_images_to_generate=3 --train_text_encoder=false --unique_id=sks --wandb_artifact_name=mc-instance\n",
            "2023-05-10 00:31:16.255480: I tensorflow/core/util/port.cc:110] oneDNN custom operations are on. You may see slightly different numerical results due to floating-point round-off errors from different computation orders. To turn them off, set the environment variable `TF_ENABLE_ONEDNN_OPTS=0`.\n",
            "2023-05-10 00:31:16.305870: I tensorflow/core/platform/cpu_feature_guard.cc:182] This TensorFlow binary is optimized to use available CPU instructions in performance-critical operations.\n",
            "To enable the following instructions: AVX2 AVX512F AVX512_VNNI FMA, in other operations, rebuild TensorFlow with the appropriate compiler flags.\n",
            "2023-05-10 00:31:17.312098: W tensorflow/compiler/tf2tensorrt/utils/py_utils.cc:38] TF-TRT Warning: Could not find TensorRT\n",
            "2023-05-10 00:31:20,964 - wandb.wandb_agent - INFO - Running runs: ['a9lizk0x']\n",
            "2023-05-10 00:31:20,965 - wandb.wandb_agent - INFO - Cleaning up finished run: a9lizk0x\n",
            "\u001b[34m\u001b[1mwandb\u001b[0m: Terminating and syncing runs. Press ctrl-c to kill.\n",
            "Error in callback <function _WandbInit._pause_backend at 0x7f77cc057e20> (for post_run_cell):\n"
          ]
        },
        {
          "output_type": "error",
          "ename": "BrokenPipeError",
          "evalue": "ignored",
          "traceback": [
            "\u001b[0;31m---------------------------------------------------------------------------\u001b[0m",
            "\u001b[0;31mBrokenPipeError\u001b[0m                           Traceback (most recent call last)",
            "\u001b[0;32m/usr/local/lib/python3.10/dist-packages/backcall/backcall.py\u001b[0m in \u001b[0;36madapted\u001b[0;34m(*args, **kwargs)\u001b[0m\n\u001b[1;32m    102\u001b[0m                 \u001b[0mkwargs\u001b[0m\u001b[0;34m.\u001b[0m\u001b[0mpop\u001b[0m\u001b[0;34m(\u001b[0m\u001b[0mname\u001b[0m\u001b[0;34m)\u001b[0m\u001b[0;34m\u001b[0m\u001b[0;34m\u001b[0m\u001b[0m\n\u001b[1;32m    103\u001b[0m \u001b[0;31m#            print(args, kwargs, unmatched_pos, cut_positional, unmatched_kw)\u001b[0m\u001b[0;34m\u001b[0m\u001b[0;34m\u001b[0m\u001b[0m\n\u001b[0;32m--> 104\u001b[0;31m             \u001b[0;32mreturn\u001b[0m \u001b[0mcallback\u001b[0m\u001b[0;34m(\u001b[0m\u001b[0;34m*\u001b[0m\u001b[0margs\u001b[0m\u001b[0;34m,\u001b[0m \u001b[0;34m**\u001b[0m\u001b[0mkwargs\u001b[0m\u001b[0;34m)\u001b[0m\u001b[0;34m\u001b[0m\u001b[0;34m\u001b[0m\u001b[0m\n\u001b[0m\u001b[1;32m    105\u001b[0m \u001b[0;34m\u001b[0m\u001b[0m\n\u001b[1;32m    106\u001b[0m         \u001b[0;32mreturn\u001b[0m \u001b[0madapted\u001b[0m\u001b[0;34m\u001b[0m\u001b[0;34m\u001b[0m\u001b[0m\n",
            "\u001b[0;32m/usr/local/lib/python3.10/dist-packages/wandb/sdk/wandb_init.py\u001b[0m in \u001b[0;36m_pause_backend\u001b[0;34m(self)\u001b[0m\n\u001b[1;32m    417\u001b[0m         \u001b[0;32mif\u001b[0m \u001b[0mself\u001b[0m\u001b[0;34m.\u001b[0m\u001b[0mbackend\u001b[0m\u001b[0;34m.\u001b[0m\u001b[0minterface\u001b[0m \u001b[0;32mis\u001b[0m \u001b[0;32mnot\u001b[0m \u001b[0;32mNone\u001b[0m\u001b[0;34m:\u001b[0m\u001b[0;34m\u001b[0m\u001b[0;34m\u001b[0m\u001b[0m\n\u001b[1;32m    418\u001b[0m             \u001b[0mlogger\u001b[0m\u001b[0;34m.\u001b[0m\u001b[0minfo\u001b[0m\u001b[0;34m(\u001b[0m\u001b[0;34m\"pausing backend\"\u001b[0m\u001b[0;34m)\u001b[0m  \u001b[0;31m# type: ignore\u001b[0m\u001b[0;34m\u001b[0m\u001b[0;34m\u001b[0m\u001b[0m\n\u001b[0;32m--> 419\u001b[0;31m             \u001b[0mself\u001b[0m\u001b[0;34m.\u001b[0m\u001b[0mbackend\u001b[0m\u001b[0;34m.\u001b[0m\u001b[0minterface\u001b[0m\u001b[0;34m.\u001b[0m\u001b[0mpublish_pause\u001b[0m\u001b[0;34m(\u001b[0m\u001b[0;34m)\u001b[0m\u001b[0;34m\u001b[0m\u001b[0;34m\u001b[0m\u001b[0m\n\u001b[0m\u001b[1;32m    420\u001b[0m \u001b[0;34m\u001b[0m\u001b[0m\n\u001b[1;32m    421\u001b[0m     \u001b[0;32mdef\u001b[0m \u001b[0m_resume_backend\u001b[0m\u001b[0;34m(\u001b[0m\u001b[0mself\u001b[0m\u001b[0;34m)\u001b[0m \u001b[0;34m->\u001b[0m \u001b[0;32mNone\u001b[0m\u001b[0;34m:\u001b[0m\u001b[0;34m\u001b[0m\u001b[0;34m\u001b[0m\u001b[0m\n",
            "\u001b[0;32m/usr/local/lib/python3.10/dist-packages/wandb/sdk/interface/interface.py\u001b[0m in \u001b[0;36mpublish_pause\u001b[0;34m(self)\u001b[0m\n\u001b[1;32m    663\u001b[0m     \u001b[0;32mdef\u001b[0m \u001b[0mpublish_pause\u001b[0m\u001b[0;34m(\u001b[0m\u001b[0mself\u001b[0m\u001b[0;34m)\u001b[0m \u001b[0;34m->\u001b[0m \u001b[0;32mNone\u001b[0m\u001b[0;34m:\u001b[0m\u001b[0;34m\u001b[0m\u001b[0;34m\u001b[0m\u001b[0m\n\u001b[1;32m    664\u001b[0m         \u001b[0mpause\u001b[0m \u001b[0;34m=\u001b[0m \u001b[0mpb\u001b[0m\u001b[0;34m.\u001b[0m\u001b[0mPauseRequest\u001b[0m\u001b[0;34m(\u001b[0m\u001b[0;34m)\u001b[0m\u001b[0;34m\u001b[0m\u001b[0;34m\u001b[0m\u001b[0m\n\u001b[0;32m--> 665\u001b[0;31m         \u001b[0mself\u001b[0m\u001b[0;34m.\u001b[0m\u001b[0m_publish_pause\u001b[0m\u001b[0;34m(\u001b[0m\u001b[0mpause\u001b[0m\u001b[0;34m)\u001b[0m\u001b[0;34m\u001b[0m\u001b[0;34m\u001b[0m\u001b[0m\n\u001b[0m\u001b[1;32m    666\u001b[0m \u001b[0;34m\u001b[0m\u001b[0m\n\u001b[1;32m    667\u001b[0m     \u001b[0;34m@\u001b[0m\u001b[0mabstractmethod\u001b[0m\u001b[0;34m\u001b[0m\u001b[0;34m\u001b[0m\u001b[0m\n",
            "\u001b[0;32m/usr/local/lib/python3.10/dist-packages/wandb/sdk/interface/interface_shared.py\u001b[0m in \u001b[0;36m_publish_pause\u001b[0;34m(self, pause)\u001b[0m\n\u001b[1;32m    338\u001b[0m     \u001b[0;32mdef\u001b[0m \u001b[0m_publish_pause\u001b[0m\u001b[0;34m(\u001b[0m\u001b[0mself\u001b[0m\u001b[0;34m,\u001b[0m \u001b[0mpause\u001b[0m\u001b[0;34m:\u001b[0m \u001b[0mpb\u001b[0m\u001b[0;34m.\u001b[0m\u001b[0mPauseRequest\u001b[0m\u001b[0;34m)\u001b[0m \u001b[0;34m->\u001b[0m \u001b[0;32mNone\u001b[0m\u001b[0;34m:\u001b[0m\u001b[0;34m\u001b[0m\u001b[0;34m\u001b[0m\u001b[0m\n\u001b[1;32m    339\u001b[0m         \u001b[0mrec\u001b[0m \u001b[0;34m=\u001b[0m \u001b[0mself\u001b[0m\u001b[0;34m.\u001b[0m\u001b[0m_make_request\u001b[0m\u001b[0;34m(\u001b[0m\u001b[0mpause\u001b[0m\u001b[0;34m=\u001b[0m\u001b[0mpause\u001b[0m\u001b[0;34m)\u001b[0m\u001b[0;34m\u001b[0m\u001b[0;34m\u001b[0m\u001b[0m\n\u001b[0;32m--> 340\u001b[0;31m         \u001b[0mself\u001b[0m\u001b[0;34m.\u001b[0m\u001b[0m_publish\u001b[0m\u001b[0;34m(\u001b[0m\u001b[0mrec\u001b[0m\u001b[0;34m)\u001b[0m\u001b[0;34m\u001b[0m\u001b[0;34m\u001b[0m\u001b[0m\n\u001b[0m\u001b[1;32m    341\u001b[0m \u001b[0;34m\u001b[0m\u001b[0m\n\u001b[1;32m    342\u001b[0m     \u001b[0;32mdef\u001b[0m \u001b[0m_publish_resume\u001b[0m\u001b[0;34m(\u001b[0m\u001b[0mself\u001b[0m\u001b[0;34m,\u001b[0m \u001b[0mresume\u001b[0m\u001b[0;34m:\u001b[0m \u001b[0mpb\u001b[0m\u001b[0;34m.\u001b[0m\u001b[0mResumeRequest\u001b[0m\u001b[0;34m)\u001b[0m \u001b[0;34m->\u001b[0m \u001b[0;32mNone\u001b[0m\u001b[0;34m:\u001b[0m\u001b[0;34m\u001b[0m\u001b[0;34m\u001b[0m\u001b[0m\n",
            "\u001b[0;32m/usr/local/lib/python3.10/dist-packages/wandb/sdk/interface/interface_sock.py\u001b[0m in \u001b[0;36m_publish\u001b[0;34m(self, record, local)\u001b[0m\n\u001b[1;32m     49\u001b[0m     \u001b[0;32mdef\u001b[0m \u001b[0m_publish\u001b[0m\u001b[0;34m(\u001b[0m\u001b[0mself\u001b[0m\u001b[0;34m,\u001b[0m \u001b[0mrecord\u001b[0m\u001b[0;34m:\u001b[0m \u001b[0;34m\"pb.Record\"\u001b[0m\u001b[0;34m,\u001b[0m \u001b[0mlocal\u001b[0m\u001b[0;34m:\u001b[0m \u001b[0mOptional\u001b[0m\u001b[0;34m[\u001b[0m\u001b[0mbool\u001b[0m\u001b[0;34m]\u001b[0m \u001b[0;34m=\u001b[0m \u001b[0;32mNone\u001b[0m\u001b[0;34m)\u001b[0m \u001b[0;34m->\u001b[0m \u001b[0;32mNone\u001b[0m\u001b[0;34m:\u001b[0m\u001b[0;34m\u001b[0m\u001b[0;34m\u001b[0m\u001b[0m\n\u001b[1;32m     50\u001b[0m         \u001b[0mself\u001b[0m\u001b[0;34m.\u001b[0m\u001b[0m_assign\u001b[0m\u001b[0;34m(\u001b[0m\u001b[0mrecord\u001b[0m\u001b[0;34m)\u001b[0m\u001b[0;34m\u001b[0m\u001b[0;34m\u001b[0m\u001b[0m\n\u001b[0;32m---> 51\u001b[0;31m         \u001b[0mself\u001b[0m\u001b[0;34m.\u001b[0m\u001b[0m_sock_client\u001b[0m\u001b[0;34m.\u001b[0m\u001b[0msend_record_publish\u001b[0m\u001b[0;34m(\u001b[0m\u001b[0mrecord\u001b[0m\u001b[0;34m)\u001b[0m\u001b[0;34m\u001b[0m\u001b[0;34m\u001b[0m\u001b[0m\n\u001b[0m\u001b[1;32m     52\u001b[0m \u001b[0;34m\u001b[0m\u001b[0m\n\u001b[1;32m     53\u001b[0m     def _communicate_async(\n",
            "\u001b[0;32m/usr/local/lib/python3.10/dist-packages/wandb/sdk/lib/sock_client.py\u001b[0m in \u001b[0;36msend_record_publish\u001b[0;34m(self, record)\u001b[0m\n\u001b[1;32m    219\u001b[0m         \u001b[0mserver_req\u001b[0m \u001b[0;34m=\u001b[0m \u001b[0mspb\u001b[0m\u001b[0;34m.\u001b[0m\u001b[0mServerRequest\u001b[0m\u001b[0;34m(\u001b[0m\u001b[0;34m)\u001b[0m\u001b[0;34m\u001b[0m\u001b[0;34m\u001b[0m\u001b[0m\n\u001b[1;32m    220\u001b[0m         \u001b[0mserver_req\u001b[0m\u001b[0;34m.\u001b[0m\u001b[0mrecord_publish\u001b[0m\u001b[0;34m.\u001b[0m\u001b[0mCopyFrom\u001b[0m\u001b[0;34m(\u001b[0m\u001b[0mrecord\u001b[0m\u001b[0;34m)\u001b[0m\u001b[0;34m\u001b[0m\u001b[0;34m\u001b[0m\u001b[0m\n\u001b[0;32m--> 221\u001b[0;31m         \u001b[0mself\u001b[0m\u001b[0;34m.\u001b[0m\u001b[0msend_server_request\u001b[0m\u001b[0;34m(\u001b[0m\u001b[0mserver_req\u001b[0m\u001b[0;34m)\u001b[0m\u001b[0;34m\u001b[0m\u001b[0;34m\u001b[0m\u001b[0m\n\u001b[0m\u001b[1;32m    222\u001b[0m \u001b[0;34m\u001b[0m\u001b[0m\n\u001b[1;32m    223\u001b[0m     \u001b[0;32mdef\u001b[0m \u001b[0m_extract_packet_bytes\u001b[0m\u001b[0;34m(\u001b[0m\u001b[0mself\u001b[0m\u001b[0;34m)\u001b[0m \u001b[0;34m->\u001b[0m \u001b[0mOptional\u001b[0m\u001b[0;34m[\u001b[0m\u001b[0mbytes\u001b[0m\u001b[0;34m]\u001b[0m\u001b[0;34m:\u001b[0m\u001b[0;34m\u001b[0m\u001b[0;34m\u001b[0m\u001b[0m\n",
            "\u001b[0;32m/usr/local/lib/python3.10/dist-packages/wandb/sdk/lib/sock_client.py\u001b[0m in \u001b[0;36msend_server_request\u001b[0;34m(self, msg)\u001b[0m\n\u001b[1;32m    153\u001b[0m \u001b[0;34m\u001b[0m\u001b[0m\n\u001b[1;32m    154\u001b[0m     \u001b[0;32mdef\u001b[0m \u001b[0msend_server_request\u001b[0m\u001b[0;34m(\u001b[0m\u001b[0mself\u001b[0m\u001b[0;34m,\u001b[0m \u001b[0mmsg\u001b[0m\u001b[0;34m:\u001b[0m \u001b[0mAny\u001b[0m\u001b[0;34m)\u001b[0m \u001b[0;34m->\u001b[0m \u001b[0;32mNone\u001b[0m\u001b[0;34m:\u001b[0m\u001b[0;34m\u001b[0m\u001b[0;34m\u001b[0m\u001b[0m\n\u001b[0;32m--> 155\u001b[0;31m         \u001b[0mself\u001b[0m\u001b[0;34m.\u001b[0m\u001b[0m_send_message\u001b[0m\u001b[0;34m(\u001b[0m\u001b[0mmsg\u001b[0m\u001b[0;34m)\u001b[0m\u001b[0;34m\u001b[0m\u001b[0;34m\u001b[0m\u001b[0m\n\u001b[0m\u001b[1;32m    156\u001b[0m \u001b[0;34m\u001b[0m\u001b[0m\n\u001b[1;32m    157\u001b[0m     \u001b[0;32mdef\u001b[0m \u001b[0msend_server_response\u001b[0m\u001b[0;34m(\u001b[0m\u001b[0mself\u001b[0m\u001b[0;34m,\u001b[0m \u001b[0mmsg\u001b[0m\u001b[0;34m:\u001b[0m \u001b[0mAny\u001b[0m\u001b[0;34m)\u001b[0m \u001b[0;34m->\u001b[0m \u001b[0;32mNone\u001b[0m\u001b[0;34m:\u001b[0m\u001b[0;34m\u001b[0m\u001b[0;34m\u001b[0m\u001b[0m\n",
            "\u001b[0;32m/usr/local/lib/python3.10/dist-packages/wandb/sdk/lib/sock_client.py\u001b[0m in \u001b[0;36m_send_message\u001b[0;34m(self, msg)\u001b[0m\n\u001b[1;32m    150\u001b[0m         \u001b[0mheader\u001b[0m \u001b[0;34m=\u001b[0m \u001b[0mstruct\u001b[0m\u001b[0;34m.\u001b[0m\u001b[0mpack\u001b[0m\u001b[0;34m(\u001b[0m\u001b[0;34m\"<BI\"\u001b[0m\u001b[0;34m,\u001b[0m \u001b[0mord\u001b[0m\u001b[0;34m(\u001b[0m\u001b[0;34m\"W\"\u001b[0m\u001b[0;34m)\u001b[0m\u001b[0;34m,\u001b[0m \u001b[0mraw_size\u001b[0m\u001b[0;34m)\u001b[0m\u001b[0;34m\u001b[0m\u001b[0;34m\u001b[0m\u001b[0m\n\u001b[1;32m    151\u001b[0m         \u001b[0;32mwith\u001b[0m \u001b[0mself\u001b[0m\u001b[0;34m.\u001b[0m\u001b[0m_lock\u001b[0m\u001b[0;34m:\u001b[0m\u001b[0;34m\u001b[0m\u001b[0;34m\u001b[0m\u001b[0m\n\u001b[0;32m--> 152\u001b[0;31m             \u001b[0mself\u001b[0m\u001b[0;34m.\u001b[0m\u001b[0m_sendall_with_error_handle\u001b[0m\u001b[0;34m(\u001b[0m\u001b[0mheader\u001b[0m \u001b[0;34m+\u001b[0m \u001b[0mdata\u001b[0m\u001b[0;34m)\u001b[0m\u001b[0;34m\u001b[0m\u001b[0;34m\u001b[0m\u001b[0m\n\u001b[0m\u001b[1;32m    153\u001b[0m \u001b[0;34m\u001b[0m\u001b[0m\n\u001b[1;32m    154\u001b[0m     \u001b[0;32mdef\u001b[0m \u001b[0msend_server_request\u001b[0m\u001b[0;34m(\u001b[0m\u001b[0mself\u001b[0m\u001b[0;34m,\u001b[0m \u001b[0mmsg\u001b[0m\u001b[0;34m:\u001b[0m \u001b[0mAny\u001b[0m\u001b[0;34m)\u001b[0m \u001b[0;34m->\u001b[0m \u001b[0;32mNone\u001b[0m\u001b[0;34m:\u001b[0m\u001b[0;34m\u001b[0m\u001b[0;34m\u001b[0m\u001b[0m\n",
            "\u001b[0;32m/usr/local/lib/python3.10/dist-packages/wandb/sdk/lib/sock_client.py\u001b[0m in \u001b[0;36m_sendall_with_error_handle\u001b[0;34m(self, data)\u001b[0m\n\u001b[1;32m    128\u001b[0m             \u001b[0mstart_time\u001b[0m \u001b[0;34m=\u001b[0m \u001b[0mtime\u001b[0m\u001b[0;34m.\u001b[0m\u001b[0mmonotonic\u001b[0m\u001b[0;34m(\u001b[0m\u001b[0;34m)\u001b[0m\u001b[0;34m\u001b[0m\u001b[0;34m\u001b[0m\u001b[0m\n\u001b[1;32m    129\u001b[0m             \u001b[0;32mtry\u001b[0m\u001b[0;34m:\u001b[0m\u001b[0;34m\u001b[0m\u001b[0;34m\u001b[0m\u001b[0m\n\u001b[0;32m--> 130\u001b[0;31m                 \u001b[0msent\u001b[0m \u001b[0;34m=\u001b[0m \u001b[0mself\u001b[0m\u001b[0;34m.\u001b[0m\u001b[0m_sock\u001b[0m\u001b[0;34m.\u001b[0m\u001b[0msend\u001b[0m\u001b[0;34m(\u001b[0m\u001b[0mdata\u001b[0m\u001b[0;34m)\u001b[0m\u001b[0;34m\u001b[0m\u001b[0;34m\u001b[0m\u001b[0m\n\u001b[0m\u001b[1;32m    131\u001b[0m                 \u001b[0;31m# sent equal to 0 indicates a closed socket\u001b[0m\u001b[0;34m\u001b[0m\u001b[0;34m\u001b[0m\u001b[0m\n\u001b[1;32m    132\u001b[0m                 \u001b[0;32mif\u001b[0m \u001b[0msent\u001b[0m \u001b[0;34m==\u001b[0m \u001b[0;36m0\u001b[0m\u001b[0;34m:\u001b[0m\u001b[0;34m\u001b[0m\u001b[0;34m\u001b[0m\u001b[0m\n",
            "\u001b[0;31mBrokenPipeError\u001b[0m: [Errno 32] Broken pipe"
          ]
        }
      ],
      "source": [
        "# 2: Define the search space\n",
        "# https://docs.wandb.ai/guides/sweeps/start-sweep-agents\n",
        " \n",
        "NUM=10\n",
        "!wandb agent babelbots/dreambooth-keras/sji6sheh --count $NUM"
      ]
    },
    {
      "cell_type": "code",
      "execution_count": null,
      "metadata": {
        "id": "nXvIWvW1noY4"
      },
      "outputs": [],
      "source": []
    }
  ],
  "metadata": {
    "accelerator": "GPU",
    "colab": {
      "provenance": [],
      "gpuType": "A100"
    },
    "gpuClass": "standard",
    "kernelspec": {
      "display_name": "Python 3",
      "name": "python3"
    },
    "language_info": {
      "name": "python"
    }
  },
  "nbformat": 4,
  "nbformat_minor": 0
}