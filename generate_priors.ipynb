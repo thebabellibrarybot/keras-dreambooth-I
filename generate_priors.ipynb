{
  "nbformat": 4,
  "nbformat_minor": 0,
  "metadata": {
    "colab": {
      "provenance": [],
      "gpuType": "T4"
    },
    "kernelspec": {
      "name": "python3",
      "display_name": "Python 3"
    },
    "language_info": {
      "name": "python"
    },
    "accelerator": "GPU",
    "gpuClass": "standard"
  },
  "cells": [
    {
      "cell_type": "code",
      "execution_count": null,
      "metadata": {
        "colab": {
          "base_uri": "https://localhost:8080/"
        },
        "id": "uAqjeZZWvV_T",
        "outputId": "72c1ec3e-7fc0-436a-bdbd-43ae18bb816e"
      },
      "outputs": [
        {
          "output_type": "stream",
          "name": "stdout",
          "text": [
            "  Installing build dependencies ... \u001b[?25l\u001b[?25hdone\n",
            "  Getting requirements to build wheel ... \u001b[?25l\u001b[?25hdone\n",
            "  Installing backend dependencies ... \u001b[?25l\u001b[?25hdone\n",
            "  Preparing metadata (pyproject.toml) ... \u001b[?25l\u001b[?25hdone\n",
            "Looking in indexes: https://pypi.org/simple, https://us-python.pkg.dev/colab-wheels/public/simple/\n",
            "Requirement already satisfied: wandb in /usr/local/lib/python3.10/dist-packages (0.15.2)\n",
            "Requirement already satisfied: Click!=8.0.0,>=7.0 in /usr/local/lib/python3.10/dist-packages (from wandb) (8.1.3)\n",
            "Requirement already satisfied: docker-pycreds>=0.4.0 in /usr/local/lib/python3.10/dist-packages (from wandb) (0.4.0)\n",
            "Requirement already satisfied: PyYAML in /usr/local/lib/python3.10/dist-packages (from wandb) (6.0)\n",
            "Requirement already satisfied: GitPython!=3.1.29,>=1.0.0 in /usr/local/lib/python3.10/dist-packages (from wandb) (3.1.31)\n",
            "Requirement already satisfied: psutil>=5.0.0 in /usr/local/lib/python3.10/dist-packages (from wandb) (5.9.5)\n",
            "Requirement already satisfied: sentry-sdk>=1.0.0 in /usr/local/lib/python3.10/dist-packages (from wandb) (1.22.2)\n",
            "Requirement already satisfied: setuptools in /usr/local/lib/python3.10/dist-packages (from wandb) (67.7.2)\n",
            "Requirement already satisfied: appdirs>=1.4.3 in /usr/local/lib/python3.10/dist-packages (from wandb) (1.4.4)\n",
            "Requirement already satisfied: requests<3,>=2.0.0 in /usr/local/lib/python3.10/dist-packages (from wandb) (2.27.1)\n",
            "Requirement already satisfied: protobuf!=4.21.0,<5,>=3.19.0 in /usr/local/lib/python3.10/dist-packages (from wandb) (3.20.3)\n",
            "Requirement already satisfied: setproctitle in /usr/local/lib/python3.10/dist-packages (from wandb) (1.3.2)\n",
            "Requirement already satisfied: pathtools in /usr/local/lib/python3.10/dist-packages (from wandb) (0.1.2)\n",
            "Requirement already satisfied: six>=1.4.0 in /usr/local/lib/python3.10/dist-packages (from docker-pycreds>=0.4.0->wandb) (1.16.0)\n",
            "Requirement already satisfied: gitdb<5,>=4.0.1 in /usr/local/lib/python3.10/dist-packages (from GitPython!=3.1.29,>=1.0.0->wandb) (4.0.10)\n",
            "Requirement already satisfied: urllib3<1.27,>=1.21.1 in /usr/local/lib/python3.10/dist-packages (from requests<3,>=2.0.0->wandb) (1.26.15)\n",
            "Requirement already satisfied: charset-normalizer~=2.0.0 in /usr/local/lib/python3.10/dist-packages (from requests<3,>=2.0.0->wandb) (2.0.12)\n",
            "Requirement already satisfied: certifi>=2017.4.17 in /usr/local/lib/python3.10/dist-packages (from requests<3,>=2.0.0->wandb) (2022.12.7)\n",
            "Requirement already satisfied: idna<4,>=2.5 in /usr/local/lib/python3.10/dist-packages (from requests<3,>=2.0.0->wandb) (3.4)\n",
            "Requirement already satisfied: smmap<6,>=3.0.1 in /usr/local/lib/python3.10/dist-packages (from gitdb<5,>=4.0.1->GitPython!=3.1.29,>=1.0.0->wandb) (5.0.0)\n"
          ]
        }
      ],
      "source": [
        "!pip install -q git+https://github.com/soumik12345/dreambooth-keras.git\n",
        "!pip install wandb"
      ]
    },
    {
      "cell_type": "code",
      "source": [
        "import wandb\n"
      ],
      "metadata": {
        "id": "95a-Oea6vapF"
      },
      "execution_count": null,
      "outputs": []
    },
    {
      "cell_type": "code",
      "source": [
        "wandb.init(project=\"dreambooth-keras\", job_type=\"inference\")\n"
      ],
      "metadata": {
        "colab": {
          "base_uri": "https://localhost:8080/",
          "height": 142
        },
        "id": "zk-uZ70kv2qI",
        "outputId": "4a6c8451-414b-45f0-bfd1-df98906140c5"
      },
      "execution_count": null,
      "outputs": [
        {
          "output_type": "stream",
          "name": "stderr",
          "text": [
            "\u001b[34m\u001b[1mwandb\u001b[0m: Currently logged in as: \u001b[33mmumbot\u001b[0m (\u001b[33mbabelbots\u001b[0m). Use \u001b[1m`wandb login --relogin`\u001b[0m to force relogin\n"
          ]
        },
        {
          "output_type": "display_data",
          "data": {
            "text/plain": [
              "<IPython.core.display.HTML object>"
            ],
            "text/html": [
              "Tracking run with wandb version 0.15.2"
            ]
          },
          "metadata": {}
        },
        {
          "output_type": "display_data",
          "data": {
            "text/plain": [
              "<IPython.core.display.HTML object>"
            ],
            "text/html": [
              "Run data is saved locally in <code>/content/wandb/run-20230508_230746-f38gp058</code>"
            ]
          },
          "metadata": {}
        },
        {
          "output_type": "display_data",
          "data": {
            "text/plain": [
              "<IPython.core.display.HTML object>"
            ],
            "text/html": [
              "Syncing run <strong><a href='https://wandb.ai/babelbots/dreambooth-keras/runs/f38gp058' target=\"_blank\">clean-dew-11</a></strong> to <a href='https://wandb.ai/babelbots/dreambooth-keras' target=\"_blank\">Weights & Biases</a> (<a href='https://wandb.me/run' target=\"_blank\">docs</a>)<br/>"
            ]
          },
          "metadata": {}
        },
        {
          "output_type": "display_data",
          "data": {
            "text/plain": [
              "<IPython.core.display.HTML object>"
            ],
            "text/html": [
              " View project at <a href='https://wandb.ai/babelbots/dreambooth-keras' target=\"_blank\">https://wandb.ai/babelbots/dreambooth-keras</a>"
            ]
          },
          "metadata": {}
        },
        {
          "output_type": "display_data",
          "data": {
            "text/plain": [
              "<IPython.core.display.HTML object>"
            ],
            "text/html": [
              " View run at <a href='https://wandb.ai/babelbots/dreambooth-keras/runs/f38gp058' target=\"_blank\">https://wandb.ai/babelbots/dreambooth-keras/runs/f38gp058</a>"
            ]
          },
          "metadata": {}
        },
        {
          "output_type": "execute_result",
          "data": {
            "text/html": [
              "<button onClick=\"this.nextSibling.style.display='block';this.style.display='none';\">Display W&B run</button><iframe src='https://wandb.ai/babelbots/dreambooth-keras/runs/f38gp058?jupyter=true' style='border:none;width:100%;height:420px;display:none;'></iframe>"
            ],
            "text/plain": [
              "<wandb.sdk.wandb_run.Run at 0x7f6584c3aa10>"
            ]
          },
          "metadata": {},
          "execution_count": 3
        }
      ]
    },
    {
      "cell_type": "code",
      "source": [
        "!pip install Pillow==9.0.0\n",
        "\n",
        "from tqdm import tqdm\n",
        "import numpy as np \n",
        "import hashlib\n",
        "import shutil\n",
        "import PIL \n",
        "from PIL import ImageOps\n",
        "import os\n",
        "\n",
        "import wandb\n",
        "import keras_cv\n",
        "import tensorflow as tf"
      ],
      "metadata": {
        "id": "DTOtNWvSv8OT",
        "colab": {
          "base_uri": "https://localhost:8080/"
        },
        "outputId": "226c4042-3089-4f8b-e50e-cff208674d1b"
      },
      "execution_count": null,
      "outputs": [
        {
          "output_type": "stream",
          "name": "stdout",
          "text": [
            "Looking in indexes: https://pypi.org/simple, https://us-python.pkg.dev/colab-wheels/public/simple/\n",
            "Collecting Pillow==9.0.0\n",
            "  Using cached Pillow-9.0.0-cp310-cp310-manylinux_2_17_x86_64.manylinux2014_x86_64.whl (4.3 MB)\n",
            "Installing collected packages: Pillow\n",
            "  Attempting uninstall: Pillow\n",
            "    Found existing installation: Pillow 9.4.0\n",
            "    Uninstalling Pillow-9.4.0:\n",
            "      Successfully uninstalled Pillow-9.4.0\n",
            "\u001b[31mERROR: pip's dependency resolver does not currently take into account all the packages that are installed. This behaviour is the source of the following dependency conflicts.\n",
            "dreambooth-keras 0.0.0 requires pillow==9.4.0, but you have pillow 9.0.0 which is incompatible.\u001b[0m\u001b[31m\n",
            "\u001b[0mSuccessfully installed Pillow-9.0.0\n"
          ]
        }
      ]
    },
    {
      "cell_type": "code",
      "source": [
        "config = wandb.config\n",
        "config.image_resolution = 512\n",
        "config.class_prompt = \"pixel-art-character\"\n",
        "config.num_imgs_to_generate = 200\n",
        "config.batch_size = 3\n",
        "config.wandb_artifact_name = \"mc-instance\"\n",
        "\n",
        "\n",
        "tf.keras.mixed_precision.set_global_policy(\"mixed_float16\")\n",
        "model = keras_cv.models.StableDiffusion(\n",
        "    img_width=config.image_resolution,\n",
        "    img_height=config.image_resolution,\n",
        "    jit_compile=True\n",
        ")"
      ],
      "metadata": {
        "colab": {
          "base_uri": "https://localhost:8080/"
        },
        "id": "JNpaBBETw298",
        "outputId": "db00d116-cd2c-48b2-f6cc-a6090350d001"
      },
      "execution_count": null,
      "outputs": [
        {
          "output_type": "stream",
          "name": "stdout",
          "text": [
            "By using this model checkpoint, you acknowledge that its usage is subject to the terms of the CreativeML Open RAIL-M license at https://raw.githubusercontent.com/CompVis/stable-diffusion/main/LICENSE\n"
          ]
        }
      ]
    },
    {
      "cell_type": "code",
      "source": [
        "os.makedirs(\"class-imagesII\", exist_ok=True)\n",
        "\n",
        "for i in tqdm(range(config.num_imgs_to_generate)):\n",
        "    images = model.text_to_image(\n",
        "        config.class_prompt,\n",
        "        batch_size=config.batch_size,\n",
        "    )\n",
        "    idx = np.random.choice(len(images))\n",
        "    selected_image = PIL.Image.fromarray(images[idx])\n",
        "    print(type(selected_image))\n",
        "\n",
        "    hash_image = hashlib.sha1(selected_image.tobytes()).hexdigest()\n",
        "    image_filename = os.path.join(\"class-imagesII\", f\"{hash_image}.jpg\")\n",
        "    print(image_filename)\n",
        "    selected_image.save(image_filename)\n",
        "\n",
        "artifact = wandb.Artifact(config.wandb_artifact_name, type='dataset')\n",
        "artifact.add_dir(\"class-imagesII\")\n",
        "wandb.log_artifact(artifact)\n",
        "\n",
        "wandb.finish()\n",
        "\n",
        "shutil.rmtree(\"class-images\")"
      ],
      "metadata": {
        "colab": {
          "base_uri": "https://localhost:8080/",
          "height": 1000
        },
        "id": "CRKPd7byxdjE",
        "outputId": "ea6eab14-f7e5-4801-98fd-c92a14a2efec"
      },
      "execution_count": null,
      "outputs": [
        {
          "output_type": "stream",
          "name": "stderr",
          "text": [
            "\r  0%|          | 0/200 [00:00<?, ?it/s]"
          ]
        },
        {
          "output_type": "stream",
          "name": "stdout",
          "text": [
            "Downloading data from https://huggingface.co/fchollet/stable-diffusion/resolve/main/kcv_diffusion_model.h5\n",
            "3439090152/3439090152 [==============================] - 36s 0us/step\n",
            "25/25 [==============================] - 550s 615ms/step\n",
            "Downloading data from https://huggingface.co/fchollet/stable-diffusion/resolve/main/kcv_decoder.h5\n",
            "198180272/198180272 [==============================] - 1s 0us/step\n"
          ]
        },
        {
          "output_type": "stream",
          "name": "stderr",
          "text": [
            "\r  0%|          | 1/200 [13:01<43:10:50, 781.16s/it]"
          ]
        },
        {
          "output_type": "stream",
          "name": "stdout",
          "text": [
            "<class 'PIL.Image.Image'>\n",
            "class-imagesII/7fa651672079e1623254db75b01446eea9a3b918.jpg\n",
            "25/25 [==============================] - 15s 612ms/step\n"
          ]
        },
        {
          "output_type": "stream",
          "name": "stderr",
          "text": [
            "\r  1%|          | 2/200 [13:17<18:13:05, 331.24s/it]"
          ]
        },
        {
          "output_type": "stream",
          "name": "stdout",
          "text": [
            "<class 'PIL.Image.Image'>\n",
            "class-imagesII/1158a493b5cf3053cbe309b8841f2435aa93c06c.jpg\n",
            "25/25 [==============================] - 16s 626ms/step\n"
          ]
        },
        {
          "output_type": "stream",
          "name": "stderr",
          "text": [
            "\r  2%|▏         | 3/200 [13:33<10:15:25, 187.44s/it]"
          ]
        },
        {
          "output_type": "stream",
          "name": "stdout",
          "text": [
            "<class 'PIL.Image.Image'>\n",
            "class-imagesII/2f2b18b4117245ec36a4671f676830247d6cf9e8.jpg\n",
            "25/25 [==============================] - 15s 608ms/step\n"
          ]
        },
        {
          "output_type": "stream",
          "name": "stderr",
          "text": [
            "\r  2%|▏         | 4/200 [13:49<6:30:58, 119.69s/it] "
          ]
        },
        {
          "output_type": "stream",
          "name": "stdout",
          "text": [
            "<class 'PIL.Image.Image'>\n",
            "class-imagesII/ddb5103952557c202e9220272afd10f8937908d4.jpg\n",
            "25/25 [==============================] - 15s 604ms/step\n"
          ]
        },
        {
          "output_type": "stream",
          "name": "stderr",
          "text": [
            "\r  2%|▎         | 5/200 [14:05<4:27:06, 82.19s/it] "
          ]
        },
        {
          "output_type": "stream",
          "name": "stdout",
          "text": [
            "<class 'PIL.Image.Image'>\n",
            "class-imagesII/cc5dc7a13949f8bb2a3ecdf5c13ec3968441bf5c.jpg\n",
            "25/25 [==============================] - 15s 600ms/step\n"
          ]
        },
        {
          "output_type": "stream",
          "name": "stderr",
          "text": [
            "\r  3%|▎         | 6/200 [14:20<3:12:33, 59.55s/it]"
          ]
        },
        {
          "output_type": "stream",
          "name": "stdout",
          "text": [
            "<class 'PIL.Image.Image'>\n",
            "class-imagesII/bec93f54b25c76e1f8eaac1b07ce490675d3b48f.jpg\n",
            "25/25 [==============================] - 15s 604ms/step\n"
          ]
        },
        {
          "output_type": "stream",
          "name": "stderr",
          "text": [
            "\r  4%|▎         | 7/200 [14:36<2:25:33, 45.25s/it]"
          ]
        },
        {
          "output_type": "stream",
          "name": "stdout",
          "text": [
            "<class 'PIL.Image.Image'>\n",
            "class-imagesII/fa6d732845c86699777a58277d87d64fe1531fcc.jpg\n",
            "25/25 [==============================] - 15s 611ms/step\n"
          ]
        },
        {
          "output_type": "stream",
          "name": "stderr",
          "text": [
            "\r  4%|▍         | 8/200 [14:52<1:54:57, 35.92s/it]"
          ]
        },
        {
          "output_type": "stream",
          "name": "stdout",
          "text": [
            "<class 'PIL.Image.Image'>\n",
            "class-imagesII/1eac294c9e87ec6d8176fd6e0755c8dbc8714560.jpg\n",
            "25/25 [==============================] - 15s 606ms/step\n"
          ]
        },
        {
          "output_type": "stream",
          "name": "stderr",
          "text": [
            "\r  4%|▍         | 9/200 [15:08<1:34:17, 29.62s/it]"
          ]
        },
        {
          "output_type": "stream",
          "name": "stdout",
          "text": [
            "<class 'PIL.Image.Image'>\n",
            "class-imagesII/af6f7cd9a8923dd4199b44a18e6deb20badbc1bb.jpg\n",
            "25/25 [==============================] - 15s 604ms/step\n"
          ]
        },
        {
          "output_type": "stream",
          "name": "stderr",
          "text": [
            "\r  5%|▌         | 10/200 [15:24<1:20:13, 25.33s/it]"
          ]
        },
        {
          "output_type": "stream",
          "name": "stdout",
          "text": [
            "<class 'PIL.Image.Image'>\n",
            "class-imagesII/ad939258b1f05a4686b349555b5c6cd2fd2cb9f9.jpg\n",
            "25/25 [==============================] - 15s 602ms/step\n"
          ]
        },
        {
          "output_type": "stream",
          "name": "stderr",
          "text": [
            "\r  6%|▌         | 11/200 [15:39<1:10:28, 22.37s/it]"
          ]
        },
        {
          "output_type": "stream",
          "name": "stdout",
          "text": [
            "<class 'PIL.Image.Image'>\n",
            "class-imagesII/da0a53f5b1f4fb926e51a40f7ff83618a89db180.jpg\n",
            "25/25 [==============================] - 15s 603ms/step\n"
          ]
        },
        {
          "output_type": "stream",
          "name": "stderr",
          "text": [
            "\r  6%|▌         | 12/200 [15:55<1:03:47, 20.36s/it]"
          ]
        },
        {
          "output_type": "stream",
          "name": "stdout",
          "text": [
            "<class 'PIL.Image.Image'>\n",
            "class-imagesII/45fb03ec256e9ff2f2d7a584c103a0d075cb5e6e.jpg\n",
            "25/25 [==============================] - 15s 610ms/step\n"
          ]
        },
        {
          "output_type": "stream",
          "name": "stderr",
          "text": [
            "\r  6%|▋         | 13/200 [16:11<59:33, 19.11s/it]  "
          ]
        },
        {
          "output_type": "stream",
          "name": "stdout",
          "text": [
            "<class 'PIL.Image.Image'>\n",
            "class-imagesII/74fb4f7c1cdd77cca6acdadfef6f64f54e11fce1.jpg\n",
            "25/25 [==============================] - 15s 605ms/step\n"
          ]
        },
        {
          "output_type": "stream",
          "name": "stderr",
          "text": [
            "\r  7%|▋         | 14/200 [16:27<56:07, 18.11s/it]"
          ]
        },
        {
          "output_type": "stream",
          "name": "stdout",
          "text": [
            "<class 'PIL.Image.Image'>\n",
            "class-imagesII/5b44afb0825582709d5a63c26b85f0dfa7e3966b.jpg\n",
            "25/25 [==============================] - 15s 602ms/step\n"
          ]
        },
        {
          "output_type": "stream",
          "name": "stderr",
          "text": [
            "\r  8%|▊         | 15/200 [16:43<53:35, 17.38s/it]"
          ]
        },
        {
          "output_type": "stream",
          "name": "stdout",
          "text": [
            "<class 'PIL.Image.Image'>\n",
            "class-imagesII/3d8433e940d0542a0c030894b49243bd5111e181.jpg\n",
            "25/25 [==============================] - 15s 603ms/step\n"
          ]
        },
        {
          "output_type": "stream",
          "name": "stderr",
          "text": [
            "\r  8%|▊         | 16/200 [16:58<51:44, 16.87s/it]"
          ]
        },
        {
          "output_type": "stream",
          "name": "stdout",
          "text": [
            "<class 'PIL.Image.Image'>\n",
            "class-imagesII/57a401bfdf344a6faae827f145dd3fe9eb0271a2.jpg\n",
            "25/25 [==============================] - 15s 604ms/step\n"
          ]
        },
        {
          "output_type": "stream",
          "name": "stderr",
          "text": [
            "\r  8%|▊         | 17/200 [17:14<50:23, 16.52s/it]"
          ]
        },
        {
          "output_type": "stream",
          "name": "stdout",
          "text": [
            "<class 'PIL.Image.Image'>\n",
            "class-imagesII/eb8ecb85e7e1c1874200c239d49c51b12fa0ded1.jpg\n",
            "25/25 [==============================] - 15s 612ms/step\n"
          ]
        },
        {
          "output_type": "stream",
          "name": "stderr",
          "text": [
            "\r  9%|▉         | 18/200 [17:30<49:54, 16.45s/it]"
          ]
        },
        {
          "output_type": "stream",
          "name": "stdout",
          "text": [
            "<class 'PIL.Image.Image'>\n",
            "class-imagesII/ce332deedae2a4c94707ba6c665f222088099706.jpg\n",
            "25/25 [==============================] - 15s 608ms/step\n"
          ]
        },
        {
          "output_type": "stream",
          "name": "stderr",
          "text": [
            "\r 10%|▉         | 19/200 [17:46<49:05, 16.28s/it]"
          ]
        },
        {
          "output_type": "stream",
          "name": "stdout",
          "text": [
            "<class 'PIL.Image.Image'>\n",
            "class-imagesII/1e034e604c26695e36eeaa629ebf3eea43e38a77.jpg\n",
            "25/25 [==============================] - 15s 608ms/step\n"
          ]
        },
        {
          "output_type": "stream",
          "name": "stderr",
          "text": [
            "\r 10%|█         | 20/200 [18:02<48:25, 16.14s/it]"
          ]
        },
        {
          "output_type": "stream",
          "name": "stdout",
          "text": [
            "<class 'PIL.Image.Image'>\n",
            "class-imagesII/2b026bd8ffd55e7abb97a1a6884bfaa0d17854da.jpg\n",
            "25/25 [==============================] - 15s 604ms/step\n"
          ]
        },
        {
          "output_type": "stream",
          "name": "stderr",
          "text": [
            "\r 10%|█         | 21/200 [18:18<47:57, 16.08s/it]"
          ]
        },
        {
          "output_type": "stream",
          "name": "stdout",
          "text": [
            "<class 'PIL.Image.Image'>\n",
            "class-imagesII/6979c59324aae86fc7d6ee7cade4e1253ce90196.jpg\n",
            "25/25 [==============================] - 15s 603ms/step\n"
          ]
        },
        {
          "output_type": "stream",
          "name": "stderr",
          "text": [
            "\r 11%|█         | 22/200 [18:34<47:37, 16.05s/it]"
          ]
        },
        {
          "output_type": "stream",
          "name": "stdout",
          "text": [
            "<class 'PIL.Image.Image'>\n",
            "class-imagesII/de2b64ca72310f3e0902ccb7a8a7b1a547e3bfe3.jpg\n",
            "25/25 [==============================] - 15s 610ms/step\n"
          ]
        },
        {
          "output_type": "stream",
          "name": "stderr",
          "text": [
            "\r 12%|█▏        | 23/200 [18:50<47:17, 16.03s/it]"
          ]
        },
        {
          "output_type": "stream",
          "name": "stdout",
          "text": [
            "<class 'PIL.Image.Image'>\n",
            "class-imagesII/819891e59f83503b099d33efc3d2b846008becd9.jpg\n",
            "25/25 [==============================] - 15s 604ms/step\n"
          ]
        },
        {
          "output_type": "stream",
          "name": "stderr",
          "text": [
            "\r 12%|█▏        | 24/200 [19:06<46:45, 15.94s/it]"
          ]
        },
        {
          "output_type": "stream",
          "name": "stdout",
          "text": [
            "<class 'PIL.Image.Image'>\n",
            "class-imagesII/9090f96dbd9e8aeb04777f8edf5f454b7f6aeff0.jpg\n",
            "25/25 [==============================] - 15s 602ms/step\n"
          ]
        },
        {
          "output_type": "stream",
          "name": "stderr",
          "text": [
            "\r 12%|█▎        | 25/200 [19:21<46:16, 15.87s/it]"
          ]
        },
        {
          "output_type": "stream",
          "name": "stdout",
          "text": [
            "<class 'PIL.Image.Image'>\n",
            "class-imagesII/35a1446e227fa6ccaa03a8d3710597ef76a75a5e.jpg\n",
            "25/25 [==============================] - 15s 608ms/step\n"
          ]
        },
        {
          "output_type": "stream",
          "name": "stderr",
          "text": [
            "\r 13%|█▎        | 26/200 [19:37<45:57, 15.85s/it]"
          ]
        },
        {
          "output_type": "stream",
          "name": "stdout",
          "text": [
            "<class 'PIL.Image.Image'>\n",
            "class-imagesII/2327e11bd8003adf3455a645d59f8e251d1ec306.jpg\n",
            "25/25 [==============================] - 15s 610ms/step\n"
          ]
        },
        {
          "output_type": "stream",
          "name": "stderr",
          "text": [
            "\r 14%|█▎        | 27/200 [19:53<45:42, 15.85s/it]"
          ]
        },
        {
          "output_type": "stream",
          "name": "stdout",
          "text": [
            "<class 'PIL.Image.Image'>\n",
            "class-imagesII/19ead97bc1100faa90363b44a73b60649cf1433a.jpg\n",
            "25/25 [==============================] - 15s 616ms/step\n"
          ]
        },
        {
          "output_type": "stream",
          "name": "stderr",
          "text": [
            "\r 14%|█▍        | 28/200 [20:09<45:51, 15.99s/it]"
          ]
        },
        {
          "output_type": "stream",
          "name": "stdout",
          "text": [
            "<class 'PIL.Image.Image'>\n",
            "class-imagesII/ceaa849e81663306e362a3ac451583b7c4535e45.jpg\n",
            "25/25 [==============================] - 15s 606ms/step\n"
          ]
        },
        {
          "output_type": "stream",
          "name": "stderr",
          "text": [
            "\r 14%|█▍        | 29/200 [20:25<45:26, 15.95s/it]"
          ]
        },
        {
          "output_type": "stream",
          "name": "stdout",
          "text": [
            "<class 'PIL.Image.Image'>\n",
            "class-imagesII/6a5a3c59ae3b79dfe0e6e08e03a88bc205675021.jpg\n",
            "25/25 [==============================] - 15s 603ms/step\n"
          ]
        },
        {
          "output_type": "stream",
          "name": "stderr",
          "text": [
            "\r 15%|█▌        | 30/200 [20:41<44:57, 15.87s/it]"
          ]
        },
        {
          "output_type": "stream",
          "name": "stdout",
          "text": [
            "<class 'PIL.Image.Image'>\n",
            "class-imagesII/41e6c4f730b54dceae09fc14a4cb3dc12c87899a.jpg\n",
            "25/25 [==============================] - 15s 607ms/step\n"
          ]
        },
        {
          "output_type": "stream",
          "name": "stderr",
          "text": [
            "\r 16%|█▌        | 31/200 [20:57<44:38, 15.85s/it]"
          ]
        },
        {
          "output_type": "stream",
          "name": "stdout",
          "text": [
            "<class 'PIL.Image.Image'>\n",
            "class-imagesII/97b3dce099b12b3edc1de07cab2f40540a6b617e.jpg\n",
            "25/25 [==============================] - 15s 606ms/step\n"
          ]
        },
        {
          "output_type": "stream",
          "name": "stderr",
          "text": [
            "\r 16%|█▌        | 32/200 [21:13<44:18, 15.83s/it]"
          ]
        },
        {
          "output_type": "stream",
          "name": "stdout",
          "text": [
            "<class 'PIL.Image.Image'>\n",
            "class-imagesII/d89fc70b55a768048249d306a05cce05336bdfc6.jpg\n",
            "25/25 [==============================] - 15s 607ms/step\n"
          ]
        },
        {
          "output_type": "stream",
          "name": "stderr",
          "text": [
            "\r 16%|█▋        | 33/200 [21:29<44:19, 15.92s/it]"
          ]
        },
        {
          "output_type": "stream",
          "name": "stdout",
          "text": [
            "<class 'PIL.Image.Image'>\n",
            "class-imagesII/57a94ce8066b9dcecde41998776d25f1c124704c.jpg\n",
            "25/25 [==============================] - 15s 601ms/step\n"
          ]
        },
        {
          "output_type": "stream",
          "name": "stderr",
          "text": [
            "\r 17%|█▋        | 34/200 [21:44<43:51, 15.85s/it]"
          ]
        },
        {
          "output_type": "stream",
          "name": "stdout",
          "text": [
            "<class 'PIL.Image.Image'>\n",
            "class-imagesII/26d9b5e600740b7aa322384022aeb85a6d4f31aa.jpg\n",
            "25/25 [==============================] - 15s 603ms/step\n"
          ]
        },
        {
          "output_type": "stream",
          "name": "stderr",
          "text": [
            "\r 18%|█▊        | 35/200 [22:00<43:28, 15.81s/it]"
          ]
        },
        {
          "output_type": "stream",
          "name": "stdout",
          "text": [
            "<class 'PIL.Image.Image'>\n",
            "class-imagesII/0e8381850fb23e8892ec90f39f04a8c3a2f85682.jpg\n",
            "25/25 [==============================] - 15s 605ms/step\n"
          ]
        },
        {
          "output_type": "stream",
          "name": "stderr",
          "text": [
            "\r 18%|█▊        | 36/200 [22:16<43:09, 15.79s/it]"
          ]
        },
        {
          "output_type": "stream",
          "name": "stdout",
          "text": [
            "<class 'PIL.Image.Image'>\n",
            "class-imagesII/9dc23aa4ef38e71297a6832ca1154c6b795a499d.jpg\n",
            "25/25 [==============================] - 15s 603ms/step\n"
          ]
        },
        {
          "output_type": "stream",
          "name": "stderr",
          "text": [
            "\r 18%|█▊        | 37/200 [22:32<42:49, 15.76s/it]"
          ]
        },
        {
          "output_type": "stream",
          "name": "stdout",
          "text": [
            "<class 'PIL.Image.Image'>\n",
            "class-imagesII/f8109f1a3c4b52e1789453891290d1c67ca23e08.jpg\n",
            "25/25 [==============================] - 15s 609ms/step\n"
          ]
        },
        {
          "output_type": "stream",
          "name": "stderr",
          "text": [
            "\r 19%|█▉        | 38/200 [22:48<42:51, 15.88s/it]"
          ]
        },
        {
          "output_type": "stream",
          "name": "stdout",
          "text": [
            "<class 'PIL.Image.Image'>\n",
            "class-imagesII/2ac2b89dc9e62a5c7024c648bb454bf2e0aa05dc.jpg\n",
            "25/25 [==============================] - 15s 603ms/step\n"
          ]
        },
        {
          "output_type": "stream",
          "name": "stderr",
          "text": [
            "\r 20%|█▉        | 39/200 [23:03<42:31, 15.85s/it]"
          ]
        },
        {
          "output_type": "stream",
          "name": "stdout",
          "text": [
            "<class 'PIL.Image.Image'>\n",
            "class-imagesII/2777fbbafcc43e1d052be2756381e1ab2d61e37d.jpg\n",
            "25/25 [==============================] - 15s 604ms/step\n"
          ]
        },
        {
          "output_type": "stream",
          "name": "stderr",
          "text": [
            "\r 20%|██        | 40/200 [23:19<42:10, 15.81s/it]"
          ]
        },
        {
          "output_type": "stream",
          "name": "stdout",
          "text": [
            "<class 'PIL.Image.Image'>\n",
            "class-imagesII/574972af2389b9fffc1fb98b174971011cf2d4a5.jpg\n",
            "25/25 [==============================] - 15s 609ms/step\n"
          ]
        },
        {
          "output_type": "stream",
          "name": "stderr",
          "text": [
            "\r 20%|██        | 41/200 [23:35<41:56, 15.83s/it]"
          ]
        },
        {
          "output_type": "stream",
          "name": "stdout",
          "text": [
            "<class 'PIL.Image.Image'>\n",
            "class-imagesII/a0eb6a654a26eed230ba61482e4ae1b5e22ca4e3.jpg\n",
            "25/25 [==============================] - 15s 604ms/step\n"
          ]
        },
        {
          "output_type": "stream",
          "name": "stderr",
          "text": [
            "\r 21%|██        | 42/200 [23:51<41:36, 15.80s/it]"
          ]
        },
        {
          "output_type": "stream",
          "name": "stdout",
          "text": [
            "<class 'PIL.Image.Image'>\n",
            "class-imagesII/4e6b287de65c475abb580f94413fd25e80072be5.jpg\n",
            "25/25 [==============================] - 15s 609ms/step\n"
          ]
        },
        {
          "output_type": "stream",
          "name": "stderr",
          "text": [
            "\r 22%|██▏       | 43/200 [24:07<41:26, 15.84s/it]"
          ]
        },
        {
          "output_type": "stream",
          "name": "stdout",
          "text": [
            "<class 'PIL.Image.Image'>\n",
            "class-imagesII/f921979a9a1c91c14a2fd70f8fcb67d0b8450737.jpg\n",
            "25/25 [==============================] - 15s 610ms/step\n"
          ]
        },
        {
          "output_type": "stream",
          "name": "stderr",
          "text": [
            "\r 22%|██▏       | 44/200 [24:23<41:15, 15.87s/it]"
          ]
        },
        {
          "output_type": "stream",
          "name": "stdout",
          "text": [
            "<class 'PIL.Image.Image'>\n",
            "class-imagesII/375fc12dec9c380c265b2635a858bf9c11522abb.jpg\n",
            "25/25 [==============================] - 15s 609ms/step\n"
          ]
        },
        {
          "output_type": "stream",
          "name": "stderr",
          "text": [
            "\r 22%|██▎       | 45/200 [24:39<40:58, 15.86s/it]"
          ]
        },
        {
          "output_type": "stream",
          "name": "stdout",
          "text": [
            "<class 'PIL.Image.Image'>\n",
            "class-imagesII/b8100024c631e010aa7725724e128c315250662d.jpg\n",
            "25/25 [==============================] - 15s 602ms/step\n"
          ]
        },
        {
          "output_type": "stream",
          "name": "stderr",
          "text": [
            "\r 23%|██▎       | 46/200 [24:54<40:34, 15.81s/it]"
          ]
        },
        {
          "output_type": "stream",
          "name": "stdout",
          "text": [
            "<class 'PIL.Image.Image'>\n",
            "class-imagesII/71d8d9c7e5d29b76e4cc2c77e7924b68cc27aa94.jpg\n",
            "25/25 [==============================] - 15s 607ms/step\n"
          ]
        },
        {
          "output_type": "stream",
          "name": "stderr",
          "text": [
            "\r 24%|██▎       | 47/200 [25:10<40:18, 15.81s/it]"
          ]
        },
        {
          "output_type": "stream",
          "name": "stdout",
          "text": [
            "<class 'PIL.Image.Image'>\n",
            "class-imagesII/70ea782123e8b7ac34d1e544fb4e92d10c9ae643.jpg\n",
            "25/25 [==============================] - 15s 611ms/step\n"
          ]
        },
        {
          "output_type": "stream",
          "name": "stderr",
          "text": [
            "\r 24%|██▍       | 48/200 [25:26<40:10, 15.86s/it]"
          ]
        },
        {
          "output_type": "stream",
          "name": "stdout",
          "text": [
            "<class 'PIL.Image.Image'>\n",
            "class-imagesII/5c118a84473df1aa416257720cc049921fb0deb1.jpg\n",
            "25/25 [==============================] - 15s 607ms/step\n"
          ]
        },
        {
          "output_type": "stream",
          "name": "stderr",
          "text": [
            "\r 24%|██▍       | 49/200 [25:42<39:55, 15.86s/it]"
          ]
        },
        {
          "output_type": "stream",
          "name": "stdout",
          "text": [
            "<class 'PIL.Image.Image'>\n",
            "class-imagesII/deb2025f8f9f397c9a7eda39ac17f28bf156e889.jpg\n",
            "25/25 [==============================] - 15s 602ms/step\n"
          ]
        },
        {
          "output_type": "stream",
          "name": "stderr",
          "text": [
            "\r 25%|██▌       | 50/200 [25:58<39:31, 15.81s/it]"
          ]
        },
        {
          "output_type": "stream",
          "name": "stdout",
          "text": [
            "<class 'PIL.Image.Image'>\n",
            "class-imagesII/c5f63906597683b4d04601d96a545f35719bee93.jpg\n",
            "25/25 [==============================] - 15s 606ms/step\n"
          ]
        },
        {
          "output_type": "stream",
          "name": "stderr",
          "text": [
            "\r 26%|██▌       | 51/200 [26:13<39:13, 15.80s/it]"
          ]
        },
        {
          "output_type": "stream",
          "name": "stdout",
          "text": [
            "<class 'PIL.Image.Image'>\n",
            "class-imagesII/fc2362dccff39f3b6147e54760a50de55b6f20ee.jpg\n",
            "25/25 [==============================] - 15s 609ms/step\n"
          ]
        },
        {
          "output_type": "stream",
          "name": "stderr",
          "text": [
            "\r 26%|██▌       | 52/200 [26:29<38:59, 15.81s/it]"
          ]
        },
        {
          "output_type": "stream",
          "name": "stdout",
          "text": [
            "<class 'PIL.Image.Image'>\n",
            "class-imagesII/8a288013775492b45e2c585088ac13987747af8b.jpg\n",
            "25/25 [==============================] - 15s 608ms/step\n"
          ]
        },
        {
          "output_type": "stream",
          "name": "stderr",
          "text": [
            "\r 26%|██▋       | 53/200 [26:45<38:57, 15.90s/it]"
          ]
        },
        {
          "output_type": "stream",
          "name": "stdout",
          "text": [
            "<class 'PIL.Image.Image'>\n",
            "class-imagesII/a325560f6c5c996ddea32ed1d54bb06e0cb2ea50.jpg\n",
            "25/25 [==============================] - 15s 608ms/step\n"
          ]
        },
        {
          "output_type": "stream",
          "name": "stderr",
          "text": [
            "\r 27%|██▋       | 54/200 [27:01<38:42, 15.90s/it]"
          ]
        },
        {
          "output_type": "stream",
          "name": "stdout",
          "text": [
            "<class 'PIL.Image.Image'>\n",
            "class-imagesII/550c4d652772d7d3a707b5f5548ab8827fa9b74e.jpg\n",
            "25/25 [==============================] - 15s 607ms/step\n"
          ]
        },
        {
          "output_type": "stream",
          "name": "stderr",
          "text": [
            "\r 28%|██▊       | 55/200 [27:17<38:21, 15.87s/it]"
          ]
        },
        {
          "output_type": "stream",
          "name": "stdout",
          "text": [
            "<class 'PIL.Image.Image'>\n",
            "class-imagesII/c22afb38ac404f8dc7cd58ba5f4ca09ee5ea3bf5.jpg\n",
            "25/25 [==============================] - 15s 607ms/step\n"
          ]
        },
        {
          "output_type": "stream",
          "name": "stderr",
          "text": [
            "\r 28%|██▊       | 56/200 [27:33<38:01, 15.84s/it]"
          ]
        },
        {
          "output_type": "stream",
          "name": "stdout",
          "text": [
            "<class 'PIL.Image.Image'>\n",
            "class-imagesII/e277f4a21efda13c262852fc2529c6e791d854b0.jpg\n",
            "25/25 [==============================] - 15s 607ms/step\n"
          ]
        },
        {
          "output_type": "stream",
          "name": "stderr",
          "text": [
            "\r 28%|██▊       | 57/200 [27:49<37:43, 15.83s/it]"
          ]
        },
        {
          "output_type": "stream",
          "name": "stdout",
          "text": [
            "<class 'PIL.Image.Image'>\n",
            "class-imagesII/61d044966a7345275ae93af95255f9b4bb736855.jpg\n",
            "25/25 [==============================] - 15s 611ms/step\n"
          ]
        },
        {
          "output_type": "stream",
          "name": "stderr",
          "text": [
            "\r 29%|██▉       | 58/200 [28:05<37:33, 15.87s/it]"
          ]
        },
        {
          "output_type": "stream",
          "name": "stdout",
          "text": [
            "<class 'PIL.Image.Image'>\n",
            "class-imagesII/01647483bff587ac81f1463dc44e277a683e8bcf.jpg\n",
            "25/25 [==============================] - 15s 610ms/step\n"
          ]
        },
        {
          "output_type": "stream",
          "name": "stderr",
          "text": [
            "\r 30%|██▉       | 59/200 [28:20<37:20, 15.89s/it]"
          ]
        },
        {
          "output_type": "stream",
          "name": "stdout",
          "text": [
            "<class 'PIL.Image.Image'>\n",
            "class-imagesII/30198f99d5b840a328e0566ac6772170e05971c4.jpg\n",
            "25/25 [==============================] - 15s 608ms/step\n"
          ]
        },
        {
          "output_type": "stream",
          "name": "stderr",
          "text": [
            "\r 30%|███       | 60/200 [28:36<37:01, 15.87s/it]"
          ]
        },
        {
          "output_type": "stream",
          "name": "stdout",
          "text": [
            "<class 'PIL.Image.Image'>\n",
            "class-imagesII/202c717ff3eff303a1c36807aadcc033995fd181.jpg\n",
            "25/25 [==============================] - 15s 604ms/step\n"
          ]
        },
        {
          "output_type": "stream",
          "name": "stderr",
          "text": [
            "\r 30%|███       | 61/200 [28:52<36:39, 15.82s/it]"
          ]
        },
        {
          "output_type": "stream",
          "name": "stdout",
          "text": [
            "<class 'PIL.Image.Image'>\n",
            "class-imagesII/b828f5cac2f74018c9ea6558471334f0eca3c20e.jpg\n",
            "25/25 [==============================] - 15s 605ms/step\n"
          ]
        },
        {
          "output_type": "stream",
          "name": "stderr",
          "text": [
            "\r 31%|███       | 62/200 [29:08<36:20, 15.80s/it]"
          ]
        },
        {
          "output_type": "stream",
          "name": "stdout",
          "text": [
            "<class 'PIL.Image.Image'>\n",
            "class-imagesII/08054e1b7f016827655691b4b3d3c37e82ac801e.jpg\n",
            "25/25 [==============================] - 15s 606ms/step\n"
          ]
        },
        {
          "output_type": "stream",
          "name": "stderr",
          "text": [
            "\r 32%|███▏      | 63/200 [29:24<36:06, 15.81s/it]"
          ]
        },
        {
          "output_type": "stream",
          "name": "stdout",
          "text": [
            "<class 'PIL.Image.Image'>\n",
            "class-imagesII/aeac403c8c6ed82426a72d65f4c2d8e6c98cbc19.jpg\n",
            "25/25 [==============================] - 15s 611ms/step\n"
          ]
        },
        {
          "output_type": "stream",
          "name": "stderr",
          "text": [
            "\r 32%|███▏      | 64/200 [29:40<35:57, 15.86s/it]"
          ]
        },
        {
          "output_type": "stream",
          "name": "stdout",
          "text": [
            "<class 'PIL.Image.Image'>\n",
            "class-imagesII/418f4fa597b0dc2d3fcde453289c05419611be82.jpg\n",
            "25/25 [==============================] - 15s 606ms/step\n"
          ]
        },
        {
          "output_type": "stream",
          "name": "stderr",
          "text": [
            "\r 32%|███▎      | 65/200 [29:55<35:38, 15.84s/it]"
          ]
        },
        {
          "output_type": "stream",
          "name": "stdout",
          "text": [
            "<class 'PIL.Image.Image'>\n",
            "class-imagesII/8e771854259a5ca8a489dfb1f645d6a96f6a3fb8.jpg\n",
            "25/25 [==============================] - 15s 605ms/step\n"
          ]
        },
        {
          "output_type": "stream",
          "name": "stderr",
          "text": [
            "\r 33%|███▎      | 66/200 [30:11<35:19, 15.82s/it]"
          ]
        },
        {
          "output_type": "stream",
          "name": "stdout",
          "text": [
            "<class 'PIL.Image.Image'>\n",
            "class-imagesII/cb9893d28b5edf03bf24257cca4a5c81ba7bd748.jpg\n",
            "25/25 [==============================] - 15s 606ms/step\n"
          ]
        },
        {
          "output_type": "stream",
          "name": "stderr",
          "text": [
            "\r 34%|███▎      | 67/200 [30:27<35:02, 15.81s/it]"
          ]
        },
        {
          "output_type": "stream",
          "name": "stdout",
          "text": [
            "<class 'PIL.Image.Image'>\n",
            "class-imagesII/811139b66f76de493cc57045a5ba800a155fc42b.jpg\n",
            "25/25 [==============================] - 15s 608ms/step\n"
          ]
        },
        {
          "output_type": "stream",
          "name": "stderr",
          "text": [
            "\r 34%|███▍      | 68/200 [30:43<34:58, 15.90s/it]"
          ]
        },
        {
          "output_type": "stream",
          "name": "stdout",
          "text": [
            "<class 'PIL.Image.Image'>\n",
            "class-imagesII/9ca26a293dbb8a9f846aaeb8502b6202c4f50e2f.jpg\n",
            "25/25 [==============================] - 15s 609ms/step\n"
          ]
        },
        {
          "output_type": "stream",
          "name": "stderr",
          "text": [
            "\r 34%|███▍      | 69/200 [30:59<34:43, 15.91s/it]"
          ]
        },
        {
          "output_type": "stream",
          "name": "stdout",
          "text": [
            "<class 'PIL.Image.Image'>\n",
            "class-imagesII/6e9c352c5acfdba0aa94a357e9e2ad835f9d554d.jpg\n",
            "25/25 [==============================] - 15s 607ms/step\n"
          ]
        },
        {
          "output_type": "stream",
          "name": "stderr",
          "text": [
            "\r 35%|███▌      | 70/200 [31:15<34:23, 15.87s/it]"
          ]
        },
        {
          "output_type": "stream",
          "name": "stdout",
          "text": [
            "<class 'PIL.Image.Image'>\n",
            "class-imagesII/85755d42cddc49b1dd5a9ec5aee7b9fab7144fef.jpg\n",
            "25/25 [==============================] - 15s 604ms/step\n"
          ]
        },
        {
          "output_type": "stream",
          "name": "stderr",
          "text": [
            "\r 36%|███▌      | 71/200 [31:30<34:01, 15.82s/it]"
          ]
        },
        {
          "output_type": "stream",
          "name": "stdout",
          "text": [
            "<class 'PIL.Image.Image'>\n",
            "class-imagesII/523b01a3d61213c5c4e58803bb2f0253a906d701.jpg\n",
            "25/25 [==============================] - 15s 607ms/step\n"
          ]
        },
        {
          "output_type": "stream",
          "name": "stderr",
          "text": [
            "\r 36%|███▌      | 72/200 [31:46<33:44, 15.82s/it]"
          ]
        },
        {
          "output_type": "stream",
          "name": "stdout",
          "text": [
            "<class 'PIL.Image.Image'>\n",
            "class-imagesII/01d58cb71c7e4d5e14c3843b38bd9c60cb8fff72.jpg\n",
            "25/25 [==============================] - 15s 606ms/step\n"
          ]
        },
        {
          "output_type": "stream",
          "name": "stderr",
          "text": [
            "\r 36%|███▋      | 73/200 [32:02<33:38, 15.89s/it]"
          ]
        },
        {
          "output_type": "stream",
          "name": "stdout",
          "text": [
            "<class 'PIL.Image.Image'>\n",
            "class-imagesII/348337feb2624788773c4f599b61658350896b5b.jpg\n",
            "25/25 [==============================] - 15s 612ms/step\n"
          ]
        },
        {
          "output_type": "stream",
          "name": "stderr",
          "text": [
            "\r 37%|███▋      | 74/200 [32:19<33:34, 15.99s/it]"
          ]
        },
        {
          "output_type": "stream",
          "name": "stdout",
          "text": [
            "<class 'PIL.Image.Image'>\n",
            "class-imagesII/e9cbe7c2450ca76868c1c8eaf0aa855aca66bb89.jpg\n",
            "25/25 [==============================] - 15s 604ms/step\n"
          ]
        },
        {
          "output_type": "stream",
          "name": "stderr",
          "text": [
            "\r 38%|███▊      | 75/200 [32:34<33:08, 15.91s/it]"
          ]
        },
        {
          "output_type": "stream",
          "name": "stdout",
          "text": [
            "<class 'PIL.Image.Image'>\n",
            "class-imagesII/931d0d4eec9a307ee651a912b12646faa3f7cedc.jpg\n",
            "25/25 [==============================] - 15s 605ms/step\n"
          ]
        },
        {
          "output_type": "stream",
          "name": "stderr",
          "text": [
            "\r 38%|███▊      | 76/200 [32:50<32:46, 15.86s/it]"
          ]
        },
        {
          "output_type": "stream",
          "name": "stdout",
          "text": [
            "<class 'PIL.Image.Image'>\n",
            "class-imagesII/b0e460f503aea03230e4b7803546a2abaa65169e.jpg\n",
            "25/25 [==============================] - 15s 606ms/step\n"
          ]
        },
        {
          "output_type": "stream",
          "name": "stderr",
          "text": [
            "\r 38%|███▊      | 77/200 [33:06<32:27, 15.83s/it]"
          ]
        },
        {
          "output_type": "stream",
          "name": "stdout",
          "text": [
            "<class 'PIL.Image.Image'>\n",
            "class-imagesII/e3553a258892ac8bf8d399f5d8426c1f2ac39bcd.jpg\n",
            "25/25 [==============================] - 15s 605ms/step\n"
          ]
        },
        {
          "output_type": "stream",
          "name": "stderr",
          "text": [
            "\r 39%|███▉      | 78/200 [33:22<32:19, 15.90s/it]"
          ]
        },
        {
          "output_type": "stream",
          "name": "stdout",
          "text": [
            "<class 'PIL.Image.Image'>\n",
            "class-imagesII/19eeff0f80b2290fe975e54a18108c79aa2cddb8.jpg\n",
            "25/25 [==============================] - 15s 612ms/step\n"
          ]
        },
        {
          "output_type": "stream",
          "name": "stderr",
          "text": [
            "\r 40%|███▉      | 79/200 [33:38<32:15, 16.00s/it]"
          ]
        },
        {
          "output_type": "stream",
          "name": "stdout",
          "text": [
            "<class 'PIL.Image.Image'>\n",
            "class-imagesII/201ee830fe141e06ed2b4cc6a6e9397237a7ee86.jpg\n",
            "25/25 [==============================] - 15s 604ms/step\n"
          ]
        },
        {
          "output_type": "stream",
          "name": "stderr",
          "text": [
            "\r 40%|████      | 80/200 [33:54<31:50, 15.92s/it]"
          ]
        },
        {
          "output_type": "stream",
          "name": "stdout",
          "text": [
            "<class 'PIL.Image.Image'>\n",
            "class-imagesII/6cda59f1d3cf731cd16cc1d9ee50c85fc83b2513.jpg\n",
            "25/25 [==============================] - 15s 607ms/step\n"
          ]
        },
        {
          "output_type": "stream",
          "name": "stderr",
          "text": [
            "\r 40%|████      | 81/200 [34:10<31:30, 15.88s/it]"
          ]
        },
        {
          "output_type": "stream",
          "name": "stdout",
          "text": [
            "<class 'PIL.Image.Image'>\n",
            "class-imagesII/73bd8d6b4e2690f8c69a14bab282749a774d561c.jpg\n",
            "25/25 [==============================] - 15s 607ms/step\n"
          ]
        },
        {
          "output_type": "stream",
          "name": "stderr",
          "text": [
            "\r 41%|████      | 82/200 [34:25<31:11, 15.86s/it]"
          ]
        },
        {
          "output_type": "stream",
          "name": "stdout",
          "text": [
            "<class 'PIL.Image.Image'>\n",
            "class-imagesII/4d6e5dc6001b7a9be21aa2fc0518a923f35b8c13.jpg\n",
            "25/25 [==============================] - 15s 608ms/step\n"
          ]
        },
        {
          "output_type": "stream",
          "name": "stderr",
          "text": [
            "\r 42%|████▏     | 83/200 [34:41<30:56, 15.87s/it]"
          ]
        },
        {
          "output_type": "stream",
          "name": "stdout",
          "text": [
            "<class 'PIL.Image.Image'>\n",
            "class-imagesII/f944b4dcd71544a6136e7947cc23c12259855b18.jpg\n",
            "25/25 [==============================] - 15s 604ms/step\n"
          ]
        },
        {
          "output_type": "stream",
          "name": "stderr",
          "text": [
            "\r 42%|████▏     | 84/200 [34:57<30:46, 15.92s/it]"
          ]
        },
        {
          "output_type": "stream",
          "name": "stdout",
          "text": [
            "<class 'PIL.Image.Image'>\n",
            "class-imagesII/f3f3e2d4d05ef4b25a3c8217fc548f7e3443e9af.jpg\n",
            "25/25 [==============================] - 15s 607ms/step\n"
          ]
        },
        {
          "output_type": "stream",
          "name": "stderr",
          "text": [
            "\r 42%|████▎     | 85/200 [35:13<30:26, 15.88s/it]"
          ]
        },
        {
          "output_type": "stream",
          "name": "stdout",
          "text": [
            "<class 'PIL.Image.Image'>\n",
            "class-imagesII/cfadb73d4738141c3e25f8343f0a1c4e9055ebd8.jpg\n",
            "25/25 [==============================] - 15s 606ms/step\n"
          ]
        },
        {
          "output_type": "stream",
          "name": "stderr",
          "text": [
            "\r 43%|████▎     | 86/200 [35:29<30:14, 15.91s/it]"
          ]
        },
        {
          "output_type": "stream",
          "name": "stdout",
          "text": [
            "<class 'PIL.Image.Image'>\n",
            "class-imagesII/de5b7e911ed0c4c3e8107916a3d8f22dab08711c.jpg\n",
            "25/25 [==============================] - 15s 606ms/step\n"
          ]
        },
        {
          "output_type": "stream",
          "name": "stderr",
          "text": [
            "\r 44%|████▎     | 87/200 [35:45<29:53, 15.87s/it]"
          ]
        },
        {
          "output_type": "stream",
          "name": "stdout",
          "text": [
            "<class 'PIL.Image.Image'>\n",
            "class-imagesII/45e149751fb24d0f4b45879f68818e070d3d2c46.jpg\n",
            "25/25 [==============================] - 15s 607ms/step\n"
          ]
        },
        {
          "output_type": "stream",
          "name": "stderr",
          "text": [
            "\r 44%|████▍     | 88/200 [36:01<29:38, 15.88s/it]"
          ]
        },
        {
          "output_type": "stream",
          "name": "stdout",
          "text": [
            "<class 'PIL.Image.Image'>\n",
            "class-imagesII/04a6222113384a6c334236bb157c6648d396cfe6.jpg\n",
            "25/25 [==============================] - 15s 609ms/step\n"
          ]
        },
        {
          "output_type": "stream",
          "name": "stderr",
          "text": [
            "\r 44%|████▍     | 89/200 [36:17<29:31, 15.96s/it]"
          ]
        },
        {
          "output_type": "stream",
          "name": "stdout",
          "text": [
            "<class 'PIL.Image.Image'>\n",
            "class-imagesII/853f07be4c1cdcb26bc299d5267fcf6103124ce6.jpg\n",
            "25/25 [==============================] - 15s 606ms/step\n"
          ]
        },
        {
          "output_type": "stream",
          "name": "stderr",
          "text": [
            "\r 45%|████▌     | 90/200 [36:33<29:08, 15.90s/it]"
          ]
        },
        {
          "output_type": "stream",
          "name": "stdout",
          "text": [
            "<class 'PIL.Image.Image'>\n",
            "class-imagesII/3deff26c3b47a3ab4d48cc2e795408241b7fc809.jpg\n",
            "25/25 [==============================] - 15s 605ms/step\n"
          ]
        },
        {
          "output_type": "stream",
          "name": "stderr",
          "text": [
            "\r 46%|████▌     | 91/200 [36:48<28:48, 15.86s/it]"
          ]
        },
        {
          "output_type": "stream",
          "name": "stdout",
          "text": [
            "<class 'PIL.Image.Image'>\n",
            "class-imagesII/8dcd9e8efa9e7bc882b0cd668d460a4294e70bc7.jpg\n",
            "25/25 [==============================] - 15s 604ms/step\n"
          ]
        },
        {
          "output_type": "stream",
          "name": "stderr",
          "text": [
            "\r 46%|████▌     | 92/200 [37:04<28:28, 15.82s/it]"
          ]
        },
        {
          "output_type": "stream",
          "name": "stdout",
          "text": [
            "<class 'PIL.Image.Image'>\n",
            "class-imagesII/37151afa846e2afd19f66150cac895b8fc7f463d.jpg\n",
            "25/25 [==============================] - 15s 605ms/step\n"
          ]
        },
        {
          "output_type": "stream",
          "name": "stderr",
          "text": [
            "\r 46%|████▋     | 93/200 [37:20<28:09, 15.79s/it]"
          ]
        },
        {
          "output_type": "stream",
          "name": "stdout",
          "text": [
            "<class 'PIL.Image.Image'>\n",
            "class-imagesII/ca1798bf5122fbc85b305e58bc5f1c75ca48e49d.jpg\n",
            "25/25 [==============================] - 15s 611ms/step\n"
          ]
        },
        {
          "output_type": "stream",
          "name": "stderr",
          "text": [
            "\r 47%|████▋     | 94/200 [37:36<28:06, 15.91s/it]"
          ]
        },
        {
          "output_type": "stream",
          "name": "stdout",
          "text": [
            "<class 'PIL.Image.Image'>\n",
            "class-imagesII/5aeb13c3ee6c6f1855f5c3264018ec40c3eddc9c.jpg\n",
            "25/25 [==============================] - 15s 607ms/step\n"
          ]
        },
        {
          "output_type": "stream",
          "name": "stderr",
          "text": [
            "\r 48%|████▊     | 95/200 [37:52<27:49, 15.90s/it]"
          ]
        },
        {
          "output_type": "stream",
          "name": "stdout",
          "text": [
            "<class 'PIL.Image.Image'>\n",
            "class-imagesII/8f9a27e8276dd804f1c89dce9928c54d1ba24b69.jpg\n",
            "25/25 [==============================] - 15s 607ms/step\n"
          ]
        },
        {
          "output_type": "stream",
          "name": "stderr",
          "text": [
            "\r 48%|████▊     | 96/200 [38:08<27:30, 15.87s/it]"
          ]
        },
        {
          "output_type": "stream",
          "name": "stdout",
          "text": [
            "<class 'PIL.Image.Image'>\n",
            "class-imagesII/18d229256c6af6ce1a29615e5a0b3f2861596a73.jpg\n",
            "25/25 [==============================] - 15s 607ms/step\n"
          ]
        },
        {
          "output_type": "stream",
          "name": "stderr",
          "text": [
            "\r 48%|████▊     | 97/200 [38:24<27:12, 15.85s/it]"
          ]
        },
        {
          "output_type": "stream",
          "name": "stdout",
          "text": [
            "<class 'PIL.Image.Image'>\n",
            "class-imagesII/d5e344af8b9d1709873f231764380281ad3a7564.jpg\n",
            "25/25 [==============================] - 15s 607ms/step\n"
          ]
        },
        {
          "output_type": "stream",
          "name": "stderr",
          "text": [
            "\r 49%|████▉     | 98/200 [38:39<26:55, 15.84s/it]"
          ]
        },
        {
          "output_type": "stream",
          "name": "stdout",
          "text": [
            "<class 'PIL.Image.Image'>\n",
            "class-imagesII/ee5a9e35768fd8006764370f462f84e51968dbf6.jpg\n",
            "25/25 [==============================] - 15s 610ms/step\n"
          ]
        },
        {
          "output_type": "stream",
          "name": "stderr",
          "text": [
            "\r 50%|████▉     | 99/200 [38:56<26:50, 15.94s/it]"
          ]
        },
        {
          "output_type": "stream",
          "name": "stdout",
          "text": [
            "<class 'PIL.Image.Image'>\n",
            "class-imagesII/65268303eeab1f0ca88ff9b80cb7c40c7eb0fbdd.jpg\n",
            "25/25 [==============================] - 15s 609ms/step\n"
          ]
        },
        {
          "output_type": "stream",
          "name": "stderr",
          "text": [
            "\r 50%|█████     | 100/200 [39:11<26:33, 15.93s/it]"
          ]
        },
        {
          "output_type": "stream",
          "name": "stdout",
          "text": [
            "<class 'PIL.Image.Image'>\n",
            "class-imagesII/7c28c0762ce86bbb30dd28614a26d4c8a449f757.jpg\n",
            "25/25 [==============================] - 15s 608ms/step\n"
          ]
        },
        {
          "output_type": "stream",
          "name": "stderr",
          "text": [
            "\r 50%|█████     | 101/200 [39:27<26:14, 15.90s/it]"
          ]
        },
        {
          "output_type": "stream",
          "name": "stdout",
          "text": [
            "<class 'PIL.Image.Image'>\n",
            "class-imagesII/117abcc4b907374219f97d2b0d8b3a3a1eb6777b.jpg\n",
            "25/25 [==============================] - 15s 606ms/step\n"
          ]
        },
        {
          "output_type": "stream",
          "name": "stderr",
          "text": [
            "\r 51%|█████     | 102/200 [39:43<25:54, 15.86s/it]"
          ]
        },
        {
          "output_type": "stream",
          "name": "stdout",
          "text": [
            "<class 'PIL.Image.Image'>\n",
            "class-imagesII/a035e0fc57ea9096c6ccbc2a177b9524906c1985.jpg\n",
            "25/25 [==============================] - 15s 607ms/step\n"
          ]
        },
        {
          "output_type": "stream",
          "name": "stderr",
          "text": [
            "\r 52%|█████▏    | 103/200 [39:59<25:36, 15.84s/it]"
          ]
        },
        {
          "output_type": "stream",
          "name": "stdout",
          "text": [
            "<class 'PIL.Image.Image'>\n",
            "class-imagesII/fd453efd091277b882bd1c4cc9a72eaeea96b422.jpg\n",
            "25/25 [==============================] - 15s 610ms/step\n"
          ]
        },
        {
          "output_type": "stream",
          "name": "stderr",
          "text": [
            "\r 52%|█████▏    | 104/200 [40:15<25:32, 15.96s/it]"
          ]
        },
        {
          "output_type": "stream",
          "name": "stdout",
          "text": [
            "<class 'PIL.Image.Image'>\n",
            "class-imagesII/0e1bdf946a7e015872ad6d06c648bfda0c069ca9.jpg\n",
            "25/25 [==============================] - 15s 603ms/step\n"
          ]
        },
        {
          "output_type": "stream",
          "name": "stderr",
          "text": [
            "\r 52%|█████▎    | 105/200 [40:31<25:10, 15.89s/it]"
          ]
        },
        {
          "output_type": "stream",
          "name": "stdout",
          "text": [
            "<class 'PIL.Image.Image'>\n",
            "class-imagesII/79fa287f90363164f6284bec31680790da9f5863.jpg\n",
            "25/25 [==============================] - 15s 604ms/step\n"
          ]
        },
        {
          "output_type": "stream",
          "name": "stderr",
          "text": [
            "\r 53%|█████▎    | 106/200 [40:47<24:49, 15.84s/it]"
          ]
        },
        {
          "output_type": "stream",
          "name": "stdout",
          "text": [
            "<class 'PIL.Image.Image'>\n",
            "class-imagesII/877ce9cdb8c882d33cb3ff77f987e5e9612226e3.jpg\n",
            "25/25 [==============================] - 15s 606ms/step\n"
          ]
        },
        {
          "output_type": "stream",
          "name": "stderr",
          "text": [
            "\r 54%|█████▎    | 107/200 [41:02<24:31, 15.82s/it]"
          ]
        },
        {
          "output_type": "stream",
          "name": "stdout",
          "text": [
            "<class 'PIL.Image.Image'>\n",
            "class-imagesII/31f7917d315a97f1d9c1db74b823b66866acb8cd.jpg\n",
            "25/25 [==============================] - 15s 607ms/step\n"
          ]
        },
        {
          "output_type": "stream",
          "name": "stderr",
          "text": [
            "\r 54%|█████▍    | 108/200 [41:18<24:14, 15.81s/it]"
          ]
        },
        {
          "output_type": "stream",
          "name": "stdout",
          "text": [
            "<class 'PIL.Image.Image'>\n",
            "class-imagesII/cd9a538578d8a50e7695b008841cf1618ff9ea4b.jpg\n",
            "25/25 [==============================] - 15s 607ms/step\n"
          ]
        },
        {
          "output_type": "stream",
          "name": "stderr",
          "text": [
            "\r 55%|█████▍    | 109/200 [41:34<24:08, 15.92s/it]"
          ]
        },
        {
          "output_type": "stream",
          "name": "stdout",
          "text": [
            "<class 'PIL.Image.Image'>\n",
            "class-imagesII/6e0731f06592f51ef15860fe8886401202dffea0.jpg\n",
            "25/25 [==============================] - 15s 606ms/step\n"
          ]
        },
        {
          "output_type": "stream",
          "name": "stderr",
          "text": [
            "\r 55%|█████▌    | 110/200 [41:50<23:51, 15.91s/it]"
          ]
        },
        {
          "output_type": "stream",
          "name": "stdout",
          "text": [
            "<class 'PIL.Image.Image'>\n",
            "class-imagesII/36384c97e81b5b5364585f05d81d4944eebf3283.jpg\n",
            "25/25 [==============================] - 15s 607ms/step\n"
          ]
        },
        {
          "output_type": "stream",
          "name": "stderr",
          "text": [
            "\r 56%|█████▌    | 111/200 [42:06<23:33, 15.88s/it]"
          ]
        },
        {
          "output_type": "stream",
          "name": "stdout",
          "text": [
            "<class 'PIL.Image.Image'>\n",
            "class-imagesII/ddf9f8742ac0df2fdde317f3b53fa869089f4561.jpg\n",
            "25/25 [==============================] - 15s 603ms/step\n"
          ]
        },
        {
          "output_type": "stream",
          "name": "stderr",
          "text": [
            "\r 56%|█████▌    | 112/200 [42:22<23:13, 15.83s/it]"
          ]
        },
        {
          "output_type": "stream",
          "name": "stdout",
          "text": [
            "<class 'PIL.Image.Image'>\n",
            "class-imagesII/2284d81401939998338cb2e364976f798a09c370.jpg\n",
            "25/25 [==============================] - 15s 604ms/step\n"
          ]
        },
        {
          "output_type": "stream",
          "name": "stderr",
          "text": [
            "\r 56%|█████▋    | 113/200 [42:37<22:54, 15.80s/it]"
          ]
        },
        {
          "output_type": "stream",
          "name": "stdout",
          "text": [
            "<class 'PIL.Image.Image'>\n",
            "class-imagesII/4341ebb008fc84bd4af170eef768a75e47dbde96.jpg\n",
            "25/25 [==============================] - 15s 610ms/step\n"
          ]
        },
        {
          "output_type": "stream",
          "name": "stderr",
          "text": [
            "\r 57%|█████▋    | 114/200 [42:53<22:41, 15.84s/it]"
          ]
        },
        {
          "output_type": "stream",
          "name": "stdout",
          "text": [
            "<class 'PIL.Image.Image'>\n",
            "class-imagesII/59ad13db1cb37331015423bfc67dfa892ef79d4e.jpg\n",
            "25/25 [==============================] - 15s 609ms/step\n"
          ]
        },
        {
          "output_type": "stream",
          "name": "stderr",
          "text": [
            "\r 57%|█████▊    | 115/200 [43:09<22:28, 15.87s/it]"
          ]
        },
        {
          "output_type": "stream",
          "name": "stdout",
          "text": [
            "<class 'PIL.Image.Image'>\n",
            "class-imagesII/d30c071325fd07278d0c252504c4d75add3d0cbe.jpg\n",
            "25/25 [==============================] - 15s 603ms/step\n"
          ]
        },
        {
          "output_type": "stream",
          "name": "stderr",
          "text": [
            "\r 58%|█████▊    | 116/200 [43:25<22:08, 15.82s/it]"
          ]
        },
        {
          "output_type": "stream",
          "name": "stdout",
          "text": [
            "<class 'PIL.Image.Image'>\n",
            "class-imagesII/857cc4cf9514c97b2b121434546ed3327fe4b44a.jpg\n",
            "25/25 [==============================] - 15s 603ms/step\n"
          ]
        },
        {
          "output_type": "stream",
          "name": "stderr",
          "text": [
            "\r 58%|█████▊    | 117/200 [43:41<21:49, 15.78s/it]"
          ]
        },
        {
          "output_type": "stream",
          "name": "stdout",
          "text": [
            "<class 'PIL.Image.Image'>\n",
            "class-imagesII/0383f1515185dbd0fc5e35a6336b27eeef91625e.jpg\n",
            "25/25 [==============================] - 15s 604ms/step\n"
          ]
        },
        {
          "output_type": "stream",
          "name": "stderr",
          "text": [
            "\r 59%|█████▉    | 118/200 [43:56<21:32, 15.76s/it]"
          ]
        },
        {
          "output_type": "stream",
          "name": "stdout",
          "text": [
            "<class 'PIL.Image.Image'>\n",
            "class-imagesII/eab95e676c7bf7a00f39d545f1a28952d19c2ab7.jpg\n",
            "25/25 [==============================] - 15s 609ms/step\n"
          ]
        },
        {
          "output_type": "stream",
          "name": "stderr",
          "text": [
            "\r 60%|█████▉    | 119/200 [44:13<21:26, 15.88s/it]"
          ]
        },
        {
          "output_type": "stream",
          "name": "stdout",
          "text": [
            "<class 'PIL.Image.Image'>\n",
            "class-imagesII/1bbf534c7d8cb42d78d5cef12c9c1a3ea897b03e.jpg\n",
            "25/25 [==============================] - 15s 608ms/step\n"
          ]
        },
        {
          "output_type": "stream",
          "name": "stderr",
          "text": [
            "\r 60%|██████    | 120/200 [44:29<21:16, 15.95s/it]"
          ]
        },
        {
          "output_type": "stream",
          "name": "stdout",
          "text": [
            "<class 'PIL.Image.Image'>\n",
            "class-imagesII/3ebe263e29f8c0fab20fe9109279c5438af40e9c.jpg\n",
            "25/25 [==============================] - 15s 607ms/step\n"
          ]
        },
        {
          "output_type": "stream",
          "name": "stderr",
          "text": [
            "\r 60%|██████    | 121/200 [44:44<20:56, 15.91s/it]"
          ]
        },
        {
          "output_type": "stream",
          "name": "stdout",
          "text": [
            "<class 'PIL.Image.Image'>\n",
            "class-imagesII/499a4c6a525af0c1ec8db0a1469e864401b3c5cb.jpg\n",
            "25/25 [==============================] - 15s 608ms/step\n"
          ]
        },
        {
          "output_type": "stream",
          "name": "stderr",
          "text": [
            "\r 61%|██████    | 122/200 [45:00<20:38, 15.88s/it]"
          ]
        },
        {
          "output_type": "stream",
          "name": "stdout",
          "text": [
            "<class 'PIL.Image.Image'>\n",
            "class-imagesII/c71e222fa5715218d11ae90969c87cd322dd9f41.jpg\n",
            "25/25 [==============================] - 15s 604ms/step\n"
          ]
        },
        {
          "output_type": "stream",
          "name": "stderr",
          "text": [
            "\r 62%|██████▏   | 123/200 [45:16<20:18, 15.83s/it]"
          ]
        },
        {
          "output_type": "stream",
          "name": "stdout",
          "text": [
            "<class 'PIL.Image.Image'>\n",
            "class-imagesII/d9f8c28100416fcd8e030c0ea830d04c4b6b2870.jpg\n",
            "25/25 [==============================] - 15s 612ms/step\n"
          ]
        },
        {
          "output_type": "stream",
          "name": "stderr",
          "text": [
            "\r 62%|██████▏   | 124/200 [45:32<20:06, 15.88s/it]"
          ]
        },
        {
          "output_type": "stream",
          "name": "stdout",
          "text": [
            "<class 'PIL.Image.Image'>\n",
            "class-imagesII/a5c2351fe6c596a0b77312c3f5e5e5d022a4ca6a.jpg\n",
            "25/25 [==============================] - 15s 610ms/step\n"
          ]
        },
        {
          "output_type": "stream",
          "name": "stderr",
          "text": [
            "\r 62%|██████▎   | 125/200 [45:48<19:52, 15.90s/it]"
          ]
        },
        {
          "output_type": "stream",
          "name": "stdout",
          "text": [
            "<class 'PIL.Image.Image'>\n",
            "class-imagesII/ea0b2ea94466c4eb4af8996933fdfdb893210bdc.jpg\n",
            "25/25 [==============================] - 15s 605ms/step\n"
          ]
        },
        {
          "output_type": "stream",
          "name": "stderr",
          "text": [
            "\r 63%|██████▎   | 126/200 [46:04<19:33, 15.86s/it]"
          ]
        },
        {
          "output_type": "stream",
          "name": "stdout",
          "text": [
            "<class 'PIL.Image.Image'>\n",
            "class-imagesII/363545b14cc9510f79a1b8acff035f6c4ec243cd.jpg\n",
            "25/25 [==============================] - 15s 607ms/step\n"
          ]
        },
        {
          "output_type": "stream",
          "name": "stderr",
          "text": [
            "\r 64%|██████▎   | 127/200 [46:20<19:17, 15.85s/it]"
          ]
        },
        {
          "output_type": "stream",
          "name": "stdout",
          "text": [
            "<class 'PIL.Image.Image'>\n",
            "class-imagesII/19cfb450fa2018dfc02105ba6844952bb34af187.jpg\n",
            "25/25 [==============================] - 15s 607ms/step\n"
          ]
        },
        {
          "output_type": "stream",
          "name": "stderr",
          "text": [
            "\r 64%|██████▍   | 128/200 [46:35<19:00, 15.84s/it]"
          ]
        },
        {
          "output_type": "stream",
          "name": "stdout",
          "text": [
            "<class 'PIL.Image.Image'>\n",
            "class-imagesII/b9fd74cb96ee5fca05fd67e18c07b92a1d494807.jpg\n",
            "25/25 [==============================] - 15s 609ms/step\n"
          ]
        },
        {
          "output_type": "stream",
          "name": "stderr",
          "text": [
            "\r 64%|██████▍   | 129/200 [46:51<18:50, 15.93s/it]"
          ]
        },
        {
          "output_type": "stream",
          "name": "stdout",
          "text": [
            "<class 'PIL.Image.Image'>\n",
            "class-imagesII/b13c6342b9c2adf79774e3170e67e1ef42c95590.jpg\n",
            "25/25 [==============================] - 15s 605ms/step\n"
          ]
        },
        {
          "output_type": "stream",
          "name": "stderr",
          "text": [
            "\r 65%|██████▌   | 130/200 [47:07<18:33, 15.90s/it]"
          ]
        },
        {
          "output_type": "stream",
          "name": "stdout",
          "text": [
            "<class 'PIL.Image.Image'>\n",
            "class-imagesII/9fc8eb87d682a1778ff9ee3161f4163fc1c85815.jpg\n",
            "25/25 [==============================] - 15s 606ms/step\n"
          ]
        },
        {
          "output_type": "stream",
          "name": "stderr",
          "text": [
            "\r 66%|██████▌   | 131/200 [47:23<18:14, 15.86s/it]"
          ]
        },
        {
          "output_type": "stream",
          "name": "stdout",
          "text": [
            "<class 'PIL.Image.Image'>\n",
            "class-imagesII/1e86fff8f9defa1a33514a0308523bcc76c7dda3.jpg\n",
            "25/25 [==============================] - 15s 606ms/step\n"
          ]
        },
        {
          "output_type": "stream",
          "name": "stderr",
          "text": [
            "\r 66%|██████▌   | 132/200 [47:39<17:56, 15.83s/it]"
          ]
        },
        {
          "output_type": "stream",
          "name": "stdout",
          "text": [
            "<class 'PIL.Image.Image'>\n",
            "class-imagesII/926d0170ca35a149ed626f9b91a077d7a6201a32.jpg\n",
            "25/25 [==============================] - 15s 608ms/step\n"
          ]
        },
        {
          "output_type": "stream",
          "name": "stderr",
          "text": [
            "\r 66%|██████▋   | 133/200 [47:55<17:40, 15.83s/it]"
          ]
        },
        {
          "output_type": "stream",
          "name": "stdout",
          "text": [
            "<class 'PIL.Image.Image'>\n",
            "class-imagesII/188b2564d03d31a668110a07291a8c3d81c9b32e.jpg\n",
            "25/25 [==============================] - 15s 613ms/step\n"
          ]
        },
        {
          "output_type": "stream",
          "name": "stderr",
          "text": [
            "\r 67%|██████▋   | 134/200 [48:11<17:33, 15.96s/it]"
          ]
        },
        {
          "output_type": "stream",
          "name": "stdout",
          "text": [
            "<class 'PIL.Image.Image'>\n",
            "class-imagesII/8f9acd8d0963996dd6b8e0564e5b1685383b2282.jpg\n",
            "25/25 [==============================] - 15s 610ms/step\n"
          ]
        },
        {
          "output_type": "stream",
          "name": "stderr",
          "text": [
            "\r 68%|██████▊   | 135/200 [48:27<17:17, 15.96s/it]"
          ]
        },
        {
          "output_type": "stream",
          "name": "stdout",
          "text": [
            "<class 'PIL.Image.Image'>\n",
            "class-imagesII/b8b7448689eb1d8bc76d1e21b2ff9a2040a394dc.jpg\n",
            "25/25 [==============================] - 15s 603ms/step\n"
          ]
        },
        {
          "output_type": "stream",
          "name": "stderr",
          "text": [
            "\r 68%|██████▊   | 136/200 [48:43<16:57, 15.89s/it]"
          ]
        },
        {
          "output_type": "stream",
          "name": "stdout",
          "text": [
            "<class 'PIL.Image.Image'>\n",
            "class-imagesII/a87b2c6d793ebdb17b76c20dc10031e92c0c957a.jpg\n",
            "25/25 [==============================] - 15s 605ms/step\n"
          ]
        },
        {
          "output_type": "stream",
          "name": "stderr",
          "text": [
            "\r 68%|██████▊   | 137/200 [48:58<16:38, 15.85s/it]"
          ]
        },
        {
          "output_type": "stream",
          "name": "stdout",
          "text": [
            "<class 'PIL.Image.Image'>\n",
            "class-imagesII/f7510e81ffa0d4aac746037716bf6f6f3774100f.jpg\n",
            "25/25 [==============================] - 15s 608ms/step\n"
          ]
        },
        {
          "output_type": "stream",
          "name": "stderr",
          "text": [
            "\r 69%|██████▉   | 138/200 [49:14<16:21, 15.84s/it]"
          ]
        },
        {
          "output_type": "stream",
          "name": "stdout",
          "text": [
            "<class 'PIL.Image.Image'>\n",
            "class-imagesII/1fa3e61bb63e559ef1fc0dff2c835b9115b4ccb2.jpg\n",
            "25/25 [==============================] - 15s 606ms/step\n"
          ]
        },
        {
          "output_type": "stream",
          "name": "stderr",
          "text": [
            "\r 70%|██████▉   | 139/200 [49:30<16:10, 15.91s/it]"
          ]
        },
        {
          "output_type": "stream",
          "name": "stdout",
          "text": [
            "<class 'PIL.Image.Image'>\n",
            "class-imagesII/1b64f42ab921849f4e8e5689d08edb2216492c66.jpg\n",
            "25/25 [==============================] - 15s 606ms/step\n"
          ]
        },
        {
          "output_type": "stream",
          "name": "stderr",
          "text": [
            "\r 70%|███████   | 140/200 [49:46<15:53, 15.89s/it]"
          ]
        },
        {
          "output_type": "stream",
          "name": "stdout",
          "text": [
            "<class 'PIL.Image.Image'>\n",
            "class-imagesII/f8b355c4c47c8c76bf20f0f82a47069a6ce214bb.jpg\n",
            "25/25 [==============================] - 15s 609ms/step\n"
          ]
        },
        {
          "output_type": "stream",
          "name": "stderr",
          "text": [
            "\r 70%|███████   | 141/200 [50:02<15:36, 15.87s/it]"
          ]
        },
        {
          "output_type": "stream",
          "name": "stdout",
          "text": [
            "<class 'PIL.Image.Image'>\n",
            "class-imagesII/3c6ebf2763c368e008ec09c5c375ad8b1f7fe461.jpg\n",
            "25/25 [==============================] - 15s 603ms/step\n"
          ]
        },
        {
          "output_type": "stream",
          "name": "stderr",
          "text": [
            "\r 71%|███████   | 142/200 [50:18<15:17, 15.82s/it]"
          ]
        },
        {
          "output_type": "stream",
          "name": "stdout",
          "text": [
            "<class 'PIL.Image.Image'>\n",
            "class-imagesII/80908bcc65811bf0c0c1dedfa764eb9a2fe449a5.jpg\n",
            "25/25 [==============================] - 15s 606ms/step\n"
          ]
        },
        {
          "output_type": "stream",
          "name": "stderr",
          "text": [
            "\r 72%|███████▏  | 143/200 [50:33<15:00, 15.80s/it]"
          ]
        },
        {
          "output_type": "stream",
          "name": "stdout",
          "text": [
            "<class 'PIL.Image.Image'>\n",
            "class-imagesII/67e25e5c95604923f004510bc6279df9d8ff6c40.jpg\n",
            "25/25 [==============================] - 15s 608ms/step\n"
          ]
        },
        {
          "output_type": "stream",
          "name": "stderr",
          "text": [
            "\r 72%|███████▏  | 144/200 [50:49<14:50, 15.89s/it]"
          ]
        },
        {
          "output_type": "stream",
          "name": "stdout",
          "text": [
            "<class 'PIL.Image.Image'>\n",
            "class-imagesII/23ad9c8e110ef6a999fcdb7adf37807c5bacb664.jpg\n",
            "25/25 [==============================] - 15s 610ms/step\n"
          ]
        },
        {
          "output_type": "stream",
          "name": "stderr",
          "text": [
            "\r 72%|███████▎  | 145/200 [51:05<14:34, 15.90s/it]"
          ]
        },
        {
          "output_type": "stream",
          "name": "stdout",
          "text": [
            "<class 'PIL.Image.Image'>\n",
            "class-imagesII/47f44bec085075d6f5ef4b7f81b5d635b030adab.jpg\n",
            "25/25 [==============================] - 15s 608ms/step\n"
          ]
        },
        {
          "output_type": "stream",
          "name": "stderr",
          "text": [
            "\r 73%|███████▎  | 146/200 [51:21<14:17, 15.88s/it]"
          ]
        },
        {
          "output_type": "stream",
          "name": "stdout",
          "text": [
            "<class 'PIL.Image.Image'>\n",
            "class-imagesII/4de91b216a5c715cad8fdc6ba754deb986b472f9.jpg\n",
            "25/25 [==============================] - 15s 604ms/step\n"
          ]
        },
        {
          "output_type": "stream",
          "name": "stderr",
          "text": [
            "\r 74%|███████▎  | 147/200 [51:37<13:59, 15.83s/it]"
          ]
        },
        {
          "output_type": "stream",
          "name": "stdout",
          "text": [
            "<class 'PIL.Image.Image'>\n",
            "class-imagesII/d6121838e55640e3023aa09b90cde824575b1532.jpg\n",
            "25/25 [==============================] - 15s 608ms/step\n"
          ]
        },
        {
          "output_type": "stream",
          "name": "stderr",
          "text": [
            "\r 74%|███████▍  | 148/200 [51:53<13:42, 15.82s/it]"
          ]
        },
        {
          "output_type": "stream",
          "name": "stdout",
          "text": [
            "<class 'PIL.Image.Image'>\n",
            "class-imagesII/02f917612419c3903c60658b04837f189f42816b.jpg\n",
            "25/25 [==============================] - 15s 607ms/step\n"
          ]
        },
        {
          "output_type": "stream",
          "name": "stderr",
          "text": [
            "\r 74%|███████▍  | 149/200 [52:09<13:31, 15.91s/it]"
          ]
        },
        {
          "output_type": "stream",
          "name": "stdout",
          "text": [
            "<class 'PIL.Image.Image'>\n",
            "class-imagesII/3ff3cc77a23fe8ede78dfc493f5ecd50ea10c230.jpg\n",
            "25/25 [==============================] - 15s 606ms/step\n"
          ]
        },
        {
          "output_type": "stream",
          "name": "stderr",
          "text": [
            "\r 75%|███████▌  | 150/200 [52:25<13:17, 15.95s/it]"
          ]
        },
        {
          "output_type": "stream",
          "name": "stdout",
          "text": [
            "<class 'PIL.Image.Image'>\n",
            "class-imagesII/13fc5c38fd00c3263a879ef1d17563f66b6b2d10.jpg\n",
            "25/25 [==============================] - 15s 605ms/step\n"
          ]
        },
        {
          "output_type": "stream",
          "name": "stderr",
          "text": [
            "\r 76%|███████▌  | 151/200 [52:41<12:58, 15.89s/it]"
          ]
        },
        {
          "output_type": "stream",
          "name": "stdout",
          "text": [
            "<class 'PIL.Image.Image'>\n",
            "class-imagesII/28b3180a61abbcd44dcdfa0a3f36976de8e9a8fc.jpg\n",
            "25/25 [==============================] - 15s 604ms/step\n"
          ]
        },
        {
          "output_type": "stream",
          "name": "stderr",
          "text": [
            "\r 76%|███████▌  | 152/200 [52:56<12:40, 15.84s/it]"
          ]
        },
        {
          "output_type": "stream",
          "name": "stdout",
          "text": [
            "<class 'PIL.Image.Image'>\n",
            "class-imagesII/34e19749c5a1ae9aba47f0ec29d5d810376c070b.jpg\n",
            "25/25 [==============================] - 15s 605ms/step\n"
          ]
        },
        {
          "output_type": "stream",
          "name": "stderr",
          "text": [
            "\r 76%|███████▋  | 153/200 [53:12<12:23, 15.81s/it]"
          ]
        },
        {
          "output_type": "stream",
          "name": "stdout",
          "text": [
            "<class 'PIL.Image.Image'>\n",
            "class-imagesII/62608edc459fa097f8dc86d414b8d3c5fe4cf9c9.jpg\n",
            "25/25 [==============================] - 15s 610ms/step\n"
          ]
        },
        {
          "output_type": "stream",
          "name": "stderr",
          "text": [
            "\r 77%|███████▋  | 154/200 [53:28<12:11, 15.91s/it]"
          ]
        },
        {
          "output_type": "stream",
          "name": "stdout",
          "text": [
            "<class 'PIL.Image.Image'>\n",
            "class-imagesII/2846d1caf941e1c603996c2d7690562245b898b6.jpg\n",
            "25/25 [==============================] - 15s 612ms/step\n"
          ]
        },
        {
          "output_type": "stream",
          "name": "stderr",
          "text": [
            "\r 78%|███████▊  | 155/200 [53:44<11:56, 15.93s/it]"
          ]
        },
        {
          "output_type": "stream",
          "name": "stdout",
          "text": [
            "<class 'PIL.Image.Image'>\n",
            "class-imagesII/648fc2e75c83d9f60fd4d83e0ebc2029c9e74d34.jpg\n",
            "25/25 [==============================] - 15s 606ms/step\n"
          ]
        },
        {
          "output_type": "stream",
          "name": "stderr",
          "text": [
            "\r 78%|███████▊  | 156/200 [54:00<11:38, 15.88s/it]"
          ]
        },
        {
          "output_type": "stream",
          "name": "stdout",
          "text": [
            "<class 'PIL.Image.Image'>\n",
            "class-imagesII/a9ddfc44030c0a0bca8c9482bd96ddc94e4adb29.jpg\n",
            "25/25 [==============================] - 15s 603ms/step\n"
          ]
        },
        {
          "output_type": "stream",
          "name": "stderr",
          "text": [
            "\r 78%|███████▊  | 157/200 [54:16<11:20, 15.82s/it]"
          ]
        },
        {
          "output_type": "stream",
          "name": "stdout",
          "text": [
            "<class 'PIL.Image.Image'>\n",
            "class-imagesII/7b7a8131f606bd8a4594a9cacb1bed940d4ec104.jpg\n",
            "25/25 [==============================] - 15s 605ms/step\n"
          ]
        },
        {
          "output_type": "stream",
          "name": "stderr",
          "text": [
            "\r 79%|███████▉  | 158/200 [54:31<11:03, 15.80s/it]"
          ]
        },
        {
          "output_type": "stream",
          "name": "stdout",
          "text": [
            "<class 'PIL.Image.Image'>\n",
            "class-imagesII/08c1f185800a36cce6972901fa7defbc58ffba0c.jpg\n",
            "25/25 [==============================] - 15s 607ms/step\n"
          ]
        },
        {
          "output_type": "stream",
          "name": "stderr",
          "text": [
            "\r 80%|███████▉  | 159/200 [54:47<10:48, 15.82s/it]"
          ]
        },
        {
          "output_type": "stream",
          "name": "stdout",
          "text": [
            "<class 'PIL.Image.Image'>\n",
            "class-imagesII/46e16fc4541de73ac335a5dd853fb5af8433a091.jpg\n",
            "25/25 [==============================] - 15s 611ms/step\n"
          ]
        },
        {
          "output_type": "stream",
          "name": "stderr",
          "text": [
            "\r 80%|████████  | 160/200 [55:03<10:34, 15.86s/it]"
          ]
        },
        {
          "output_type": "stream",
          "name": "stdout",
          "text": [
            "<class 'PIL.Image.Image'>\n",
            "class-imagesII/d71711a08b9992ef778ce3f1831b172607dffcc6.jpg\n",
            "25/25 [==============================] - 15s 605ms/step\n"
          ]
        },
        {
          "output_type": "stream",
          "name": "stderr",
          "text": [
            "\r 80%|████████  | 161/200 [55:19<10:17, 15.83s/it]"
          ]
        },
        {
          "output_type": "stream",
          "name": "stdout",
          "text": [
            "<class 'PIL.Image.Image'>\n",
            "class-imagesII/4216ef1e3fea952116a0853123eaa8c77c64a693.jpg\n",
            "25/25 [==============================] - 15s 605ms/step\n"
          ]
        },
        {
          "output_type": "stream",
          "name": "stderr",
          "text": [
            "\r 81%|████████  | 162/200 [55:35<10:00, 15.80s/it]"
          ]
        },
        {
          "output_type": "stream",
          "name": "stdout",
          "text": [
            "<class 'PIL.Image.Image'>\n",
            "class-imagesII/aca0fcf540bb78a11a77385925be7e3a0d7ff19e.jpg\n",
            "25/25 [==============================] - 15s 606ms/step\n"
          ]
        },
        {
          "output_type": "stream",
          "name": "stderr",
          "text": [
            "\r 82%|████████▏ | 163/200 [55:51<09:44, 15.79s/it]"
          ]
        },
        {
          "output_type": "stream",
          "name": "stdout",
          "text": [
            "<class 'PIL.Image.Image'>\n",
            "class-imagesII/3b7a4230d6637829777db86119c0ca0495ca0eab.jpg\n",
            "25/25 [==============================] - 15s 607ms/step\n"
          ]
        },
        {
          "output_type": "stream",
          "name": "stderr",
          "text": [
            "\r 82%|████████▏ | 164/200 [56:06<09:28, 15.80s/it]"
          ]
        },
        {
          "output_type": "stream",
          "name": "stdout",
          "text": [
            "<class 'PIL.Image.Image'>\n",
            "class-imagesII/744309f0b9b64d9c974f7b9cce349839176250f4.jpg\n",
            "25/25 [==============================] - 15s 608ms/step\n"
          ]
        },
        {
          "output_type": "stream",
          "name": "stderr",
          "text": [
            "\r 82%|████████▎ | 165/200 [56:22<09:13, 15.81s/it]"
          ]
        },
        {
          "output_type": "stream",
          "name": "stdout",
          "text": [
            "<class 'PIL.Image.Image'>\n",
            "class-imagesII/9302c0a424edbb1bc27ded07ff7bdcd46bda304c.jpg\n",
            "25/25 [==============================] - 15s 607ms/step\n"
          ]
        },
        {
          "output_type": "stream",
          "name": "stderr",
          "text": [
            "\r 83%|████████▎ | 166/200 [56:38<08:57, 15.80s/it]"
          ]
        },
        {
          "output_type": "stream",
          "name": "stdout",
          "text": [
            "<class 'PIL.Image.Image'>\n",
            "class-imagesII/a130c6bf391d61648a63e474c532c76e249e5bd7.jpg\n",
            "25/25 [==============================] - 15s 604ms/step\n"
          ]
        },
        {
          "output_type": "stream",
          "name": "stderr",
          "text": [
            "\r 84%|████████▎ | 167/200 [56:54<08:40, 15.78s/it]"
          ]
        },
        {
          "output_type": "stream",
          "name": "stdout",
          "text": [
            "<class 'PIL.Image.Image'>\n",
            "class-imagesII/37e70951f88e1bcac61fb6e5e0fb791fffe48e6d.jpg\n",
            "25/25 [==============================] - 15s 605ms/step\n"
          ]
        },
        {
          "output_type": "stream",
          "name": "stderr",
          "text": [
            "\r 84%|████████▍ | 168/200 [57:09<08:24, 15.78s/it]"
          ]
        },
        {
          "output_type": "stream",
          "name": "stdout",
          "text": [
            "<class 'PIL.Image.Image'>\n",
            "class-imagesII/705fc48170b86549ab79100d94d48af911c58fa1.jpg\n",
            "25/25 [==============================] - 15s 603ms/step\n"
          ]
        },
        {
          "output_type": "stream",
          "name": "stderr",
          "text": [
            "\r 84%|████████▍ | 169/200 [57:25<08:11, 15.84s/it]"
          ]
        },
        {
          "output_type": "stream",
          "name": "stdout",
          "text": [
            "<class 'PIL.Image.Image'>\n",
            "class-imagesII/800a5f0c5d16e1c3e29b09e4889e455fedcdcc7d.jpg\n",
            "25/25 [==============================] - 15s 609ms/step\n"
          ]
        },
        {
          "output_type": "stream",
          "name": "stderr",
          "text": [
            "\r 85%|████████▌ | 170/200 [57:41<07:55, 15.86s/it]"
          ]
        },
        {
          "output_type": "stream",
          "name": "stdout",
          "text": [
            "<class 'PIL.Image.Image'>\n",
            "class-imagesII/a75cd35a3c93e93818b2dc161532631daa3b0615.jpg\n",
            "25/25 [==============================] - 15s 605ms/step\n"
          ]
        },
        {
          "output_type": "stream",
          "name": "stderr",
          "text": [
            "\r 86%|████████▌ | 171/200 [57:57<07:38, 15.83s/it]"
          ]
        },
        {
          "output_type": "stream",
          "name": "stdout",
          "text": [
            "<class 'PIL.Image.Image'>\n",
            "class-imagesII/6b149283fd4cee8d83d6de84fb0b5c74f071063b.jpg\n",
            "25/25 [==============================] - 15s 613ms/step\n"
          ]
        },
        {
          "output_type": "stream",
          "name": "stderr",
          "text": [
            "\r 86%|████████▌ | 172/200 [58:13<07:24, 15.86s/it]"
          ]
        },
        {
          "output_type": "stream",
          "name": "stdout",
          "text": [
            "<class 'PIL.Image.Image'>\n",
            "class-imagesII/fcbc2f4e3b7e4bc253c1f709b87f52eb5d407108.jpg\n",
            "25/25 [==============================] - 15s 609ms/step\n"
          ]
        },
        {
          "output_type": "stream",
          "name": "stderr",
          "text": [
            "\r 86%|████████▋ | 173/200 [58:29<07:08, 15.86s/it]"
          ]
        },
        {
          "output_type": "stream",
          "name": "stdout",
          "text": [
            "<class 'PIL.Image.Image'>\n",
            "class-imagesII/9e319f8ba7fd6e8d038839735fe23e0e975963f9.jpg\n",
            "25/25 [==============================] - 15s 605ms/step\n"
          ]
        },
        {
          "output_type": "stream",
          "name": "stderr",
          "text": [
            "\r 87%|████████▋ | 174/200 [58:45<06:53, 15.91s/it]"
          ]
        },
        {
          "output_type": "stream",
          "name": "stdout",
          "text": [
            "<class 'PIL.Image.Image'>\n",
            "class-imagesII/e703d40f09aa33badc993813ce6743697257b29c.jpg\n",
            "25/25 [==============================] - 15s 610ms/step\n"
          ]
        },
        {
          "output_type": "stream",
          "name": "stderr",
          "text": [
            "\r 88%|████████▊ | 175/200 [59:01<06:37, 15.92s/it]"
          ]
        },
        {
          "output_type": "stream",
          "name": "stdout",
          "text": [
            "<class 'PIL.Image.Image'>\n",
            "class-imagesII/dfa44c0a65f6e6e2d82d7ee6b9740444ca4e9233.jpg\n",
            "25/25 [==============================] - 15s 608ms/step\n"
          ]
        },
        {
          "output_type": "stream",
          "name": "stderr",
          "text": [
            "\r 88%|████████▊ | 176/200 [59:17<06:21, 15.89s/it]"
          ]
        },
        {
          "output_type": "stream",
          "name": "stdout",
          "text": [
            "<class 'PIL.Image.Image'>\n",
            "class-imagesII/6d8d3ce0c96a5d3f1dc1b179eb0e9183a3d21680.jpg\n",
            "25/25 [==============================] - 15s 607ms/step\n"
          ]
        },
        {
          "output_type": "stream",
          "name": "stderr",
          "text": [
            "\r 88%|████████▊ | 177/200 [59:32<06:04, 15.86s/it]"
          ]
        },
        {
          "output_type": "stream",
          "name": "stdout",
          "text": [
            "<class 'PIL.Image.Image'>\n",
            "class-imagesII/7e55522a0b5f2cadd9e27afa0d59216f24eecf22.jpg\n",
            "25/25 [==============================] - 15s 606ms/step\n"
          ]
        },
        {
          "output_type": "stream",
          "name": "stderr",
          "text": [
            "\r 89%|████████▉ | 178/200 [59:48<05:48, 15.84s/it]"
          ]
        },
        {
          "output_type": "stream",
          "name": "stdout",
          "text": [
            "<class 'PIL.Image.Image'>\n",
            "class-imagesII/c906acf9a4ba1755368ad26f535dbbae15703649.jpg\n",
            "25/25 [==============================] - 15s 611ms/step\n"
          ]
        },
        {
          "output_type": "stream",
          "name": "stderr",
          "text": [
            "\r 90%|████████▉ | 179/200 [1:00:04<05:33, 15.87s/it]"
          ]
        },
        {
          "output_type": "stream",
          "name": "stdout",
          "text": [
            "<class 'PIL.Image.Image'>\n",
            "class-imagesII/248d1e6cd580af29865fca5f15a46d3334eba5b0.jpg\n",
            "25/25 [==============================] - 15s 614ms/step\n"
          ]
        },
        {
          "output_type": "stream",
          "name": "stderr",
          "text": [
            "\r 90%|█████████ | 180/200 [1:00:20<05:19, 15.97s/it]"
          ]
        },
        {
          "output_type": "stream",
          "name": "stdout",
          "text": [
            "<class 'PIL.Image.Image'>\n",
            "class-imagesII/71ae6a804e2acc7bf407098b65dd2ea38c5f4f93.jpg\n",
            "25/25 [==============================] - 15s 607ms/step\n"
          ]
        },
        {
          "output_type": "stream",
          "name": "stderr",
          "text": [
            "\r 90%|█████████ | 181/200 [1:00:36<05:02, 15.92s/it]"
          ]
        },
        {
          "output_type": "stream",
          "name": "stdout",
          "text": [
            "<class 'PIL.Image.Image'>\n",
            "class-imagesII/d0756db68383c25d8c5a17c8cc6f49d33403037f.jpg\n",
            "25/25 [==============================] - 15s 607ms/step\n"
          ]
        },
        {
          "output_type": "stream",
          "name": "stderr",
          "text": [
            "\r 91%|█████████ | 182/200 [1:00:52<04:45, 15.88s/it]"
          ]
        },
        {
          "output_type": "stream",
          "name": "stdout",
          "text": [
            "<class 'PIL.Image.Image'>\n",
            "class-imagesII/6ba30c125b2942588998b43fe4efc9ad2f1efa46.jpg\n",
            "25/25 [==============================] - 15s 604ms/step\n"
          ]
        },
        {
          "output_type": "stream",
          "name": "stderr",
          "text": [
            "\r 92%|█████████▏| 183/200 [1:01:08<04:29, 15.83s/it]"
          ]
        },
        {
          "output_type": "stream",
          "name": "stdout",
          "text": [
            "<class 'PIL.Image.Image'>\n",
            "class-imagesII/22f4c7c61eac95710b6134a5fc67c1a67032a6fd.jpg\n",
            "25/25 [==============================] - 15s 606ms/step\n"
          ]
        },
        {
          "output_type": "stream",
          "name": "stderr",
          "text": [
            "\r 92%|█████████▏| 184/200 [1:01:24<04:14, 15.90s/it]"
          ]
        },
        {
          "output_type": "stream",
          "name": "stdout",
          "text": [
            "<class 'PIL.Image.Image'>\n",
            "class-imagesII/868d0e4f240ec7076132d86137a8fea5a2953457.jpg\n",
            "25/25 [==============================] - 15s 613ms/step\n"
          ]
        },
        {
          "output_type": "stream",
          "name": "stderr",
          "text": [
            "\r 92%|█████████▎| 185/200 [1:01:40<03:58, 15.92s/it]"
          ]
        },
        {
          "output_type": "stream",
          "name": "stdout",
          "text": [
            "<class 'PIL.Image.Image'>\n",
            "class-imagesII/44ec6333a0f56e64f5505d444e93beb290a48e4b.jpg\n",
            "25/25 [==============================] - 15s 607ms/step\n"
          ]
        },
        {
          "output_type": "stream",
          "name": "stderr",
          "text": [
            "\r 93%|█████████▎| 186/200 [1:01:56<03:42, 15.88s/it]"
          ]
        },
        {
          "output_type": "stream",
          "name": "stdout",
          "text": [
            "<class 'PIL.Image.Image'>\n",
            "class-imagesII/94549476dc3468317f51ea14a4d9ef7befa87dc0.jpg\n",
            "25/25 [==============================] - 15s 604ms/step\n"
          ]
        },
        {
          "output_type": "stream",
          "name": "stderr",
          "text": [
            "\r 94%|█████████▎| 187/200 [1:02:11<03:25, 15.84s/it]"
          ]
        },
        {
          "output_type": "stream",
          "name": "stdout",
          "text": [
            "<class 'PIL.Image.Image'>\n",
            "class-imagesII/805c4e1644836d8279cb67dc95112bb82f74e169.jpg\n",
            "25/25 [==============================] - 15s 608ms/step\n"
          ]
        },
        {
          "output_type": "stream",
          "name": "stderr",
          "text": [
            "\r 94%|█████████▍| 188/200 [1:02:27<03:09, 15.83s/it]"
          ]
        },
        {
          "output_type": "stream",
          "name": "stdout",
          "text": [
            "<class 'PIL.Image.Image'>\n",
            "class-imagesII/9cbf770f8ccc24a0245994c23b842b79b5bf29eb.jpg\n",
            "25/25 [==============================] - 15s 607ms/step\n"
          ]
        },
        {
          "output_type": "stream",
          "name": "stderr",
          "text": [
            "\r 94%|█████████▍| 189/200 [1:02:43<02:54, 15.84s/it]"
          ]
        },
        {
          "output_type": "stream",
          "name": "stdout",
          "text": [
            "<class 'PIL.Image.Image'>\n",
            "class-imagesII/8668a854c30d5b5732915a92c526071ce774715a.jpg\n",
            "25/25 [==============================] - 15s 612ms/step\n"
          ]
        },
        {
          "output_type": "stream",
          "name": "stderr",
          "text": [
            "\r 95%|█████████▌| 190/200 [1:02:59<02:39, 15.95s/it]"
          ]
        },
        {
          "output_type": "stream",
          "name": "stdout",
          "text": [
            "<class 'PIL.Image.Image'>\n",
            "class-imagesII/330380c4b30c7c4594d2f747f14e46a7987b800d.jpg\n",
            "25/25 [==============================] - 15s 609ms/step\n"
          ]
        },
        {
          "output_type": "stream",
          "name": "stderr",
          "text": [
            "\r 96%|█████████▌| 191/200 [1:03:15<02:23, 15.92s/it]"
          ]
        },
        {
          "output_type": "stream",
          "name": "stdout",
          "text": [
            "<class 'PIL.Image.Image'>\n",
            "class-imagesII/33368b0921a4cfe348832ca497f032e904a49c1b.jpg\n",
            "25/25 [==============================] - 15s 609ms/step\n"
          ]
        },
        {
          "output_type": "stream",
          "name": "stderr",
          "text": [
            "\r 96%|█████████▌| 192/200 [1:03:31<02:07, 15.89s/it]"
          ]
        },
        {
          "output_type": "stream",
          "name": "stdout",
          "text": [
            "<class 'PIL.Image.Image'>\n",
            "class-imagesII/3db7c66af128e1cc43d768787b49122151c7d7e6.jpg\n",
            "25/25 [==============================] - 15s 607ms/step\n"
          ]
        },
        {
          "output_type": "stream",
          "name": "stderr",
          "text": [
            "\r 96%|█████████▋| 193/200 [1:03:47<01:51, 15.86s/it]"
          ]
        },
        {
          "output_type": "stream",
          "name": "stdout",
          "text": [
            "<class 'PIL.Image.Image'>\n",
            "class-imagesII/17a19c235028bc8e791b863ddf6f9c4d35debc7b.jpg\n",
            "25/25 [==============================] - 15s 611ms/step\n"
          ]
        },
        {
          "output_type": "stream",
          "name": "stderr",
          "text": [
            "\r 97%|█████████▋| 194/200 [1:04:03<01:35, 15.96s/it]"
          ]
        },
        {
          "output_type": "stream",
          "name": "stdout",
          "text": [
            "<class 'PIL.Image.Image'>\n",
            "class-imagesII/fab0757b5d2c9020968b92f60e368c5452c451ba.jpg\n",
            "25/25 [==============================] - 15s 612ms/step\n"
          ]
        },
        {
          "output_type": "stream",
          "name": "stderr",
          "text": [
            "\r 98%|█████████▊| 195/200 [1:04:19<01:19, 15.97s/it]"
          ]
        },
        {
          "output_type": "stream",
          "name": "stdout",
          "text": [
            "<class 'PIL.Image.Image'>\n",
            "class-imagesII/214658e5841041edd7b36cb30441cc717097a703.jpg\n",
            "25/25 [==============================] - 15s 612ms/step\n"
          ]
        },
        {
          "output_type": "stream",
          "name": "stderr",
          "text": [
            "\r 98%|█████████▊| 196/200 [1:04:35<01:03, 15.96s/it]"
          ]
        },
        {
          "output_type": "stream",
          "name": "stdout",
          "text": [
            "<class 'PIL.Image.Image'>\n",
            "class-imagesII/be991fb58de1758c47a570598a9e45cc62666ea1.jpg\n",
            "25/25 [==============================] - 15s 612ms/step\n"
          ]
        },
        {
          "output_type": "stream",
          "name": "stderr",
          "text": [
            "\r 98%|█████████▊| 197/200 [1:04:51<00:47, 15.95s/it]"
          ]
        },
        {
          "output_type": "stream",
          "name": "stdout",
          "text": [
            "<class 'PIL.Image.Image'>\n",
            "class-imagesII/4b3318f908b833dd81939a6691c48174b373b8d2.jpg\n",
            "25/25 [==============================] - 15s 605ms/step\n"
          ]
        },
        {
          "output_type": "stream",
          "name": "stderr",
          "text": [
            "\r 99%|█████████▉| 198/200 [1:05:06<00:31, 15.89s/it]"
          ]
        },
        {
          "output_type": "stream",
          "name": "stdout",
          "text": [
            "<class 'PIL.Image.Image'>\n",
            "class-imagesII/e1cee10b2ded7e6d34d17c1b432d41ed36482e07.jpg\n",
            "25/25 [==============================] - 15s 607ms/step\n"
          ]
        },
        {
          "output_type": "stream",
          "name": "stderr",
          "text": [
            "\r100%|█████████▉| 199/200 [1:05:22<00:15, 15.88s/it]"
          ]
        },
        {
          "output_type": "stream",
          "name": "stdout",
          "text": [
            "<class 'PIL.Image.Image'>\n",
            "class-imagesII/2cf25de5124f4645df1a2f6f3d45930012cf9d4e.jpg\n",
            "25/25 [==============================] - 15s 611ms/step\n"
          ]
        },
        {
          "output_type": "stream",
          "name": "stderr",
          "text": [
            "100%|██████████| 200/200 [1:05:38<00:00, 19.69s/it]\n",
            "\u001b[34m\u001b[1mwandb\u001b[0m: Adding directory to artifact (./class-imagesII)... Done. 0.1s\n"
          ]
        },
        {
          "output_type": "stream",
          "name": "stdout",
          "text": [
            "<class 'PIL.Image.Image'>\n",
            "class-imagesII/ac265e62599bdd82ae90ded36ab34785d10cc7c1.jpg\n"
          ]
        },
        {
          "output_type": "display_data",
          "data": {
            "text/plain": [
              "<IPython.core.display.HTML object>"
            ],
            "text/html": [
              "Waiting for W&B process to finish... <strong style=\"color:green\">(success).</strong>"
            ]
          },
          "metadata": {}
        },
        {
          "output_type": "display_data",
          "data": {
            "text/plain": [
              "<IPython.core.display.HTML object>"
            ],
            "text/html": [
              " View run <strong style=\"color:#cdcd00\">clean-dew-11</strong> at: <a href='https://wandb.ai/babelbots/dreambooth-keras/runs/f38gp058' target=\"_blank\">https://wandb.ai/babelbots/dreambooth-keras/runs/f38gp058</a><br/>Synced 5 W&B file(s), 0 media file(s), 200 artifact file(s) and 0 other file(s)"
            ]
          },
          "metadata": {}
        },
        {
          "output_type": "display_data",
          "data": {
            "text/plain": [
              "<IPython.core.display.HTML object>"
            ],
            "text/html": [
              "Find logs at: <code>./wandb/run-20230508_230746-f38gp058/logs</code>"
            ]
          },
          "metadata": {}
        }
      ]
    },
    {
      "cell_type": "code",
      "source": [],
      "metadata": {
        "id": "jVvOZ-gqyFXs"
      },
      "execution_count": null,
      "outputs": []
    },
    {
      "cell_type": "code",
      "source": [],
      "metadata": {
        "id": "EdALNVPmxNh3"
      },
      "execution_count": null,
      "outputs": []
    },
    {
      "cell_type": "code",
      "source": [],
      "metadata": {
        "id": "WwSwX6QjxZ3T"
      },
      "execution_count": null,
      "outputs": []
    },
    {
      "cell_type": "code",
      "source": [],
      "metadata": {
        "id": "HpDSDkeGyTQ-"
      },
      "execution_count": null,
      "outputs": []
    },
    {
      "cell_type": "code",
      "source": [],
      "metadata": {
        "id": "kdg1OGJN1C_5"
      },
      "execution_count": null,
      "outputs": []
    },
    {
      "cell_type": "code",
      "source": [],
      "metadata": {
        "id": "MDy5y49M2YiF"
      },
      "execution_count": null,
      "outputs": []
    }
  ]
}