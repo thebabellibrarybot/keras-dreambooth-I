{
  "cells": [
    {
      "cell_type": "code",
      "execution_count": null,
      "metadata": {
        "colab": {
          "base_uri": "https://localhost:8080/"
        },
        "id": "hwWFcL1jpYOa",
        "outputId": "f8aa564f-63e7-448c-f9b8-9b0f7bf396f2"
      },
      "outputs": [
        {
          "output_type": "stream",
          "name": "stdout",
          "text": [
            "  Installing build dependencies ... \u001b[?25l\u001b[?25hdone\n",
            "  Getting requirements to build wheel ... \u001b[?25l\u001b[?25hdone\n",
            "  Installing backend dependencies ... \u001b[?25l\u001b[?25hdone\n",
            "  Preparing metadata (pyproject.toml) ... \u001b[?25l\u001b[?25hdone\n",
            "\u001b[2K     \u001b[90m━━━━━━━━━━━━━━━━━━━━━━━━━━━━━━━━━━━━━━━━\u001b[0m \u001b[32m3.4/3.4 MB\u001b[0m \u001b[31m20.2 MB/s\u001b[0m eta \u001b[36m0:00:00\u001b[0m\n",
            "\u001b[2K     \u001b[90m━━━━━━━━━━━━━━━━━━━━━━━━━━━━━━━━━━━━━━\u001b[0m \u001b[32m595.3/595.3 kB\u001b[0m \u001b[31m54.9 MB/s\u001b[0m eta \u001b[36m0:00:00\u001b[0m\n",
            "\u001b[2K     \u001b[90m━━━━━━━━━━━━━━━━━━━━━━━━━━━━━━━━━━━━━━━━\u001b[0m \u001b[32m2.0/2.0 MB\u001b[0m \u001b[31m86.6 MB/s\u001b[0m eta \u001b[36m0:00:00\u001b[0m\n",
            "\u001b[2K     \u001b[90m━━━━━━━━━━━━━━━━━━━━━━━━━━━━━━━━━━━━━━\u001b[0m \u001b[32m184.3/184.3 kB\u001b[0m \u001b[31m24.7 MB/s\u001b[0m eta \u001b[36m0:00:00\u001b[0m\n",
            "\u001b[?25h  Preparing metadata (setup.py) ... \u001b[?25l\u001b[?25hdone\n",
            "\u001b[2K     \u001b[90m━━━━━━━━━━━━━━━━━━━━━━━━━━━━━━━━━━━━━━\u001b[0m \u001b[32m203.3/203.3 kB\u001b[0m \u001b[31m26.6 MB/s\u001b[0m eta \u001b[36m0:00:00\u001b[0m\n",
            "\u001b[2K     \u001b[90m━━━━━━━━━━━━━━━━━━━━━━━━━━━━━━━━━━━━━━━━\u001b[0m \u001b[32m62.7/62.7 kB\u001b[0m \u001b[31m9.1 MB/s\u001b[0m eta \u001b[36m0:00:00\u001b[0m\n",
            "\u001b[?25h  Building wheel for dreambooth-keras (pyproject.toml) ... \u001b[?25l\u001b[?25hdone\n",
            "  Building wheel for pathtools (setup.py) ... \u001b[?25l\u001b[?25hdone\n",
            "Looking in indexes: https://pypi.org/simple, https://us-python.pkg.dev/colab-wheels/public/simple/\n",
            "Requirement already satisfied: wandb in /usr/local/lib/python3.10/dist-packages (0.15.2)\n",
            "Requirement already satisfied: protobuf!=4.21.0,<5,>=3.19.0 in /usr/local/lib/python3.10/dist-packages (from wandb) (3.20.3)\n",
            "Requirement already satisfied: PyYAML in /usr/local/lib/python3.10/dist-packages (from wandb) (6.0)\n",
            "Requirement already satisfied: appdirs>=1.4.3 in /usr/local/lib/python3.10/dist-packages (from wandb) (1.4.4)\n",
            "Requirement already satisfied: requests<3,>=2.0.0 in /usr/local/lib/python3.10/dist-packages (from wandb) (2.27.1)\n",
            "Requirement already satisfied: sentry-sdk>=1.0.0 in /usr/local/lib/python3.10/dist-packages (from wandb) (1.22.2)\n",
            "Requirement already satisfied: psutil>=5.0.0 in /usr/local/lib/python3.10/dist-packages (from wandb) (5.9.5)\n",
            "Requirement already satisfied: setuptools in /usr/local/lib/python3.10/dist-packages (from wandb) (67.7.2)\n",
            "Requirement already satisfied: pathtools in /usr/local/lib/python3.10/dist-packages (from wandb) (0.1.2)\n",
            "Requirement already satisfied: docker-pycreds>=0.4.0 in /usr/local/lib/python3.10/dist-packages (from wandb) (0.4.0)\n",
            "Requirement already satisfied: GitPython!=3.1.29,>=1.0.0 in /usr/local/lib/python3.10/dist-packages (from wandb) (3.1.31)\n",
            "Requirement already satisfied: setproctitle in /usr/local/lib/python3.10/dist-packages (from wandb) (1.3.2)\n",
            "Requirement already satisfied: Click!=8.0.0,>=7.0 in /usr/local/lib/python3.10/dist-packages (from wandb) (8.1.3)\n",
            "Requirement already satisfied: six>=1.4.0 in /usr/local/lib/python3.10/dist-packages (from docker-pycreds>=0.4.0->wandb) (1.16.0)\n",
            "Requirement already satisfied: gitdb<5,>=4.0.1 in /usr/local/lib/python3.10/dist-packages (from GitPython!=3.1.29,>=1.0.0->wandb) (4.0.10)\n",
            "Requirement already satisfied: certifi>=2017.4.17 in /usr/local/lib/python3.10/dist-packages (from requests<3,>=2.0.0->wandb) (2022.12.7)\n",
            "Requirement already satisfied: charset-normalizer~=2.0.0 in /usr/local/lib/python3.10/dist-packages (from requests<3,>=2.0.0->wandb) (2.0.12)\n",
            "Requirement already satisfied: idna<4,>=2.5 in /usr/local/lib/python3.10/dist-packages (from requests<3,>=2.0.0->wandb) (3.4)\n",
            "Requirement already satisfied: urllib3<1.27,>=1.21.1 in /usr/local/lib/python3.10/dist-packages (from requests<3,>=2.0.0->wandb) (1.26.15)\n",
            "Requirement already satisfied: smmap<6,>=3.0.1 in /usr/local/lib/python3.10/dist-packages (from gitdb<5,>=4.0.1->GitPython!=3.1.29,>=1.0.0->wandb) (5.0.0)\n"
          ]
        }
      ],
      "source": [
        "!pip install -q git+https://github.com/soumik12345/dreambooth-keras.git\n",
        "!pip install wandb"
      ]
    },
    {
      "cell_type": "code",
      "execution_count": null,
      "metadata": {
        "id": "vPdUt7PTpgUE"
      },
      "outputs": [],
      "source": [
        "#import wandb"
      ]
    },
    {
      "cell_type": "code",
      "execution_count": null,
      "metadata": {
        "id": "s0THNF1Vphqo"
      },
      "outputs": [],
      "source": [
        "#wandb.init(project=\"dreambooth-keras\", job_type=\"train\")"
      ]
    },
    {
      "cell_type": "code",
      "execution_count": null,
      "metadata": {
        "colab": {
          "base_uri": "https://localhost:8080/"
        },
        "id": "aC9PACu7IDuM",
        "outputId": "7643c5ae-786a-47d3-8535-f3ae3f046ee8"
      },
      "outputs": [
        {
          "output_type": "stream",
          "name": "stdout",
          "text": [
            "Cloning into 'dreambooth-keras'...\n",
            "remote: Enumerating objects: 283, done.\u001b[K\n",
            "remote: Counting objects: 100% (156/156), done.\u001b[K\n",
            "remote: Compressing objects: 100% (86/86), done.\u001b[K\n",
            "remote: Total 283 (delta 97), reused 100 (delta 70), pack-reused 127\u001b[K\n",
            "Receiving objects: 100% (283/283), 944.91 KiB | 866.00 KiB/s, done.\n",
            "Resolving deltas: 100% (161/161), done.\n",
            "/content/dreambooth-keras\n"
          ]
        }
      ],
      "source": [
        "!git clone https://github.com/soumik12345/dreambooth-keras.git\n",
        "%cd dreambooth-keras/"
      ]
    },
    {
      "cell_type": "code",
      "execution_count": null,
      "metadata": {
        "id": "PQF5IvTWprLP",
        "colab": {
          "base_uri": "https://localhost:8080/"
        },
        "outputId": "eb3c842d-9b28-4df6-9875-115831e9f870"
      },
      "outputs": [
        {
          "output_type": "stream",
          "name": "stdout",
          "text": [
            "\u001b[34m\u001b[1mwandb\u001b[0m: (1) Create a W&B account\n",
            "\u001b[34m\u001b[1mwandb\u001b[0m: (2) Use an existing W&B account\n",
            "\u001b[34m\u001b[1mwandb\u001b[0m: (3) Don't visualize my results\n",
            "\u001b[34m\u001b[1mwandb\u001b[0m: Enter your choice: 2\n",
            "\u001b[34m\u001b[1mwandb\u001b[0m: You chose 'Use an existing W&B account'\n",
            "\u001b[34m\u001b[1mwandb\u001b[0m: Logging into wandb.ai. (Learn how to deploy a W&B server locally: https://wandb.me/wandb-server)\n",
            "\u001b[34m\u001b[1mwandb\u001b[0m: You can find your API key in your browser here: https://wandb.ai/authorize\n",
            "\u001b[34m\u001b[1mwandb\u001b[0m: Paste an API key from your profile and hit enter, or press ctrl+c to quit: \n",
            "\u001b[34m\u001b[1mwandb\u001b[0m: Appending key for api.wandb.ai to your netrc file: /root/.netrc\n",
            "\u001b[34m\u001b[1mwandb\u001b[0m: Tracking run with wandb version 0.15.2\n",
            "\u001b[34m\u001b[1mwandb\u001b[0m: Run data is saved locally in \u001b[35m\u001b[1m/content/dreambooth-keras/wandb/run-20230509_114445-2inz2rj1\u001b[0m\n",
            "\u001b[34m\u001b[1mwandb\u001b[0m: Run \u001b[1m`wandb offline`\u001b[0m to turn off syncing.\n",
            "\u001b[34m\u001b[1mwandb\u001b[0m: Syncing run \u001b[33mlr@5e-06-max_train_steps@1500-train_text_encoder@True\u001b[0m\n",
            "\u001b[34m\u001b[1mwandb\u001b[0m: ⭐️ View project at \u001b[34m\u001b[4mhttps://wandb.ai/babelbots/dreambooth-keras\u001b[0m\n",
            "\u001b[34m\u001b[1mwandb\u001b[0m: 🚀 View run at \u001b[34m\u001b[4mhttps://wandb.ai/babelbots/dreambooth-keras/runs/2inz2rj1\u001b[0m\n",
            "Enabling mixed-precision...\n",
            "Initializing dataset...\n",
            "Downloading data from https://github.com/openai/CLIP/blob/main/clip/bpe_simple_vocab_16e6.txt.gz?raw=true\n",
            "1356917/1356917 [==============================] - 0s 0us/step\n",
            "Downloading instance and class images...\n",
            "\u001b[34m\u001b[1mwandb\u001b[0m:   15 of 15 files downloaded.  \n",
            "\u001b[34m\u001b[1mwandb\u001b[0m:   200 of 200 files downloaded.  \n",
            "Assembling instance and class datasets...\n",
            "WARNING:tensorflow:Using a while_loop for converting RngReadAndSkip cause there is no registered converter for this op.\n",
            "WARNING:tensorflow:Using a while_loop for converting Bitcast cause there is no registered converter for this op.\n",
            "WARNING:tensorflow:Using a while_loop for converting Bitcast cause there is no registered converter for this op.\n",
            "WARNING:tensorflow:Using a while_loop for converting StatelessRandomUniformV2 cause there is no registered converter for this op.\n",
            "WARNING:tensorflow:Using a while_loop for converting RngReadAndSkip cause there is no registered converter for this op.\n",
            "WARNING:tensorflow:Using a while_loop for converting Bitcast cause there is no registered converter for this op.\n",
            "WARNING:tensorflow:Using a while_loop for converting Bitcast cause there is no registered converter for this op.\n",
            "WARNING:tensorflow:Using a while_loop for converting StatelessRandomUniformV2 cause there is no registered converter for this op.\n",
            "Initializing trainer...\n",
            "Downloading data from https://huggingface.co/fchollet/stable-diffusion/resolve/main/vae_encoder.h5\n",
            "136824240/136824240 [==============================] - 11s 0us/step\n",
            "Downloading data from https://huggingface.co/fchollet/stable-diffusion/resolve/main/kcv_diffusion_model.h5\n",
            "3439090152/3439090152 [==============================] - 10s 0us/step\n",
            "Downloading data from https://huggingface.co/fchollet/stable-diffusion/resolve/main/kcv_encoder.h5\n",
            "492466864/492466864 [==============================] - 1s 0us/step\n",
            "DreamBooth trainer initialized and compiled.\n",
            "By using this model checkpoint, you acknowledge that its usage is subject to the terms of the CreativeML Open RAIL-M license at https://raw.githubusercontent.com/CompVis/stable-diffusion/main/LICENSE\n",
            "Training for 8 epochs.\n",
            "Epoch 1/8\n",
            "WARNING:tensorflow:From /usr/local/lib/python3.10/dist-packages/tensorflow/python/util/deprecation.py:648: calling map_fn_v2 (from tensorflow.python.ops.map_fn) with dtype is deprecated and will be removed in a future version.\n",
            "Instructions for updating:\n",
            "Use fn_output_signature instead\n",
            "200/200 [==============================] - ETA: 0s - loss: 0.0585Performing inference for logging generated images for epoch 0...\n",
            "Number of images to generate: 5\n",
            "50/50 [==============================] - 30s 319ms/step\n",
            "Downloading data from https://huggingface.co/fchollet/stable-diffusion/resolve/main/kcv_decoder.h5\n",
            "198180272/198180272 [==============================] - 1s 0us/step\n",
            "50/50 [==============================] - 16s 319ms/step\n",
            "50/50 [==============================] - 16s 319ms/step\n",
            "50/50 [==============================] - 16s 319ms/step\n",
            "50/50 [==============================] - 16s 319ms/step\n",
            "50/50 [==============================] - 16s 318ms/step\n",
            "50/50 [==============================] - 16s 318ms/step\n",
            "50/50 [==============================] - 16s 319ms/step\n",
            "200/200 [==============================] - 697s 2s/step - loss: 0.0585\n",
            "Epoch 2/8\n",
            "200/200 [==============================] - ETA: 0s - loss: 0.0470Performing inference for logging generated images for epoch 1...\n",
            "Number of images to generate: 5\n",
            "50/50 [==============================] - 16s 321ms/step\n",
            "50/50 [==============================] - 16s 321ms/step\n",
            "50/50 [==============================] - 16s 320ms/step\n",
            "50/50 [==============================] - 16s 320ms/step\n",
            "50/50 [==============================] - 16s 320ms/step\n",
            "50/50 [==============================] - 16s 320ms/step\n",
            "50/50 [==============================] - 16s 320ms/step\n",
            "50/50 [==============================] - 16s 320ms/step\n",
            "200/200 [==============================] - 266s 1s/step - loss: 0.0470\n",
            "Epoch 3/8\n",
            "200/200 [==============================] - ETA: 0s - loss: 0.0473Performing inference for logging generated images for epoch 2...\n",
            "Number of images to generate: 5\n",
            "50/50 [==============================] - 16s 320ms/step\n",
            "50/50 [==============================] - 16s 320ms/step\n",
            "50/50 [==============================] - 16s 320ms/step\n",
            "50/50 [==============================] - 16s 320ms/step\n",
            "50/50 [==============================] - 16s 320ms/step\n",
            "50/50 [==============================] - 16s 320ms/step\n",
            "50/50 [==============================] - 16s 320ms/step\n",
            "50/50 [==============================] - 16s 320ms/step\n",
            "200/200 [==============================] - 265s 1s/step - loss: 0.0473\n",
            "Epoch 4/8\n",
            "200/200 [==============================] - ETA: 0s - loss: 0.0541Performing inference for logging generated images for epoch 3...\n",
            "Number of images to generate: 5\n",
            "50/50 [==============================] - 16s 320ms/step\n",
            "50/50 [==============================] - 16s 320ms/step\n",
            "50/50 [==============================] - 16s 319ms/step\n",
            "50/50 [==============================] - 16s 319ms/step\n",
            "50/50 [==============================] - 16s 319ms/step\n",
            "50/50 [==============================] - 16s 319ms/step\n",
            "50/50 [==============================] - 16s 319ms/step\n",
            "50/50 [==============================] - 16s 318ms/step\n",
            "200/200 [==============================] - 263s 1s/step - loss: 0.0541\n",
            "Epoch 5/8\n",
            "200/200 [==============================] - ETA: 0s - loss: 0.0511Performing inference for logging generated images for epoch 4...\n",
            "Number of images to generate: 5\n",
            "50/50 [==============================] - 16s 320ms/step\n",
            "50/50 [==============================] - 16s 320ms/step\n",
            "50/50 [==============================] - 16s 320ms/step\n",
            "50/50 [==============================] - 16s 320ms/step\n",
            "50/50 [==============================] - 16s 319ms/step\n",
            "50/50 [==============================] - 16s 319ms/step\n",
            "50/50 [==============================] - 16s 319ms/step\n",
            "50/50 [==============================] - 16s 319ms/step\n",
            "200/200 [==============================] - 266s 1s/step - loss: 0.0511\n",
            "Epoch 6/8\n",
            "200/200 [==============================] - ETA: 0s - loss: 0.0408Performing inference for logging generated images for epoch 5...\n",
            "Number of images to generate: 5\n",
            "50/50 [==============================] - 16s 320ms/step\n",
            "50/50 [==============================] - 16s 319ms/step\n",
            "50/50 [==============================] - 16s 319ms/step\n",
            "50/50 [==============================] - 16s 319ms/step\n",
            "50/50 [==============================] - 16s 318ms/step\n",
            "50/50 [==============================] - 16s 319ms/step\n",
            "50/50 [==============================] - 16s 319ms/step\n",
            "50/50 [==============================] - 16s 318ms/step\n",
            "200/200 [==============================] - 265s 1s/step - loss: 0.0408\n",
            "Epoch 7/8\n",
            "200/200 [==============================] - ETA: 0s - loss: 0.0402Performing inference for logging generated images for epoch 6...\n",
            "Number of images to generate: 5\n",
            "50/50 [==============================] - 16s 320ms/step\n",
            "50/50 [==============================] - 16s 319ms/step\n",
            "50/50 [==============================] - 16s 318ms/step\n",
            "50/50 [==============================] - 16s 319ms/step\n",
            "50/50 [==============================] - 16s 319ms/step\n",
            "50/50 [==============================] - 16s 319ms/step\n",
            "50/50 [==============================] - 16s 318ms/step\n",
            "50/50 [==============================] - 16s 318ms/step\n",
            "200/200 [==============================] - 268s 1s/step - loss: 0.0402\n",
            "Epoch 8/8\n",
            "200/200 [==============================] - ETA: 0s - loss: 0.0461Performing inference for logging generated images for epoch 7...\n",
            "Number of images to generate: 5\n",
            "50/50 [==============================] - 16s 319ms/step\n",
            "50/50 [==============================] - 16s 319ms/step\n",
            "50/50 [==============================] - 16s 319ms/step\n",
            "50/50 [==============================] - 16s 319ms/step\n",
            "50/50 [==============================] - 16s 320ms/step\n",
            "50/50 [==============================] - 16s 319ms/step\n",
            "50/50 [==============================] - 16s 320ms/step\n",
            "50/50 [==============================] - 16s 320ms/step\n",
            "200/200 [==============================] - 270s 1s/step - loss: 0.0461\n",
            "\u001b[34m\u001b[1mwandb\u001b[0m: Waiting for W&B process to finish... \u001b[32m(success).\u001b[0m\n",
            "\u001b[34m\u001b[1mwandb\u001b[0m: \n",
            "\u001b[34m\u001b[1mwandb\u001b[0m: Run history:\n",
            "\u001b[34m\u001b[1mwandb\u001b[0m:    batch/batch_step ▁▁▁▁▂▂▂▂▂▃▃▃▃▃▃▄▄▄▄▄▅▅▅▅▅▅▆▆▆▆▆▇▇▇▇▇▇███\n",
            "\u001b[34m\u001b[1mwandb\u001b[0m: batch/learning_rate ▁▁▁▁▁▁▁▁▁▁▁▁▁▁▁▁▁▁▁▁▁▁▁▁▁▁▁▁▁▁▁▁▁▁▁▁▁▁▁▁\n",
            "\u001b[34m\u001b[1mwandb\u001b[0m:          batch/loss █▆▅▄▄▁▂▂▃▃▃▂▃▃▃▂▃▃▄▄▂▂▂▃▃▂▂▁▂▂▁▂▂▂▂▆▃▃▃▃\n",
            "\u001b[34m\u001b[1mwandb\u001b[0m:         epoch/epoch ▁▂▃▄▅▆▇█\n",
            "\u001b[34m\u001b[1mwandb\u001b[0m: epoch/learning_rate ▁▁▁▁▁▁▁▁\n",
            "\u001b[34m\u001b[1mwandb\u001b[0m:          epoch/loss █▄▄▆▅▁▁▃\n",
            "\u001b[34m\u001b[1mwandb\u001b[0m: \n",
            "\u001b[34m\u001b[1mwandb\u001b[0m: Run summary:\n",
            "\u001b[34m\u001b[1mwandb\u001b[0m:    batch/batch_step 1599\n",
            "\u001b[34m\u001b[1mwandb\u001b[0m: batch/learning_rate 0.0\n",
            "\u001b[34m\u001b[1mwandb\u001b[0m:          batch/loss 0.04614\n",
            "\u001b[34m\u001b[1mwandb\u001b[0m:         epoch/epoch 7\n",
            "\u001b[34m\u001b[1mwandb\u001b[0m: epoch/learning_rate 0.0\n",
            "\u001b[34m\u001b[1mwandb\u001b[0m:          epoch/loss 0.04614\n",
            "\u001b[34m\u001b[1mwandb\u001b[0m: \n",
            "\u001b[34m\u001b[1mwandb\u001b[0m: 🚀 View run \u001b[33mlr@5e-06-max_train_steps@1500-train_text_encoder@True\u001b[0m at: \u001b[34m\u001b[4mhttps://wandb.ai/babelbots/dreambooth-keras/runs/2inz2rj1\u001b[0m\n",
            "\u001b[34m\u001b[1mwandb\u001b[0m: Synced 5 W&B file(s), 321 media file(s), 339 artifact file(s) and 0 other file(s)\n",
            "\u001b[34m\u001b[1mwandb\u001b[0m: Find logs at: \u001b[35m\u001b[1m./wandb/run-20230509_114445-2inz2rj1/logs\u001b[0m\n"
          ]
        }
      ],
      "source": [
        "\n",
        "\n",
        "\n",
        "!python train_dreambooth.py \\\n",
        "    --instance_images_url \"babelbots/dreambooth-keras/my-dataset:v0\" \\\n",
        "    --class_images_url \"babelbots/dreambooth-keras/mc-instance:v0\" \\\n",
        "    --class_category mc-instance \\\n",
        "    --batch_size 1 \\\n",
        "    --log_wandb \\\n",
        "    --lr 5e-06 \\\n",
        "    --max_train_steps 1500 \\\n",
        "    --mp \\\n",
        "    --train_text_encoder \\\n",
        "    --validation_prompts \\\n",
        "        \"a photo of sks pixel-art-character beside a cat\" \\\n",
        "        \"a photo of sks pixel-art-character riding on a bicycle\" \\\n",
        "        \"a photo of sks pixel-art-character dressed as an astronaut\" \\\n",
        "        \"a photo of sks pixel-art-character in front of the taj mahal\" \\\n",
        "        \"a photo of sks pixel-art-character wearing sunglasses\" \\\n",
        "        \"a photo of sks pixel-art-character in the style of Rembrandt\" \\\n",
        "        \"a photo of sks pixel-art-character jumping\" \\"
      ]
    },
    {
      "cell_type": "code",
      "execution_count": null,
      "metadata": {
        "id": "obfE0xuDvk6g"
      },
      "outputs": [],
      "source": [
        "#wandb.finish()\n"
      ]
    },
    {
      "cell_type": "code",
      "execution_count": null,
      "metadata": {
        "id": "UanB_MT6INQM"
      },
      "outputs": [],
      "source": []
    },
    {
      "cell_type": "code",
      "execution_count": null,
      "metadata": {
        "id": "5X-A00Z4IRh5"
      },
      "outputs": [],
      "source": []
    }
  ],
  "metadata": {
    "accelerator": "GPU",
    "colab": {
      "provenance": [],
      "gpuType": "A100"
    },
    "gpuClass": "standard",
    "kernelspec": {
      "display_name": "Python 3",
      "name": "python3"
    },
    "language_info": {
      "name": "python"
    }
  },
  "nbformat": 4,
  "nbformat_minor": 0
}